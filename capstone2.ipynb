{
 "cells": [
  {
   "cell_type": "code",
   "execution_count": 1,
   "metadata": {},
   "outputs": [],
   "source": [
    "import pandas as pd\n",
    "from matplotlib import pyplot as plt\n",
    "import numpy as np\n",
    "import warnings\n",
    "warnings.filterwarnings('ignore')"
   ]
  },
  {
   "cell_type": "code",
   "execution_count": 2,
   "metadata": {},
   "outputs": [],
   "source": [
    "house_data = pd.read_csv('C:\\kc_house_data.csv')"
   ]
  },
  {
   "cell_type": "markdown",
   "metadata": {},
   "source": [
    "The dataset to be used is King County, Washington housing data. This dataset was found at [kaggle](https://www.kaggle.com/harlfoxem/housesalesprediction) and covers house sales in King County, Washington from May 2014 to May 2015."
   ]
  },
  {
   "cell_type": "markdown",
   "metadata": {},
   "source": [
    "### Introducing the Dataset"
   ]
  },
  {
   "cell_type": "code",
   "execution_count": 3,
   "metadata": {},
   "outputs": [
    {
     "name": "stdout",
     "output_type": "stream",
     "text": [
      "<class 'pandas.core.frame.DataFrame'>\n",
      "RangeIndex: 21613 entries, 0 to 21612\n",
      "Data columns (total 21 columns):\n",
      "id               21613 non-null int64\n",
      "date             21613 non-null object\n",
      "price            21613 non-null float64\n",
      "bedrooms         21613 non-null int64\n",
      "bathrooms        21613 non-null float64\n",
      "sqft_living      21613 non-null int64\n",
      "sqft_lot         21613 non-null int64\n",
      "floors           21613 non-null float64\n",
      "waterfront       21613 non-null int64\n",
      "view             21613 non-null int64\n",
      "condition        21613 non-null int64\n",
      "grade            21613 non-null int64\n",
      "sqft_above       21613 non-null int64\n",
      "sqft_basement    21613 non-null int64\n",
      "yr_built         21613 non-null int64\n",
      "yr_renovated     21613 non-null int64\n",
      "zipcode          21613 non-null int64\n",
      "lat              21613 non-null float64\n",
      "long             21613 non-null float64\n",
      "sqft_living15    21613 non-null int64\n",
      "sqft_lot15       21613 non-null int64\n",
      "dtypes: float64(5), int64(15), object(1)\n",
      "memory usage: 3.5+ MB\n",
      "None\n"
     ]
    },
    {
     "data": {
      "text/plain": [
       "(21613, 21)"
      ]
     },
     "execution_count": 3,
     "metadata": {},
     "output_type": "execute_result"
    }
   ],
   "source": [
    "print(house_data.info())\n",
    "house_data.shape"
   ]
  },
  {
   "cell_type": "markdown",
   "metadata": {},
   "source": [
    "Of the columns in the dataset, most are self-explantory. Those that are not are explained here:\n",
    "\n",
    "Waterfront: 1 if the property has a waterfront view, 0 otherwise\n",
    "\n",
    "View: a rating of the property's view\n",
    "\n",
    "Sqft_living15: the average living space of the 15 closest neighbors\n",
    "\n",
    "Sqft_lot15: the average lot space of the 15 closest neighbors."
   ]
  },
  {
   "cell_type": "markdown",
   "metadata": {},
   "source": [
    "From the above `info` call it is apparent that there are no null values in the dataset. The next step is to visualize the data and determine which features are important as well as which features are categorical."
   ]
  },
  {
   "cell_type": "markdown",
   "metadata": {},
   "source": [
    "### Visualizing the Data"
   ]
  },
  {
   "cell_type": "markdown",
   "metadata": {},
   "source": [
    "For this investigation, the target variable is **price**, so each column will be shown with its relation to **price**."
   ]
  },
  {
   "cell_type": "code",
   "execution_count": 4,
   "metadata": {},
   "outputs": [
    {
     "data": {
      "text/plain": [
       "count    21613.000000\n",
       "mean         3.370842\n",
       "std          0.930062\n",
       "min          0.000000\n",
       "25%          3.000000\n",
       "50%          3.000000\n",
       "75%          4.000000\n",
       "max         33.000000\n",
       "Name: bedrooms, dtype: float64"
      ]
     },
     "execution_count": 4,
     "metadata": {},
     "output_type": "execute_result"
    }
   ],
   "source": [
    "house_data.bedrooms.describe()"
   ]
  },
  {
   "cell_type": "markdown",
   "metadata": {},
   "source": [
    "From the above `describe` call, the house with 33 bedrooms is a clear outlier. Additionally, bedrooms will be treated as a categorical variable because houses are categorized based on the number of bedrooms and bathrooms they have (when searching for houses, people want a 2 bed/2 bath house, for example). Winsorizing the data will fix the outlier problem, and then the data can be visualized."
   ]
  },
  {
   "cell_type": "code",
   "execution_count": 5,
   "metadata": {},
   "outputs": [
    {
     "data": {
      "image/png": "[encoded data removed]",
      "text/plain": [
       "<Figure size 432x288 with 1 Axes>"
      ]
     },
     "metadata": {
      "needs_background": "light"
     },
     "output_type": "display_data"
    }
   ],
   "source": [
    "from scipy.stats.mstats import winsorize\n",
    "house_data['winsorized_bedrooms'] = winsorize(house_data['bedrooms'],(0,.1))\n",
    "plt.bar(house_data.groupby('winsorized_bedrooms')['price'].mean().index, house_data.groupby('winsorized_bedrooms')[\"price\"].mean());"
   ]
  },
  {
   "cell_type": "markdown",
   "metadata": {},
   "source": [
    "Apart from the houses with 0 bedrooms, there is a clearly positive correlation between number of bedrooms and house price."
   ]
  },
  {
   "cell_type": "code",
   "execution_count": 6,
   "metadata": {},
   "outputs": [
    {
     "data": {
      "text/plain": [
       "count    21613.000000\n",
       "mean         3.409430\n",
       "std          0.650743\n",
       "min          1.000000\n",
       "25%          3.000000\n",
       "50%          3.000000\n",
       "75%          4.000000\n",
       "max          5.000000\n",
       "Name: condition, dtype: float64"
      ]
     },
     "execution_count": 6,
     "metadata": {},
     "output_type": "execute_result"
    }
   ],
   "source": [
    "house_data.condition.describe()"
   ]
  },
  {
   "cell_type": "markdown",
   "metadata": {},
   "source": [
    "Condition is also clearly a non-continuous categorical variable that ranges between 1 and 5."
   ]
  },
  {
   "cell_type": "code",
   "execution_count": 7,
   "metadata": {},
   "outputs": [
    {
     "data": {
      "image/png": "[encoded data removed]",
      "text/plain": [
       "<Figure size 432x288 with 1 Axes>"
      ]
     },
     "metadata": {
      "needs_background": "light"
     },
     "output_type": "display_data"
    }
   ],
   "source": [
    "plt.bar(house_data.groupby('condition')['price'].mean().index, house_data.groupby('condition')[\"price\"].mean());"
   ]
  },
  {
   "cell_type": "markdown",
   "metadata": {},
   "source": [
    "Although the trend is less apparent than the bedrooms trend, it would appear that houses with higher overall conditions fetch higher prices."
   ]
  },
  {
   "cell_type": "code",
   "execution_count": 8,
   "metadata": {},
   "outputs": [
    {
     "data": {
      "text/plain": [
       "count    21613.000000\n",
       "mean         2.114757\n",
       "std          0.770163\n",
       "min          0.000000\n",
       "25%          1.750000\n",
       "50%          2.250000\n",
       "75%          2.500000\n",
       "max          8.000000\n",
       "Name: bathrooms, dtype: float64"
      ]
     },
     "execution_count": 8,
     "metadata": {},
     "output_type": "execute_result"
    }
   ],
   "source": [
    "house_data.bathrooms.describe()"
   ]
  },
  {
   "cell_type": "code",
   "execution_count": 9,
   "metadata": {},
   "outputs": [
    {
     "data": {
      "image/png": "[encoded data removed]",
      "text/plain": [
       "<Figure size 432x288 with 1 Axes>"
      ]
     },
     "metadata": {
      "needs_background": "light"
     },
     "output_type": "display_data"
    }
   ],
   "source": [
    "plt.bar(house_data.groupby('bathrooms')['price'].mean().index, house_data.groupby('bathrooms')[\"price\"].mean());"
   ]
  },
  {
   "cell_type": "code",
   "execution_count": 10,
   "metadata": {},
   "outputs": [
    {
     "data": {
      "text/plain": [
       "array([1.  , 2.25, 3.  , 2.  , 4.5 , 1.5 , 2.5 , 1.75, 2.75, 3.25, 4.  ,\n",
       "       3.5 , 0.75, 4.75, 5.  , 4.25, 3.75, 0.  , 1.25, 5.25, 6.  , 0.5 ,\n",
       "       5.5 , 6.75, 5.75, 8.  , 7.5 , 7.75, 6.25, 6.5 ])"
      ]
     },
     "execution_count": 10,
     "metadata": {},
     "output_type": "execute_result"
    }
   ],
   "source": [
    "house_data.bathrooms.unique()"
   ]
  },
  {
   "cell_type": "markdown",
   "metadata": {},
   "source": [
    "As with bedrooms and condition, bathrooms is not a truly continuous variable (bathrooms are categorized in increments of one quarter). There is also a positive correlation between number of bathrooms and overall price."
   ]
  },
  {
   "cell_type": "code",
   "execution_count": 11,
   "metadata": {},
   "outputs": [
    {
     "data": {
      "text/plain": [
       "count    21613.000000\n",
       "mean      2079.899736\n",
       "std        918.440897\n",
       "min        290.000000\n",
       "25%       1427.000000\n",
       "50%       1910.000000\n",
       "75%       2550.000000\n",
       "max      13540.000000\n",
       "Name: sqft_living, dtype: float64"
      ]
     },
     "execution_count": 11,
     "metadata": {},
     "output_type": "execute_result"
    }
   ],
   "source": [
    "house_data.sqft_living.describe()"
   ]
  },
  {
   "cell_type": "code",
   "execution_count": 12,
   "metadata": {},
   "outputs": [
    {
     "data": {
      "image/png": "[encoded data removed]",
      "text/plain": [
       "<Figure size 432x288 with 1 Axes>"
      ]
     },
     "metadata": {
      "needs_background": "light"
     },
     "output_type": "display_data"
    }
   ],
   "source": [
    "plt.scatter(house_data.sqft_living, house_data.price);"
   ]
  },
  {
   "cell_type": "markdown",
   "metadata": {},
   "source": [
    "Living room sq. ft. is the first continuous feature in the set, and there is a clear positive trend between it and overall price."
   ]
  },
  {
   "cell_type": "code",
   "execution_count": 13,
   "metadata": {},
   "outputs": [
    {
     "data": {
      "text/plain": [
       "count    2.161300e+04\n",
       "mean     1.510697e+04\n",
       "std      4.142051e+04\n",
       "min      5.200000e+02\n",
       "25%      5.040000e+03\n",
       "50%      7.618000e+03\n",
       "75%      1.068800e+04\n",
       "max      1.651359e+06\n",
       "Name: sqft_lot, dtype: float64"
      ]
     },
     "execution_count": 13,
     "metadata": {},
     "output_type": "execute_result"
    }
   ],
   "source": [
    "house_data.sqft_lot.describe()"
   ]
  },
  {
   "cell_type": "code",
   "execution_count": 14,
   "metadata": {},
   "outputs": [
    {
     "data": {
      "image/png": "[encoded data removed]",
      "text/plain": [
       "<Figure size 432x288 with 1 Axes>"
      ]
     },
     "metadata": {
      "needs_background": "light"
     },
     "output_type": "display_data"
    }
   ],
   "source": [
    "plt.scatter(house_data.sqft_lot, house_data.price);"
   ]
  },
  {
   "cell_type": "code",
   "execution_count": 15,
   "metadata": {},
   "outputs": [
    {
     "data": {
      "image/png": "[encoded data removed]",
      "text/plain": [
       "<Figure size 432x288 with 1 Axes>"
      ]
     },
     "metadata": {
      "needs_background": "light"
     },
     "output_type": "display_data"
    }
   ],
   "source": [
    "plt.boxplot(house_data.sqft_lot);"
   ]
  },
  {
   "cell_type": "markdown",
   "metadata": {},
   "source": [
    "The above scatterplot shows that there may be a weak trend between overall lot square footage and price. The boxplot shows that most of the data points are outliers, so winsorizing this variable is sensible."
   ]
  },
  {
   "cell_type": "code",
   "execution_count": 16,
   "metadata": {},
   "outputs": [],
   "source": [
    "house_data['winsorized_lot_sqft'] = winsorize(house_data['sqft_lot'],(.1,.1))"
   ]
  },
  {
   "cell_type": "code",
   "execution_count": 17,
   "metadata": {},
   "outputs": [
    {
     "data": {
      "image/png": "[encoded data removed]",
      "text/plain": [
       "<Figure size 432x288 with 1 Axes>"
      ]
     },
     "metadata": {
      "needs_background": "light"
     },
     "output_type": "display_data"
    }
   ],
   "source": [
    "plt.boxplot(house_data.winsorized_lot_sqft);"
   ]
  },
  {
   "cell_type": "markdown",
   "metadata": {},
   "source": [
    "Now that the data has been winsorized, the number of outliers has been reduced."
   ]
  },
  {
   "cell_type": "code",
   "execution_count": 18,
   "metadata": {},
   "outputs": [
    {
     "name": "stdout",
     "output_type": "stream",
     "text": [
      "[1.  2.  1.5 3.  2.5 3.5]\n"
     ]
    },
    {
     "data": {
      "text/plain": [
       "count    21613.000000\n",
       "mean         1.494309\n",
       "std          0.539989\n",
       "min          1.000000\n",
       "25%          1.000000\n",
       "50%          1.500000\n",
       "75%          2.000000\n",
       "max          3.500000\n",
       "Name: floors, dtype: float64"
      ]
     },
     "execution_count": 18,
     "metadata": {},
     "output_type": "execute_result"
    }
   ],
   "source": [
    "print(house_data.floors.unique())\n",
    "house_data.floors.describe()"
   ]
  },
  {
   "cell_type": "code",
   "execution_count": 19,
   "metadata": {},
   "outputs": [
    {
     "data": {
      "image/png": "[encoded data removed]",
      "text/plain": [
       "<Figure size 432x288 with 1 Axes>"
      ]
     },
     "metadata": {
      "needs_background": "light"
     },
     "output_type": "display_data"
    }
   ],
   "source": [
    "plt.bar(house_data.groupby('floors')['price'].mean().index, house_data.groupby('floors')[\"price\"].mean());"
   ]
  },
  {
   "cell_type": "markdown",
   "metadata": {},
   "source": [
    "The number of floors in a house is not a continuous variable, and there seems to be at least a weak correlation between number of floors and house price."
   ]
  },
  {
   "cell_type": "code",
   "execution_count": 20,
   "metadata": {},
   "outputs": [
    {
     "name": "stdout",
     "output_type": "stream",
     "text": [
      "[0 1]\n"
     ]
    },
    {
     "data": {
      "text/plain": [
       "count    21613.000000\n",
       "mean         0.007542\n",
       "std          0.086517\n",
       "min          0.000000\n",
       "25%          0.000000\n",
       "50%          0.000000\n",
       "75%          0.000000\n",
       "max          1.000000\n",
       "Name: waterfront, dtype: float64"
      ]
     },
     "execution_count": 20,
     "metadata": {},
     "output_type": "execute_result"
    }
   ],
   "source": [
    "print(house_data.waterfront.unique())\n",
    "house_data.waterfront.describe()"
   ]
  },
  {
   "cell_type": "code",
   "execution_count": 21,
   "metadata": {},
   "outputs": [
    {
     "data": {
      "text/plain": [
       "waterfront\n",
       "0    5.315636e+05\n",
       "1    1.661876e+06\n",
       "Name: price, dtype: float64"
      ]
     },
     "execution_count": 21,
     "metadata": {},
     "output_type": "execute_result"
    }
   ],
   "source": [
    "house_data.groupby('waterfront')['price'].mean()"
   ]
  },
  {
   "cell_type": "markdown",
   "metadata": {},
   "source": [
    "Waterfront is a categorical variable that can only take 2 values: 0 or 1. Waterfront properties fetch higher prices on average than non-waterfront properties."
   ]
  },
  {
   "cell_type": "code",
   "execution_count": 22,
   "metadata": {},
   "outputs": [
    {
     "name": "stdout",
     "output_type": "stream",
     "text": [
      "[0 3 4 2 1]\n"
     ]
    },
    {
     "data": {
      "text/plain": [
       "count    21613.000000\n",
       "mean         0.234303\n",
       "std          0.766318\n",
       "min          0.000000\n",
       "25%          0.000000\n",
       "50%          0.000000\n",
       "75%          0.000000\n",
       "max          4.000000\n",
       "Name: view, dtype: float64"
      ]
     },
     "execution_count": 22,
     "metadata": {},
     "output_type": "execute_result"
    }
   ],
   "source": [
    "print(house_data.view.unique())\n",
    "house_data.view.describe()"
   ]
  },
  {
   "cell_type": "code",
   "execution_count": 23,
   "metadata": {},
   "outputs": [
    {
     "data": {
      "image/png": "[encoded data removed]",
      "text/plain": [
       "<Figure size 432x288 with 1 Axes>"
      ]
     },
     "metadata": {
      "needs_background": "light"
     },
     "output_type": "display_data"
    }
   ],
   "source": [
    "plt.bar(house_data.groupby('view')['price'].mean().index, house_data.groupby('view')[\"price\"].mean());"
   ]
  },
  {
   "cell_type": "markdown",
   "metadata": {},
   "source": [
    "View is another categorical variable, and there is a trend that houses with higher view values (i.e. better views) have higher prices."
   ]
  },
  {
   "cell_type": "code",
   "execution_count": 24,
   "metadata": {},
   "outputs": [
    {
     "name": "stdout",
     "output_type": "stream",
     "text": [
      "[ 7  6  8 11  9  5 10 12  4  3 13  1]\n"
     ]
    },
    {
     "data": {
      "text/plain": [
       "count    21613.000000\n",
       "mean         7.656873\n",
       "std          1.175459\n",
       "min          1.000000\n",
       "25%          7.000000\n",
       "50%          7.000000\n",
       "75%          8.000000\n",
       "max         13.000000\n",
       "Name: grade, dtype: float64"
      ]
     },
     "execution_count": 24,
     "metadata": {},
     "output_type": "execute_result"
    }
   ],
   "source": [
    "print(house_data.grade.unique())\n",
    "house_data.grade.describe()"
   ]
  },
  {
   "cell_type": "code",
   "execution_count": 25,
   "metadata": {},
   "outputs": [
    {
     "data": {
      "image/png": "[encoded data removed]",
      "text/plain": [
       "<Figure size 432x288 with 1 Axes>"
      ]
     },
     "metadata": {
      "needs_background": "light"
     },
     "output_type": "display_data"
    }
   ],
   "source": [
    "plt.bar(house_data.groupby('grade')['price'].mean().index, house_data.groupby('grade')[\"price\"].mean());"
   ]
  },
  {
   "cell_type": "markdown",
   "metadata": {},
   "source": [
    "Grade is yet another categorical variable, and there is a strongly positive trend between grade and price."
   ]
  },
  {
   "cell_type": "code",
   "execution_count": 26,
   "metadata": {},
   "outputs": [
    {
     "data": {
      "text/plain": [
       "count    21613.000000\n",
       "mean      1788.390691\n",
       "std        828.090978\n",
       "min        290.000000\n",
       "25%       1190.000000\n",
       "50%       1560.000000\n",
       "75%       2210.000000\n",
       "max       9410.000000\n",
       "Name: sqft_above, dtype: float64"
      ]
     },
     "execution_count": 26,
     "metadata": {},
     "output_type": "execute_result"
    }
   ],
   "source": [
    "house_data.sqft_above.describe()"
   ]
  },
  {
   "cell_type": "code",
   "execution_count": 27,
   "metadata": {},
   "outputs": [
    {
     "data": {
      "image/png": "[encoded data removed]",
      "text/plain": [
       "<Figure size 432x288 with 1 Axes>"
      ]
     },
     "metadata": {
      "needs_background": "light"
     },
     "output_type": "display_data"
    }
   ],
   "source": [
    "plt.scatter(house_data.sqft_above,house_data.price);"
   ]
  },
  {
   "cell_type": "markdown",
   "metadata": {},
   "source": [
    "As expected, non-basement square footage is a continuous variable, and there is a positive correlation between it and price."
   ]
  },
  {
   "cell_type": "code",
   "execution_count": 28,
   "metadata": {},
   "outputs": [
    {
     "data": {
      "image/png": "[encoded data removed]",
      "text/plain": [
       "<Figure size 432x288 with 1 Axes>"
      ]
     },
     "metadata": {
      "needs_background": "light"
     },
     "output_type": "display_data"
    }
   ],
   "source": [
    "plt.boxplot(house_data.sqft_above);"
   ]
  },
  {
   "cell_type": "code",
   "execution_count": 29,
   "metadata": {},
   "outputs": [
    {
     "data": {
      "image/png": "[encoded data removed]",
      "text/plain": [
       "<Figure size 432x288 with 1 Axes>"
      ]
     },
     "metadata": {
      "needs_background": "light"
     },
     "output_type": "display_data"
    }
   ],
   "source": [
    "house_data['winsorized_above'] = winsorize(house_data.sqft_above,(0,.1))\n",
    "plt.boxplot(house_data.winsorized_above);"
   ]
  },
  {
   "cell_type": "markdown",
   "metadata": {},
   "source": [
    "The outliers in non-basement square footage have been winsorized, so the feature can be implemented into a model."
   ]
  },
  {
   "cell_type": "code",
   "execution_count": 30,
   "metadata": {},
   "outputs": [
    {
     "data": {
      "text/plain": [
       "count    21613.000000\n",
       "mean       291.509045\n",
       "std        442.575043\n",
       "min          0.000000\n",
       "25%          0.000000\n",
       "50%          0.000000\n",
       "75%        560.000000\n",
       "max       4820.000000\n",
       "Name: sqft_basement, dtype: float64"
      ]
     },
     "execution_count": 30,
     "metadata": {},
     "output_type": "execute_result"
    }
   ],
   "source": [
    "house_data.sqft_basement.describe()"
   ]
  },
  {
   "cell_type": "code",
   "execution_count": 31,
   "metadata": {},
   "outputs": [
    {
     "data": {
      "image/png": "[encoded data removed]",
      "text/plain": [
       "<Figure size 432x288 with 1 Axes>"
      ]
     },
     "metadata": {
      "needs_background": "light"
     },
     "output_type": "display_data"
    }
   ],
   "source": [
    "plt.scatter(house_data.sqft_basement,house_data.price);"
   ]
  },
  {
   "cell_type": "markdown",
   "metadata": {},
   "source": [
    "There are many houses in the dataset that do not have basements and therefore have variable values of 0, but there still looks to be a positive trend between the variable and price."
   ]
  },
  {
   "cell_type": "code",
   "execution_count": 32,
   "metadata": {},
   "outputs": [
    {
     "data": {
      "image/png": "[encoded data removed]",
      "text/plain": [
       "<Figure size 432x288 with 1 Axes>"
      ]
     },
     "metadata": {
      "needs_background": "light"
     },
     "output_type": "display_data"
    }
   ],
   "source": [
    "plt.boxplot(house_data.sqft_basement);"
   ]
  },
  {
   "cell_type": "code",
   "execution_count": 33,
   "metadata": {},
   "outputs": [
    {
     "data": {
      "image/png": "[encoded data removed]",
      "text/plain": [
       "<Figure size 432x288 with 1 Axes>"
      ]
     },
     "metadata": {
      "needs_background": "light"
     },
     "output_type": "display_data"
    }
   ],
   "source": [
    "house_data['winsorized_basement'] = winsorize(house_data['sqft_basement'], (0,.1))\n",
    "plt.boxplot(house_data.winsorized_basement);"
   ]
  },
  {
   "cell_type": "markdown",
   "metadata": {},
   "source": [
    "The outliers in the basement square footage have now been removed, and the feature can be implemented in models."
   ]
  },
  {
   "cell_type": "code",
   "execution_count": 34,
   "metadata": {},
   "outputs": [
    {
     "data": {
      "image/png": "[encoded data removed]",
      "text/plain": [
       "<Figure size 432x288 with 1 Axes>"
      ]
     },
     "metadata": {
      "needs_background": "light"
     },
     "output_type": "display_data"
    }
   ],
   "source": [
    "plt.bar(house_data.groupby('yr_built')['price'].mean().index, house_data.groupby('yr_built')[\"price\"].mean());"
   ]
  },
  {
   "cell_type": "markdown",
   "metadata": {},
   "source": [
    "Year built does not look to be a good predictor price."
   ]
  },
  {
   "cell_type": "code",
   "execution_count": 35,
   "metadata": {},
   "outputs": [
    {
     "data": {
      "text/plain": [
       "count    21613.000000\n",
       "mean        84.402258\n",
       "std        401.679240\n",
       "min          0.000000\n",
       "25%          0.000000\n",
       "50%          0.000000\n",
       "75%          0.000000\n",
       "max       2015.000000\n",
       "Name: yr_renovated, dtype: float64"
      ]
     },
     "execution_count": 35,
     "metadata": {},
     "output_type": "execute_result"
    }
   ],
   "source": [
    "house_data.yr_renovated.describe()"
   ]
  },
  {
   "cell_type": "code",
   "execution_count": 36,
   "metadata": {},
   "outputs": [
    {
     "data": {
      "image/png": "[encoded data removed]",
      "text/plain": [
       "<Figure size 432x288 with 1 Axes>"
      ]
     },
     "metadata": {
      "needs_background": "light"
     },
     "output_type": "display_data"
    }
   ],
   "source": [
    "plt.bar(house_data.groupby('yr_renovated')['price'].mean().index, house_data.groupby('yr_renovated')[\"price\"].mean());"
   ]
  },
  {
   "cell_type": "markdown",
   "metadata": {},
   "source": [
    "Similarly, the year in which a house was renovated does not look to be a good indicator of price. This variable also shows either 0 for no renovation or the year the house was renovated. This makes it problematic for investigation."
   ]
  },
  {
   "cell_type": "code",
   "execution_count": 37,
   "metadata": {},
   "outputs": [
    {
     "data": {
      "image/png": "[encoded data removed]",
      "text/plain": [
       "<Figure size 432x288 with 1 Axes>"
      ]
     },
     "metadata": {
      "needs_background": "light"
     },
     "output_type": "display_data"
    }
   ],
   "source": [
    "house_data.loc[house_data['yr_renovated']==0,'fixed_renovation'] = 0\n",
    "house_data.loc[house_data['yr_renovated']!=0,'fixed_renovation'] = 1\n",
    "plt.bar(house_data.groupby('fixed_renovation')['price'].mean().index, house_data.groupby('fixed_renovation')[\"price\"].mean());"
   ]
  },
  {
   "cell_type": "markdown",
   "metadata": {},
   "source": [
    "Now, the variable is a categorical feature using 0 if there were no renovations and 1 if there have been any renovations. The above graph shows that renovation indicates higher prices on average."
   ]
  },
  {
   "cell_type": "code",
   "execution_count": 38,
   "metadata": {},
   "outputs": [
    {
     "data": {
      "image/png": "[encoded data removed]",
      "text/plain": [
       "<Figure size 432x288 with 1 Axes>"
      ]
     },
     "metadata": {
      "needs_background": "light"
     },
     "output_type": "display_data"
    }
   ],
   "source": [
    "plt.bar(house_data.groupby('zipcode')['price'].mean().index, house_data.groupby('zipcode')[\"price\"].mean());"
   ]
  },
  {
   "cell_type": "markdown",
   "metadata": {},
   "source": [
    "From the above plot, it would appear that each general group of zipcodes exhibits the same overall pattern in house price. Therefore, zipcode is not likely to be a good predictor of price."
   ]
  },
  {
   "cell_type": "code",
   "execution_count": 39,
   "metadata": {},
   "outputs": [
    {
     "data": {
      "text/plain": [
       "Index(['id', 'date', 'price', 'bedrooms', 'bathrooms', 'sqft_living',\n",
       "       'sqft_lot', 'floors', 'waterfront', 'view', 'condition', 'grade',\n",
       "       'sqft_above', 'sqft_basement', 'yr_built', 'yr_renovated', 'zipcode',\n",
       "       'lat', 'long', 'sqft_living15', 'sqft_lot15', 'winsorized_bedrooms',\n",
       "       'winsorized_lot_sqft', 'winsorized_above', 'winsorized_basement',\n",
       "       'fixed_renovation'],\n",
       "      dtype='object')"
      ]
     },
     "execution_count": 39,
     "metadata": {},
     "output_type": "execute_result"
    }
   ],
   "source": [
    "house_data.columns"
   ]
  },
  {
   "cell_type": "code",
   "execution_count": 40,
   "metadata": {},
   "outputs": [
    {
     "data": {
      "image/png": "[encoded data removed]",
      "text/plain": [
       "<Figure size 432x288 with 1 Axes>"
      ]
     },
     "metadata": {
      "needs_background": "light"
     },
     "output_type": "display_data"
    }
   ],
   "source": [
    "plt.bar(house_data.groupby('sqft_living15')['price'].mean().index, house_data.groupby('sqft_living15')[\"price\"].mean());"
   ]
  },
  {
   "cell_type": "markdown",
   "metadata": {},
   "source": [
    "The above bar graph suggests that the average interior square footage of the closest 15 neighbors may be a decent indicator of house price."
   ]
  },
  {
   "cell_type": "code",
   "execution_count": 41,
   "metadata": {},
   "outputs": [
    {
     "data": {
      "text/plain": [
       "count     21613.000000\n",
       "mean      12768.455652\n",
       "std       27304.179631\n",
       "min         651.000000\n",
       "25%        5100.000000\n",
       "50%        7620.000000\n",
       "75%       10083.000000\n",
       "max      871200.000000\n",
       "Name: sqft_lot15, dtype: float64"
      ]
     },
     "execution_count": 41,
     "metadata": {},
     "output_type": "execute_result"
    }
   ],
   "source": [
    "house_data.sqft_lot15.describe()"
   ]
  },
  {
   "cell_type": "code",
   "execution_count": 42,
   "metadata": {},
   "outputs": [
    {
     "data": {
      "image/png": "[encoded data removed]",
      "text/plain": [
       "<Figure size 432x288 with 1 Axes>"
      ]
     },
     "metadata": {
      "needs_background": "light"
     },
     "output_type": "display_data"
    }
   ],
   "source": [
    "plt.boxplot(house_data.sqft_lot15);"
   ]
  },
  {
   "cell_type": "code",
   "execution_count": 43,
   "metadata": {},
   "outputs": [
    {
     "data": {
      "image/png": "[encoded data removed]",
      "text/plain": [
       "<Figure size 432x288 with 1 Axes>"
      ]
     },
     "metadata": {
      "needs_background": "light"
     },
     "output_type": "display_data"
    }
   ],
   "source": [
    "house_data['winsorized_lot15'] = winsorize(house_data.sqft_lot15,(0,.1))\n",
    "plt.boxplot(house_data.winsorized_lot15);"
   ]
  },
  {
   "cell_type": "code",
   "execution_count": 44,
   "metadata": {},
   "outputs": [
    {
     "data": {
      "image/png": "[encoded data removed]",
      "text/plain": [
       "<Figure size 432x288 with 1 Axes>"
      ]
     },
     "metadata": {
      "needs_background": "light"
     },
     "output_type": "display_data"
    }
   ],
   "source": [
    "plt.bar(house_data.groupby('winsorized_lot15')['price'].mean().index, house_data.groupby('winsorized_lot15')[\"price\"].mean());"
   ]
  },
  {
   "cell_type": "markdown",
   "metadata": {},
   "source": [
    "After winsorizing the original average lot area of the closest 15 neighbors, the above graph suggests that the variable is not a good indicator of price."
   ]
  },
  {
   "cell_type": "markdown",
   "metadata": {},
   "source": [
    "Before looking at a correlation matrix and constructing dummy variables, the distribution of **price**, the target variable, must be investigated."
   ]
  },
  {
   "cell_type": "code",
   "execution_count": 45,
   "metadata": {},
   "outputs": [
    {
     "data": {
      "image/png": "[encoded data removed]",
      "text/plain": [
       "<Figure size 432x288 with 1 Axes>"
      ]
     },
     "metadata": {
      "needs_background": "light"
     },
     "output_type": "display_data"
    }
   ],
   "source": [
    "plt.hist(house_data.price);"
   ]
  },
  {
   "cell_type": "markdown",
   "metadata": {},
   "source": [
    "The histogram above strongly suggests that this is not a normal distribution, but statistical tests can be used to confirm this suspicion."
   ]
  },
  {
   "cell_type": "code",
   "execution_count": 46,
   "metadata": {},
   "outputs": [
    {
     "name": "stdout",
     "output_type": "stream",
     "text": [
      "(1134998.2338603423, 0.0)\n"
     ]
    }
   ],
   "source": [
    "from scipy.stats import jarque_bera\n",
    "print(jarque_bera(house_data.price))"
   ]
  },
  {
   "cell_type": "markdown",
   "metadata": {},
   "source": [
    "The Jarque-Bera test confirms that price is not normally distributed. To remedy this issue, a log transformation will be applied to the price variable."
   ]
  },
  {
   "cell_type": "code",
   "execution_count": 47,
   "metadata": {},
   "outputs": [
    {
     "data": {
      "image/png": "[encoded data removed]",
      "text/plain": [
       "<Figure size 432x288 with 1 Axes>"
      ]
     },
     "metadata": {
      "needs_background": "light"
     },
     "output_type": "display_data"
    }
   ],
   "source": [
    "house_data['normalized_price'] = np.log1p(house_data.price)\n",
    "plt.hist(house_data.normalized_price);"
   ]
  },
  {
   "cell_type": "markdown",
   "metadata": {},
   "source": [
    "The target variable has been log transformed and is now more normally distributed. The next step is to create dummies for the categorical features in the dataset. The categorical features to be used: **winsorized_bedrooms, condition, bathrooms, floors, waterfront, view, grade, and fixed_renovation.**"
   ]
  },
  {
   "cell_type": "code",
   "execution_count": 48,
   "metadata": {},
   "outputs": [],
   "source": [
    "house_data = pd.concat([house_data,pd.get_dummies(house_data.winsorized_bedrooms, prefix=\"wins_bed\", drop_first=True)], axis=1)\n",
    "house_data = pd.concat([house_data,pd.get_dummies(house_data.condition, prefix=\"cond\", drop_first=True)], axis=1)\n",
    "house_data = pd.concat([house_data,pd.get_dummies(house_data.bathrooms, prefix=\"bath\", drop_first=True)], axis=1)\n",
    "house_data = pd.concat([house_data,pd.get_dummies(house_data.floors, prefix=\"floor\", drop_first=True)], axis=1)\n",
    "house_data = pd.concat([house_data,pd.get_dummies(house_data.waterfront, prefix=\"water\", drop_first=True)], axis=1)\n",
    "house_data = pd.concat([house_data,pd.get_dummies(house_data.view, prefix=\"view\", drop_first=True)], axis=1)\n",
    "house_data = pd.concat([house_data,pd.get_dummies(house_data.grade, prefix=\"grade\", drop_first=True)], axis=1)\n",
    "house_data = pd.concat([house_data,pd.get_dummies(house_data.fixed_renovation, prefix=\"reno\", drop_first=True)], axis=1)"
   ]
  },
  {
   "cell_type": "markdown",
   "metadata": {},
   "source": [
    "All dummy variables have been created, so now it is time to choose the non-dummy variables to incorporate into the model. Although the data has already been visualized and there are visual indicators of correlations, it is important to view the correlation matrix to see if the visualizations represented the true correlations."
   ]
  },
  {
   "cell_type": "markdown",
   "metadata": {},
   "source": [
    "### Building Models"
   ]
  },
  {
   "cell_type": "markdown",
   "metadata": {},
   "source": [
    "For this type of predictive task, a linear regression is the best model type to use, so a basic linear regression model will be constructed. For the first model, all continuous variables from the above correlation matrix and all dummy variables will be used."
   ]
  },
  {
   "cell_type": "code",
   "execution_count": 49,
   "metadata": {},
   "outputs": [],
   "source": [
    "import statsmodels.api as sm\n",
    "from sklearn.model_selection import train_test_split\n",
    "from sklearn.metrics import mean_absolute_error\n",
    "from statsmodels.tools.eval_measures import mse, rmse"
   ]
  },
  {
   "cell_type": "code",
   "execution_count": 50,
   "metadata": {},
   "outputs": [],
   "source": [
    "dummy_column_names = list(pd.get_dummies(house_data.winsorized_bedrooms, prefix=\"wins_bed\", drop_first=True).columns)\n",
    "dummy_column_names += list(pd.get_dummies(house_data.condition, prefix=\"cond\", drop_first=True).columns)\n",
    "dummy_column_names += list(pd.get_dummies(house_data.bathrooms, prefix=\"bath\", drop_first=True).columns)\n",
    "dummy_column_names += list(pd.get_dummies(house_data.floors, prefix=\"floor\", drop_first=True).columns)\n",
    "dummy_column_names += list(pd.get_dummies(house_data.waterfront, prefix=\"water\", drop_first=True).columns)\n",
    "dummy_column_names += list(pd.get_dummies(house_data.view, prefix=\"view\", drop_first=True).columns)\n",
    "dummy_column_names += list(pd.get_dummies(house_data.grade, prefix=\"grade\", drop_first=True).columns)\n",
    "dummy_column_names += list(pd.get_dummies(house_data.fixed_renovation, prefix=\"reno\", drop_first=True).columns)"
   ]
  },
  {
   "cell_type": "code",
   "execution_count": 51,
   "metadata": {},
   "outputs": [
    {
     "data": {
      "text/html": [
       "<table class=\"simpletable\">\n",
       "<caption>OLS Regression Results</caption>\n",
       "<tr>\n",
       "  <th>Dep. Variable:</th>    <td>normalized_price</td> <th>  R-squared:         </th> <td>   0.631</td> \n",
       "</tr>\n",
       "<tr>\n",
       "  <th>Model:</th>                   <td>OLS</td>       <th>  Adj. R-squared:    </th> <td>   0.630</td> \n",
       "</tr>\n",
       "<tr>\n",
       "  <th>Method:</th>             <td>Least Squares</td>  <th>  F-statistic:       </th> <td>   467.9</td> \n",
       "</tr>\n",
       "<tr>\n",
       "  <th>Date:</th>             <td>Mon, 30 Dec 2019</td> <th>  Prob (F-statistic):</th>  <td>  0.00</td>  \n",
       "</tr>\n",
       "<tr>\n",
       "  <th>Time:</th>                 <td>06:53:24</td>     <th>  Log-Likelihood:    </th> <td> -4830.9</td> \n",
       "</tr>\n",
       "<tr>\n",
       "  <th>No. Observations:</th>      <td> 17290</td>      <th>  AIC:               </th> <td>   9790.</td> \n",
       "</tr>\n",
       "<tr>\n",
       "  <th>Df Residuals:</th>          <td> 17226</td>      <th>  BIC:               </th> <td>1.029e+04</td>\n",
       "</tr>\n",
       "<tr>\n",
       "  <th>Df Model:</th>              <td>    63</td>      <th>                     </th>     <td> </td>    \n",
       "</tr>\n",
       "<tr>\n",
       "  <th>Covariance Type:</th>      <td>nonrobust</td>    <th>                     </th>     <td> </td>    \n",
       "</tr>\n",
       "</table>\n",
       "<table class=\"simpletable\">\n",
       "<tr>\n",
       "        <td></td>           <th>coef</th>     <th>std err</th>      <th>t</th>      <th>P>|t|</th>  <th>[0.025</th>    <th>0.975]</th>  \n",
       "</tr>\n",
       "<tr>\n",
       "  <th>const</th>         <td>   11.6539</td> <td>    0.321</td> <td>   36.339</td> <td> 0.000</td> <td>   11.025</td> <td>   12.283</td>\n",
       "</tr>\n",
       "<tr>\n",
       "  <th>sqft_living</th>   <td>    0.0001</td> <td> 4.12e-06</td> <td>   29.813</td> <td> 0.000</td> <td>    0.000</td> <td>    0.000</td>\n",
       "</tr>\n",
       "<tr>\n",
       "  <th>sqft_lot</th>      <td> 2.393e-07</td> <td> 8.18e-08</td> <td>    2.925</td> <td> 0.003</td> <td> 7.89e-08</td> <td>    4e-07</td>\n",
       "</tr>\n",
       "<tr>\n",
       "  <th>sqft_above</th>    <td> 1.376e-05</td> <td> 4.27e-06</td> <td>    3.223</td> <td> 0.001</td> <td> 5.39e-06</td> <td> 2.21e-05</td>\n",
       "</tr>\n",
       "<tr>\n",
       "  <th>sqft_basement</th> <td>    0.0001</td> <td> 4.69e-06</td> <td>   23.300</td> <td> 0.000</td> <td>    0.000</td> <td>    0.000</td>\n",
       "</tr>\n",
       "<tr>\n",
       "  <th>sqft_lot15</th>    <td>-8.086e-07</td> <td> 1.27e-07</td> <td>   -6.360</td> <td> 0.000</td> <td>-1.06e-06</td> <td>-5.59e-07</td>\n",
       "</tr>\n",
       "<tr>\n",
       "  <th>sqft_living15</th> <td>    0.0001</td> <td> 6.16e-06</td> <td>   18.392</td> <td> 0.000</td> <td>    0.000</td> <td>    0.000</td>\n",
       "</tr>\n",
       "<tr>\n",
       "  <th>wins_bed_1</th>    <td>    0.1627</td> <td>    0.159</td> <td>    1.022</td> <td> 0.307</td> <td>   -0.149</td> <td>    0.475</td>\n",
       "</tr>\n",
       "<tr>\n",
       "  <th>wins_bed_2</th>    <td>    0.1683</td> <td>    0.158</td> <td>    1.063</td> <td> 0.288</td> <td>   -0.142</td> <td>    0.479</td>\n",
       "</tr>\n",
       "<tr>\n",
       "  <th>wins_bed_3</th>    <td>    0.0639</td> <td>    0.158</td> <td>    0.404</td> <td> 0.686</td> <td>   -0.246</td> <td>    0.374</td>\n",
       "</tr>\n",
       "<tr>\n",
       "  <th>wins_bed_4</th>    <td>    0.0540</td> <td>    0.158</td> <td>    0.341</td> <td> 0.733</td> <td>   -0.256</td> <td>    0.364</td>\n",
       "</tr>\n",
       "<tr>\n",
       "  <th>cond_2</th>        <td>   -0.0501</td> <td>    0.073</td> <td>   -0.691</td> <td> 0.490</td> <td>   -0.192</td> <td>    0.092</td>\n",
       "</tr>\n",
       "<tr>\n",
       "  <th>cond_3</th>        <td>    0.1018</td> <td>    0.067</td> <td>    1.510</td> <td> 0.131</td> <td>   -0.030</td> <td>    0.234</td>\n",
       "</tr>\n",
       "<tr>\n",
       "  <th>cond_4</th>        <td>    0.1715</td> <td>    0.067</td> <td>    2.541</td> <td> 0.011</td> <td>    0.039</td> <td>    0.304</td>\n",
       "</tr>\n",
       "<tr>\n",
       "  <th>cond_5</th>        <td>    0.2936</td> <td>    0.068</td> <td>    4.325</td> <td> 0.000</td> <td>    0.161</td> <td>    0.427</td>\n",
       "</tr>\n",
       "<tr>\n",
       "  <th>bath_0.5</th>      <td>   -0.1995</td> <td>    0.238</td> <td>   -0.839</td> <td> 0.402</td> <td>   -0.666</td> <td>    0.267</td>\n",
       "</tr>\n",
       "<tr>\n",
       "  <th>bath_0.75</th>     <td>    0.0745</td> <td>    0.180</td> <td>    0.414</td> <td> 0.679</td> <td>   -0.278</td> <td>    0.427</td>\n",
       "</tr>\n",
       "<tr>\n",
       "  <th>bath_1.0</th>      <td>    0.0978</td> <td>    0.176</td> <td>    0.555</td> <td> 0.579</td> <td>   -0.247</td> <td>    0.443</td>\n",
       "</tr>\n",
       "<tr>\n",
       "  <th>bath_1.25</th>     <td>    0.0598</td> <td>    0.213</td> <td>    0.280</td> <td> 0.780</td> <td>   -0.359</td> <td>    0.478</td>\n",
       "</tr>\n",
       "<tr>\n",
       "  <th>bath_1.5</th>      <td>    0.0789</td> <td>    0.176</td> <td>    0.448</td> <td> 0.654</td> <td>   -0.266</td> <td>    0.424</td>\n",
       "</tr>\n",
       "<tr>\n",
       "  <th>bath_1.75</th>     <td>    0.1110</td> <td>    0.176</td> <td>    0.630</td> <td> 0.528</td> <td>   -0.234</td> <td>    0.456</td>\n",
       "</tr>\n",
       "<tr>\n",
       "  <th>bath_2.0</th>      <td>    0.1024</td> <td>    0.176</td> <td>    0.581</td> <td> 0.561</td> <td>   -0.243</td> <td>    0.448</td>\n",
       "</tr>\n",
       "<tr>\n",
       "  <th>bath_2.25</th>     <td>    0.0877</td> <td>    0.176</td> <td>    0.498</td> <td> 0.619</td> <td>   -0.258</td> <td>    0.433</td>\n",
       "</tr>\n",
       "<tr>\n",
       "  <th>bath_2.5</th>      <td>    0.0405</td> <td>    0.176</td> <td>    0.230</td> <td> 0.818</td> <td>   -0.305</td> <td>    0.386</td>\n",
       "</tr>\n",
       "<tr>\n",
       "  <th>bath_2.75</th>     <td>    0.0864</td> <td>    0.176</td> <td>    0.490</td> <td> 0.624</td> <td>   -0.259</td> <td>    0.432</td>\n",
       "</tr>\n",
       "<tr>\n",
       "  <th>bath_3.0</th>      <td>    0.1222</td> <td>    0.177</td> <td>    0.692</td> <td> 0.489</td> <td>   -0.224</td> <td>    0.468</td>\n",
       "</tr>\n",
       "<tr>\n",
       "  <th>bath_3.25</th>     <td>    0.1497</td> <td>    0.177</td> <td>    0.847</td> <td> 0.397</td> <td>   -0.197</td> <td>    0.496</td>\n",
       "</tr>\n",
       "<tr>\n",
       "  <th>bath_3.5</th>      <td>    0.1090</td> <td>    0.177</td> <td>    0.617</td> <td> 0.537</td> <td>   -0.237</td> <td>    0.455</td>\n",
       "</tr>\n",
       "<tr>\n",
       "  <th>bath_3.75</th>     <td>    0.2269</td> <td>    0.178</td> <td>    1.271</td> <td> 0.204</td> <td>   -0.123</td> <td>    0.577</td>\n",
       "</tr>\n",
       "<tr>\n",
       "  <th>bath_4.0</th>      <td>    0.1600</td> <td>    0.179</td> <td>    0.896</td> <td> 0.371</td> <td>   -0.190</td> <td>    0.510</td>\n",
       "</tr>\n",
       "<tr>\n",
       "  <th>bath_4.25</th>     <td>    0.1553</td> <td>    0.181</td> <td>    0.858</td> <td> 0.391</td> <td>   -0.199</td> <td>    0.510</td>\n",
       "</tr>\n",
       "<tr>\n",
       "  <th>bath_4.5</th>      <td>    0.1277</td> <td>    0.180</td> <td>    0.708</td> <td> 0.479</td> <td>   -0.226</td> <td>    0.481</td>\n",
       "</tr>\n",
       "<tr>\n",
       "  <th>bath_4.75</th>     <td>    0.2194</td> <td>    0.194</td> <td>    1.129</td> <td> 0.259</td> <td>   -0.161</td> <td>    0.600</td>\n",
       "</tr>\n",
       "<tr>\n",
       "  <th>bath_5.0</th>      <td>    0.1195</td> <td>    0.194</td> <td>    0.615</td> <td> 0.538</td> <td>   -0.261</td> <td>    0.500</td>\n",
       "</tr>\n",
       "<tr>\n",
       "  <th>bath_5.25</th>     <td>    0.2787</td> <td>    0.200</td> <td>    1.396</td> <td> 0.163</td> <td>   -0.113</td> <td>    0.670</td>\n",
       "</tr>\n",
       "<tr>\n",
       "  <th>bath_5.5</th>      <td>    0.1950</td> <td>    0.209</td> <td>    0.934</td> <td> 0.350</td> <td>   -0.214</td> <td>    0.604</td>\n",
       "</tr>\n",
       "<tr>\n",
       "  <th>bath_5.75</th>     <td>   -0.1841</td> <td>    0.258</td> <td>   -0.713</td> <td> 0.476</td> <td>   -0.690</td> <td>    0.322</td>\n",
       "</tr>\n",
       "<tr>\n",
       "  <th>bath_6.0</th>      <td>    0.6251</td> <td>    0.291</td> <td>    2.151</td> <td> 0.031</td> <td>    0.056</td> <td>    1.195</td>\n",
       "</tr>\n",
       "<tr>\n",
       "  <th>bath_6.25</th>     <td>    0.6082</td> <td>    0.367</td> <td>    1.655</td> <td> 0.098</td> <td>   -0.112</td> <td>    1.328</td>\n",
       "</tr>\n",
       "<tr>\n",
       "  <th>bath_6.5</th>      <td>    0.1128</td> <td>    0.289</td> <td>    0.390</td> <td> 0.696</td> <td>   -0.453</td> <td>    0.679</td>\n",
       "</tr>\n",
       "<tr>\n",
       "  <th>bath_6.75</th>     <td>   -0.6878</td> <td>    0.290</td> <td>   -2.372</td> <td> 0.018</td> <td>   -1.256</td> <td>   -0.119</td>\n",
       "</tr>\n",
       "<tr>\n",
       "  <th>bath_7.5</th>      <td>    0.0689</td> <td>    0.366</td> <td>    0.188</td> <td> 0.851</td> <td>   -0.649</td> <td>    0.786</td>\n",
       "</tr>\n",
       "<tr>\n",
       "  <th>bath_7.75</th>     <td>-1.615e-15</td> <td> 3.95e-15</td> <td>   -0.409</td> <td> 0.683</td> <td>-9.36e-15</td> <td> 6.13e-15</td>\n",
       "</tr>\n",
       "<tr>\n",
       "  <th>bath_8.0</th>      <td>   -0.2199</td> <td>    0.388</td> <td>   -0.567</td> <td> 0.570</td> <td>   -0.980</td> <td>    0.540</td>\n",
       "</tr>\n",
       "<tr>\n",
       "  <th>floor_1.5</th>     <td>    0.2018</td> <td>    0.009</td> <td>   21.784</td> <td> 0.000</td> <td>    0.184</td> <td>    0.220</td>\n",
       "</tr>\n",
       "<tr>\n",
       "  <th>floor_2.0</th>     <td>    0.0318</td> <td>    0.008</td> <td>    3.916</td> <td> 0.000</td> <td>    0.016</td> <td>    0.048</td>\n",
       "</tr>\n",
       "<tr>\n",
       "  <th>floor_2.5</th>     <td>    0.2122</td> <td>    0.029</td> <td>    7.225</td> <td> 0.000</td> <td>    0.155</td> <td>    0.270</td>\n",
       "</tr>\n",
       "<tr>\n",
       "  <th>floor_3.0</th>     <td>    0.1781</td> <td>    0.017</td> <td>   10.677</td> <td> 0.000</td> <td>    0.145</td> <td>    0.211</td>\n",
       "</tr>\n",
       "<tr>\n",
       "  <th>floor_3.5</th>     <td>    0.3515</td> <td>    0.123</td> <td>    2.847</td> <td> 0.004</td> <td>    0.110</td> <td>    0.593</td>\n",
       "</tr>\n",
       "<tr>\n",
       "  <th>water_1</th>       <td>    0.2884</td> <td>    0.035</td> <td>    8.232</td> <td> 0.000</td> <td>    0.220</td> <td>    0.357</td>\n",
       "</tr>\n",
       "<tr>\n",
       "  <th>view_1</th>        <td>    0.1869</td> <td>    0.020</td> <td>    9.452</td> <td> 0.000</td> <td>    0.148</td> <td>    0.226</td>\n",
       "</tr>\n",
       "<tr>\n",
       "  <th>view_2</th>        <td>    0.1100</td> <td>    0.012</td> <td>    9.014</td> <td> 0.000</td> <td>    0.086</td> <td>    0.134</td>\n",
       "</tr>\n",
       "<tr>\n",
       "  <th>view_3</th>        <td>    0.1088</td> <td>    0.017</td> <td>    6.590</td> <td> 0.000</td> <td>    0.076</td> <td>    0.141</td>\n",
       "</tr>\n",
       "<tr>\n",
       "  <th>view_4</th>        <td>    0.2593</td> <td>    0.025</td> <td>   10.170</td> <td> 0.000</td> <td>    0.209</td> <td>    0.309</td>\n",
       "</tr>\n",
       "<tr>\n",
       "  <th>grade_3</th>       <td>   -0.0742</td> <td>    0.399</td> <td>   -0.186</td> <td> 0.853</td> <td>   -0.856</td> <td>    0.708</td>\n",
       "</tr>\n",
       "<tr>\n",
       "  <th>grade_4</th>       <td>   -0.1395</td> <td>    0.364</td> <td>   -0.384</td> <td> 0.701</td> <td>   -0.852</td> <td>    0.573</td>\n",
       "</tr>\n",
       "<tr>\n",
       "  <th>grade_5</th>       <td>   -0.0297</td> <td>    0.359</td> <td>   -0.083</td> <td> 0.934</td> <td>   -0.733</td> <td>    0.673</td>\n",
       "</tr>\n",
       "<tr>\n",
       "  <th>grade_6</th>       <td>    0.1668</td> <td>    0.358</td> <td>    0.465</td> <td> 0.642</td> <td>   -0.536</td> <td>    0.869</td>\n",
       "</tr>\n",
       "<tr>\n",
       "  <th>grade_7</th>       <td>    0.3903</td> <td>    0.358</td> <td>    1.089</td> <td> 0.276</td> <td>   -0.312</td> <td>    1.093</td>\n",
       "</tr>\n",
       "<tr>\n",
       "  <th>grade_8</th>       <td>    0.5797</td> <td>    0.358</td> <td>    1.617</td> <td> 0.106</td> <td>   -0.123</td> <td>    1.282</td>\n",
       "</tr>\n",
       "<tr>\n",
       "  <th>grade_9</th>       <td>    0.7865</td> <td>    0.359</td> <td>    2.194</td> <td> 0.028</td> <td>    0.084</td> <td>    1.489</td>\n",
       "</tr>\n",
       "<tr>\n",
       "  <th>grade_10</th>      <td>    0.9326</td> <td>    0.359</td> <td>    2.599</td> <td> 0.009</td> <td>    0.229</td> <td>    1.636</td>\n",
       "</tr>\n",
       "<tr>\n",
       "  <th>grade_11</th>      <td>    1.0019</td> <td>    0.359</td> <td>    2.789</td> <td> 0.005</td> <td>    0.298</td> <td>    1.706</td>\n",
       "</tr>\n",
       "<tr>\n",
       "  <th>grade_12</th>      <td>    1.1269</td> <td>    0.362</td> <td>    3.117</td> <td> 0.002</td> <td>    0.418</td> <td>    1.836</td>\n",
       "</tr>\n",
       "<tr>\n",
       "  <th>grade_13</th>      <td>    1.2610</td> <td>    0.378</td> <td>    3.333</td> <td> 0.001</td> <td>    0.519</td> <td>    2.003</td>\n",
       "</tr>\n",
       "<tr>\n",
       "  <th>reno_1.0</th>      <td>    0.1895</td> <td>    0.012</td> <td>   15.496</td> <td> 0.000</td> <td>    0.166</td> <td>    0.214</td>\n",
       "</tr>\n",
       "</table>\n",
       "<table class=\"simpletable\">\n",
       "<tr>\n",
       "  <th>Omnibus:</th>       <td> 5.318</td> <th>  Durbin-Watson:     </th> <td>   1.996</td>\n",
       "</tr>\n",
       "<tr>\n",
       "  <th>Prob(Omnibus):</th> <td> 0.070</td> <th>  Jarque-Bera (JB):  </th> <td>   5.300</td>\n",
       "</tr>\n",
       "<tr>\n",
       "  <th>Skew:</th>          <td>-0.038</td> <th>  Prob(JB):          </th> <td>  0.0707</td>\n",
       "</tr>\n",
       "<tr>\n",
       "  <th>Kurtosis:</th>      <td> 3.039</td> <th>  Cond. No.          </th> <td>1.12e+16</td>\n",
       "</tr>\n",
       "</table><br/><br/>Warnings:<br/>[1] Standard Errors assume that the covariance matrix of the errors is correctly specified.<br/>[2] The smallest eigenvalue is 3.64e-19. This might indicate that there are<br/>strong multicollinearity problems or that the design matrix is singular."
      ],
      "text/plain": [
       "<class 'statsmodels.iolib.summary.Summary'>\n",
       "\"\"\"\n",
       "                            OLS Regression Results                            \n",
       "==============================================================================\n",
       "Dep. Variable:       normalized_price   R-squared:                       0.631\n",
       "Model:                            OLS   Adj. R-squared:                  0.630\n",
       "Method:                 Least Squares   F-statistic:                     467.9\n",
       "Date:                Mon, 30 Dec 2019   Prob (F-statistic):               0.00\n",
       "Time:                        06:53:24   Log-Likelihood:                -4830.9\n",
       "No. Observations:               17290   AIC:                             9790.\n",
       "Df Residuals:                   17226   BIC:                         1.029e+04\n",
       "Df Model:                          63                                         \n",
       "Covariance Type:            nonrobust                                         \n",
       "=================================================================================\n",
       "                    coef    std err          t      P>|t|      [0.025      0.975]\n",
       "---------------------------------------------------------------------------------\n",
       "const            11.6539      0.321     36.339      0.000      11.025      12.283\n",
       "sqft_living       0.0001   4.12e-06     29.813      0.000       0.000       0.000\n",
       "sqft_lot       2.393e-07   8.18e-08      2.925      0.003    7.89e-08       4e-07\n",
       "sqft_above     1.376e-05   4.27e-06      3.223      0.001    5.39e-06    2.21e-05\n",
       "sqft_basement     0.0001   4.69e-06     23.300      0.000       0.000       0.000\n",
       "sqft_lot15    -8.086e-07   1.27e-07     -6.360      0.000   -1.06e-06   -5.59e-07\n",
       "sqft_living15     0.0001   6.16e-06     18.392      0.000       0.000       0.000\n",
       "wins_bed_1        0.1627      0.159      1.022      0.307      -0.149       0.475\n",
       "wins_bed_2        0.1683      0.158      1.063      0.288      -0.142       0.479\n",
       "wins_bed_3        0.0639      0.158      0.404      0.686      -0.246       0.374\n",
       "wins_bed_4        0.0540      0.158      0.341      0.733      -0.256       0.364\n",
       "cond_2           -0.0501      0.073     -0.691      0.490      -0.192       0.092\n",
       "cond_3            0.1018      0.067      1.510      0.131      -0.030       0.234\n",
       "cond_4            0.1715      0.067      2.541      0.011       0.039       0.304\n",
       "cond_5            0.2936      0.068      4.325      0.000       0.161       0.427\n",
       "bath_0.5         -0.1995      0.238     -0.839      0.402      -0.666       0.267\n",
       "bath_0.75         0.0745      0.180      0.414      0.679      -0.278       0.427\n",
       "bath_1.0          0.0978      0.176      0.555      0.579      -0.247       0.443\n",
       "bath_1.25         0.0598      0.213      0.280      0.780      -0.359       0.478\n",
       "bath_1.5          0.0789      0.176      0.448      0.654      -0.266       0.424\n",
       "bath_1.75         0.1110      0.176      0.630      0.528      -0.234       0.456\n",
       "bath_2.0          0.1024      0.176      0.581      0.561      -0.243       0.448\n",
       "bath_2.25         0.0877      0.176      0.498      0.619      -0.258       0.433\n",
       "bath_2.5          0.0405      0.176      0.230      0.818      -0.305       0.386\n",
       "bath_2.75         0.0864      0.176      0.490      0.624      -0.259       0.432\n",
       "bath_3.0          0.1222      0.177      0.692      0.489      -0.224       0.468\n",
       "bath_3.25         0.1497      0.177      0.847      0.397      -0.197       0.496\n",
       "bath_3.5          0.1090      0.177      0.617      0.537      -0.237       0.455\n",
       "bath_3.75         0.2269      0.178      1.271      0.204      -0.123       0.577\n",
       "bath_4.0          0.1600      0.179      0.896      0.371      -0.190       0.510\n",
       "bath_4.25         0.1553      0.181      0.858      0.391      -0.199       0.510\n",
       "bath_4.5          0.1277      0.180      0.708      0.479      -0.226       0.481\n",
       "bath_4.75         0.2194      0.194      1.129      0.259      -0.161       0.600\n",
       "bath_5.0          0.1195      0.194      0.615      0.538      -0.261       0.500\n",
       "bath_5.25         0.2787      0.200      1.396      0.163      -0.113       0.670\n",
       "bath_5.5          0.1950      0.209      0.934      0.350      -0.214       0.604\n",
       "bath_5.75        -0.1841      0.258     -0.713      0.476      -0.690       0.322\n",
       "bath_6.0          0.6251      0.291      2.151      0.031       0.056       1.195\n",
       "bath_6.25         0.6082      0.367      1.655      0.098      -0.112       1.328\n",
       "bath_6.5          0.1128      0.289      0.390      0.696      -0.453       0.679\n",
       "bath_6.75        -0.6878      0.290     -2.372      0.018      -1.256      -0.119\n",
       "bath_7.5          0.0689      0.366      0.188      0.851      -0.649       0.786\n",
       "bath_7.75     -1.615e-15   3.95e-15     -0.409      0.683   -9.36e-15    6.13e-15\n",
       "bath_8.0         -0.2199      0.388     -0.567      0.570      -0.980       0.540\n",
       "floor_1.5         0.2018      0.009     21.784      0.000       0.184       0.220\n",
       "floor_2.0         0.0318      0.008      3.916      0.000       0.016       0.048\n",
       "floor_2.5         0.2122      0.029      7.225      0.000       0.155       0.270\n",
       "floor_3.0         0.1781      0.017     10.677      0.000       0.145       0.211\n",
       "floor_3.5         0.3515      0.123      2.847      0.004       0.110       0.593\n",
       "water_1           0.2884      0.035      8.232      0.000       0.220       0.357\n",
       "view_1            0.1869      0.020      9.452      0.000       0.148       0.226\n",
       "view_2            0.1100      0.012      9.014      0.000       0.086       0.134\n",
       "view_3            0.1088      0.017      6.590      0.000       0.076       0.141\n",
       "view_4            0.2593      0.025     10.170      0.000       0.209       0.309\n",
       "grade_3          -0.0742      0.399     -0.186      0.853      -0.856       0.708\n",
       "grade_4          -0.1395      0.364     -0.384      0.701      -0.852       0.573\n",
       "grade_5          -0.0297      0.359     -0.083      0.934      -0.733       0.673\n",
       "grade_6           0.1668      0.358      0.465      0.642      -0.536       0.869\n",
       "grade_7           0.3903      0.358      1.089      0.276      -0.312       1.093\n",
       "grade_8           0.5797      0.358      1.617      0.106      -0.123       1.282\n",
       "grade_9           0.7865      0.359      2.194      0.028       0.084       1.489\n",
       "grade_10          0.9326      0.359      2.599      0.009       0.229       1.636\n",
       "grade_11          1.0019      0.359      2.789      0.005       0.298       1.706\n",
       "grade_12          1.1269      0.362      3.117      0.002       0.418       1.836\n",
       "grade_13          1.2610      0.378      3.333      0.001       0.519       2.003\n",
       "reno_1.0          0.1895      0.012     15.496      0.000       0.166       0.214\n",
       "==============================================================================\n",
       "Omnibus:                        5.318   Durbin-Watson:                   1.996\n",
       "Prob(Omnibus):                  0.070   Jarque-Bera (JB):                5.300\n",
       "Skew:                          -0.038   Prob(JB):                       0.0707\n",
       "Kurtosis:                       3.039   Cond. No.                     1.12e+16\n",
       "==============================================================================\n",
       "\n",
       "Warnings:\n",
       "[1] Standard Errors assume that the covariance matrix of the errors is correctly specified.\n",
       "[2] The smallest eigenvalue is 3.64e-19. This might indicate that there are\n",
       "strong multicollinearity problems or that the design matrix is singular.\n",
       "\"\"\""
      ]
     },
     "execution_count": 51,
     "metadata": {},
     "output_type": "execute_result"
    }
   ],
   "source": [
    "X = house_data[['sqft_living','sqft_lot','sqft_above','sqft_basement','sqft_lot15','sqft_living15'] + dummy_column_names]\n",
    "Y = house_data['normalized_price']\n",
    "\n",
    "X = sm.add_constant(X)\n",
    "\n",
    "X_train, X_test, y_train, y_test = train_test_split(X, Y, test_size = 0.2, random_state = 465)\n",
    "\n",
    "results = sm.OLS(y_train, X_train).fit()\n",
    "\n",
    "results.summary()"
   ]
  },
  {
   "cell_type": "code",
   "execution_count": 52,
   "metadata": {},
   "outputs": [
    {
     "data": {
      "image/png": "[encoded data removed]",
      "text/plain": [
       "<Figure size 432x288 with 1 Axes>"
      ]
     },
     "metadata": {
      "needs_background": "light"
     },
     "output_type": "display_data"
    },
    {
     "name": "stdout",
     "output_type": "stream",
     "text": [
      "Mean absolute error of the prediction is: 0.26034007611624754\n",
      "Mean squared error of the prediction is: 0.1059488338907267\n",
      "Root mean squared error of the prediction is: 0.3254978247096695\n",
      "Mean absolute percentage error of the prediction is: 2.004575687138499\n"
     ]
    }
   ],
   "source": [
    "y_preds = results.predict(X_test)\n",
    "plt.scatter(y_test, y_preds)\n",
    "plt.plot(y_test, y_test, color=\"red\")\n",
    "plt.xlabel(\"true values\")\n",
    "plt.ylabel(\"predicted values\")\n",
    "plt.title(\"Charges: true and predicted values\")\n",
    "plt.show()\n",
    "\n",
    "print(f\"Mean absolute error of the prediction is: {mean_absolute_error(y_test, y_preds)}\")\n",
    "print(f\"Mean squared error of the prediction is: {mse(y_test, y_preds)}\")\n",
    "print(f\"Root mean squared error of the prediction is: {rmse(y_test, y_preds)}\")\n",
    "print(f\"Mean absolute percentage error of the prediction is: {np.mean(np.abs((y_test - y_preds) / y_test)) * 100}\")"
   ]
  },
  {
   "cell_type": "markdown",
   "metadata": {},
   "source": [
    "A basic model using non-transformed feature variables and the dummy variables that have been constructed does a relatively decent job of both explaining the variance in the dataset and making predictions. The task now is to see what improvements can be made."
   ]
  },
  {
   "cell_type": "code",
   "execution_count": 53,
   "metadata": {},
   "outputs": [
    {
     "data": {
      "text/html": [
       "<div>\n",
       "<style scoped>\n",
       "    .dataframe tbody tr th:only-of-type {\n",
       "        vertical-align: middle;\n",
       "    }\n",
       "\n",
       "    .dataframe tbody tr th {\n",
       "        vertical-align: top;\n",
       "    }\n",
       "\n",
       "    .dataframe thead th {\n",
       "        text-align: right;\n",
       "    }\n",
       "</style>\n",
       "<table border=\"1\" class=\"dataframe\">\n",
       "  <thead>\n",
       "    <tr style=\"text-align: right;\">\n",
       "      <th></th>\n",
       "      <th>normalized_price</th>\n",
       "      <th>sqft_living</th>\n",
       "      <th>winsorized_lot_sqft</th>\n",
       "      <th>winsorized_above</th>\n",
       "      <th>winsorized_basement</th>\n",
       "      <th>sqft_living15</th>\n",
       "      <th>winsorized_lot15</th>\n",
       "    </tr>\n",
       "  </thead>\n",
       "  <tbody>\n",
       "    <tr>\n",
       "      <th>normalized_price</th>\n",
       "      <td>1.000000</td>\n",
       "      <td>0.695341</td>\n",
       "      <td>0.165338</td>\n",
       "      <td>0.572038</td>\n",
       "      <td>0.278845</td>\n",
       "      <td>0.619312</td>\n",
       "      <td>0.153331</td>\n",
       "    </tr>\n",
       "    <tr>\n",
       "      <th>sqft_living</th>\n",
       "      <td>0.695341</td>\n",
       "      <td>1.000000</td>\n",
       "      <td>0.346264</td>\n",
       "      <td>0.819930</td>\n",
       "      <td>0.357574</td>\n",
       "      <td>0.756420</td>\n",
       "      <td>0.338757</td>\n",
       "    </tr>\n",
       "    <tr>\n",
       "      <th>winsorized_lot_sqft</th>\n",
       "      <td>0.165338</td>\n",
       "      <td>0.346264</td>\n",
       "      <td>1.000000</td>\n",
       "      <td>0.295865</td>\n",
       "      <td>0.061064</td>\n",
       "      <td>0.382726</td>\n",
       "      <td>0.899820</td>\n",
       "    </tr>\n",
       "    <tr>\n",
       "      <th>winsorized_above</th>\n",
       "      <td>0.572038</td>\n",
       "      <td>0.819930</td>\n",
       "      <td>0.295865</td>\n",
       "      <td>1.000000</td>\n",
       "      <td>-0.132630</td>\n",
       "      <td>0.712722</td>\n",
       "      <td>0.294910</td>\n",
       "    </tr>\n",
       "    <tr>\n",
       "      <th>winsorized_basement</th>\n",
       "      <td>0.278845</td>\n",
       "      <td>0.357574</td>\n",
       "      <td>0.061064</td>\n",
       "      <td>-0.132630</td>\n",
       "      <td>1.000000</td>\n",
       "      <td>0.145868</td>\n",
       "      <td>0.060834</td>\n",
       "    </tr>\n",
       "    <tr>\n",
       "      <th>sqft_living15</th>\n",
       "      <td>0.619312</td>\n",
       "      <td>0.756420</td>\n",
       "      <td>0.382726</td>\n",
       "      <td>0.712722</td>\n",
       "      <td>0.145868</td>\n",
       "      <td>1.000000</td>\n",
       "      <td>0.408271</td>\n",
       "    </tr>\n",
       "    <tr>\n",
       "      <th>winsorized_lot15</th>\n",
       "      <td>0.153331</td>\n",
       "      <td>0.338757</td>\n",
       "      <td>0.899820</td>\n",
       "      <td>0.294910</td>\n",
       "      <td>0.060834</td>\n",
       "      <td>0.408271</td>\n",
       "      <td>1.000000</td>\n",
       "    </tr>\n",
       "  </tbody>\n",
       "</table>\n",
       "</div>"
      ],
      "text/plain": [
       "                     normalized_price  sqft_living  winsorized_lot_sqft  \\\n",
       "normalized_price             1.000000     0.695341             0.165338   \n",
       "sqft_living                  0.695341     1.000000             0.346264   \n",
       "winsorized_lot_sqft          0.165338     0.346264             1.000000   \n",
       "winsorized_above             0.572038     0.819930             0.295865   \n",
       "winsorized_basement          0.278845     0.357574             0.061064   \n",
       "sqft_living15                0.619312     0.756420             0.382726   \n",
       "winsorized_lot15             0.153331     0.338757             0.899820   \n",
       "\n",
       "                     winsorized_above  winsorized_basement  sqft_living15  \\\n",
       "normalized_price             0.572038             0.278845       0.619312   \n",
       "sqft_living                  0.819930             0.357574       0.756420   \n",
       "winsorized_lot_sqft          0.295865             0.061064       0.382726   \n",
       "winsorized_above             1.000000            -0.132630       0.712722   \n",
       "winsorized_basement         -0.132630             1.000000       0.145868   \n",
       "sqft_living15                0.712722             0.145868       1.000000   \n",
       "winsorized_lot15             0.294910             0.060834       0.408271   \n",
       "\n",
       "                     winsorized_lot15  \n",
       "normalized_price             0.153331  \n",
       "sqft_living                  0.338757  \n",
       "winsorized_lot_sqft          0.899820  \n",
       "winsorized_above             0.294910  \n",
       "winsorized_basement          0.060834  \n",
       "sqft_living15                0.408271  \n",
       "winsorized_lot15             1.000000  "
      ]
     },
     "execution_count": 53,
     "metadata": {},
     "output_type": "execute_result"
    }
   ],
   "source": [
    "house_data[['normalized_price','sqft_living','winsorized_lot_sqft','winsorized_above','winsorized_basement','sqft_living15','winsorized_lot15']].corr()"
   ]
  },
  {
   "cell_type": "markdown",
   "metadata": {},
   "source": [
    "The above correlation matrix uses the continuous variables available and shows that all variables included have at least a weak (.15) correlation with the normalized_price target variable."
   ]
  },
  {
   "cell_type": "code",
   "execution_count": 68,
   "metadata": {},
   "outputs": [
    {
     "data": {
      "text/html": [
       "<table class=\"simpletable\">\n",
       "<caption>OLS Regression Results</caption>\n",
       "<tr>\n",
       "  <th>Dep. Variable:</th>    <td>normalized_price</td> <th>  R-squared:         </th> <td>   0.641</td>\n",
       "</tr>\n",
       "<tr>\n",
       "  <th>Model:</th>                   <td>OLS</td>       <th>  Adj. R-squared:    </th> <td>   0.640</td>\n",
       "</tr>\n",
       "<tr>\n",
       "  <th>Method:</th>             <td>Least Squares</td>  <th>  F-statistic:       </th> <td>   480.5</td>\n",
       "</tr>\n",
       "<tr>\n",
       "  <th>Date:</th>             <td>Mon, 30 Dec 2019</td> <th>  Prob (F-statistic):</th>  <td>  0.00</td> \n",
       "</tr>\n",
       "<tr>\n",
       "  <th>Time:</th>                 <td>06:59:48</td>     <th>  Log-Likelihood:    </th> <td> -4597.3</td>\n",
       "</tr>\n",
       "<tr>\n",
       "  <th>No. Observations:</th>      <td> 17290</td>      <th>  AIC:               </th> <td>   9325.</td>\n",
       "</tr>\n",
       "<tr>\n",
       "  <th>Df Residuals:</th>          <td> 17225</td>      <th>  BIC:               </th> <td>   9829.</td>\n",
       "</tr>\n",
       "<tr>\n",
       "  <th>Df Model:</th>              <td>    64</td>      <th>                     </th>     <td> </td>   \n",
       "</tr>\n",
       "<tr>\n",
       "  <th>Covariance Type:</th>      <td>nonrobust</td>    <th>                     </th>     <td> </td>   \n",
       "</tr>\n",
       "</table>\n",
       "<table class=\"simpletable\">\n",
       "<tr>\n",
       "           <td></td>              <th>coef</th>     <th>std err</th>      <th>t</th>      <th>P>|t|</th>  <th>[0.025</th>    <th>0.975]</th>  \n",
       "</tr>\n",
       "<tr>\n",
       "  <th>const</th>               <td>   11.8300</td> <td>    0.317</td> <td>   37.371</td> <td> 0.000</td> <td>   11.210</td> <td>   12.450</td>\n",
       "</tr>\n",
       "<tr>\n",
       "  <th>sqft_living</th>         <td> 9.036e-05</td> <td> 1.21e-05</td> <td>    7.461</td> <td> 0.000</td> <td> 6.66e-05</td> <td>    0.000</td>\n",
       "</tr>\n",
       "<tr>\n",
       "  <th>winsorized_lot_sqft</th> <td>-5.004e-07</td> <td> 1.04e-06</td> <td>   -0.483</td> <td> 0.629</td> <td>-2.53e-06</td> <td> 1.53e-06</td>\n",
       "</tr>\n",
       "<tr>\n",
       "  <th>winsorized_above</th>    <td>    0.0001</td> <td>  1.5e-05</td> <td>    6.759</td> <td> 0.000</td> <td> 7.22e-05</td> <td>    0.000</td>\n",
       "</tr>\n",
       "<tr>\n",
       "  <th>winsorized_basement</th> <td>    0.0002</td> <td> 1.55e-05</td> <td>   12.295</td> <td> 0.000</td> <td>    0.000</td> <td>    0.000</td>\n",
       "</tr>\n",
       "<tr>\n",
       "  <th>sqft_living15</th>       <td>    0.0001</td> <td>  6.2e-06</td> <td>   21.733</td> <td> 0.000</td> <td>    0.000</td> <td>    0.000</td>\n",
       "</tr>\n",
       "<tr>\n",
       "  <th>winsorized_lot15</th>    <td>-1.287e-05</td> <td> 1.32e-06</td> <td>   -9.748</td> <td> 0.000</td> <td>-1.55e-05</td> <td>-1.03e-05</td>\n",
       "</tr>\n",
       "<tr>\n",
       "  <th>wins_bed_1</th>          <td>    0.2044</td> <td>    0.157</td> <td>    1.301</td> <td> 0.193</td> <td>   -0.104</td> <td>    0.512</td>\n",
       "</tr>\n",
       "<tr>\n",
       "  <th>wins_bed_2</th>          <td>    0.2038</td> <td>    0.156</td> <td>    1.305</td> <td> 0.192</td> <td>   -0.102</td> <td>    0.510</td>\n",
       "</tr>\n",
       "<tr>\n",
       "  <th>wins_bed_3</th>          <td>    0.1086</td> <td>    0.156</td> <td>    0.695</td> <td> 0.487</td> <td>   -0.198</td> <td>    0.415</td>\n",
       "</tr>\n",
       "<tr>\n",
       "  <th>wins_bed_4</th>          <td>    0.0895</td> <td>    0.156</td> <td>    0.573</td> <td> 0.567</td> <td>   -0.217</td> <td>    0.396</td>\n",
       "</tr>\n",
       "<tr>\n",
       "  <th>cond_2</th>              <td>   -0.0380</td> <td>    0.072</td> <td>   -0.531</td> <td> 0.595</td> <td>   -0.178</td> <td>    0.102</td>\n",
       "</tr>\n",
       "<tr>\n",
       "  <th>cond_3</th>              <td>    0.0915</td> <td>    0.067</td> <td>    1.375</td> <td> 0.169</td> <td>   -0.039</td> <td>    0.222</td>\n",
       "</tr>\n",
       "<tr>\n",
       "  <th>cond_4</th>              <td>    0.1724</td> <td>    0.067</td> <td>    2.587</td> <td> 0.010</td> <td>    0.042</td> <td>    0.303</td>\n",
       "</tr>\n",
       "<tr>\n",
       "  <th>cond_5</th>              <td>    0.2836</td> <td>    0.067</td> <td>    4.231</td> <td> 0.000</td> <td>    0.152</td> <td>    0.415</td>\n",
       "</tr>\n",
       "<tr>\n",
       "  <th>bath_0.5</th>            <td>   -0.2841</td> <td>    0.235</td> <td>   -1.210</td> <td> 0.226</td> <td>   -0.744</td> <td>    0.176</td>\n",
       "</tr>\n",
       "<tr>\n",
       "  <th>bath_0.75</th>           <td>    0.0358</td> <td>    0.178</td> <td>    0.202</td> <td> 0.840</td> <td>   -0.312</td> <td>    0.384</td>\n",
       "</tr>\n",
       "<tr>\n",
       "  <th>bath_1.0</th>            <td>    0.0383</td> <td>    0.174</td> <td>    0.221</td> <td> 0.825</td> <td>   -0.302</td> <td>    0.379</td>\n",
       "</tr>\n",
       "<tr>\n",
       "  <th>bath_1.25</th>           <td>   -0.0234</td> <td>    0.211</td> <td>   -0.111</td> <td> 0.912</td> <td>   -0.436</td> <td>    0.389</td>\n",
       "</tr>\n",
       "<tr>\n",
       "  <th>bath_1.5</th>            <td>    0.0122</td> <td>    0.174</td> <td>    0.070</td> <td> 0.944</td> <td>   -0.329</td> <td>    0.353</td>\n",
       "</tr>\n",
       "<tr>\n",
       "  <th>bath_1.75</th>           <td>    0.0359</td> <td>    0.174</td> <td>    0.207</td> <td> 0.836</td> <td>   -0.305</td> <td>    0.376</td>\n",
       "</tr>\n",
       "<tr>\n",
       "  <th>bath_2.0</th>            <td>    0.0245</td> <td>    0.174</td> <td>    0.141</td> <td> 0.888</td> <td>   -0.316</td> <td>    0.365</td>\n",
       "</tr>\n",
       "<tr>\n",
       "  <th>bath_2.25</th>           <td>    0.0142</td> <td>    0.174</td> <td>    0.081</td> <td> 0.935</td> <td>   -0.327</td> <td>    0.355</td>\n",
       "</tr>\n",
       "<tr>\n",
       "  <th>bath_2.5</th>            <td>   -0.0441</td> <td>    0.174</td> <td>   -0.254</td> <td> 0.800</td> <td>   -0.385</td> <td>    0.296</td>\n",
       "</tr>\n",
       "<tr>\n",
       "  <th>bath_2.75</th>           <td>   -0.0045</td> <td>    0.174</td> <td>   -0.026</td> <td> 0.979</td> <td>   -0.346</td> <td>    0.337</td>\n",
       "</tr>\n",
       "<tr>\n",
       "  <th>bath_3.0</th>            <td>    0.0299</td> <td>    0.174</td> <td>    0.172</td> <td> 0.864</td> <td>   -0.311</td> <td>    0.371</td>\n",
       "</tr>\n",
       "<tr>\n",
       "  <th>bath_3.25</th>           <td>    0.0564</td> <td>    0.174</td> <td>    0.323</td> <td> 0.747</td> <td>   -0.286</td> <td>    0.398</td>\n",
       "</tr>\n",
       "<tr>\n",
       "  <th>bath_3.5</th>            <td>    0.0092</td> <td>    0.174</td> <td>    0.053</td> <td> 0.958</td> <td>   -0.333</td> <td>    0.351</td>\n",
       "</tr>\n",
       "<tr>\n",
       "  <th>bath_3.75</th>           <td>    0.1268</td> <td>    0.176</td> <td>    0.720</td> <td> 0.472</td> <td>   -0.219</td> <td>    0.472</td>\n",
       "</tr>\n",
       "<tr>\n",
       "  <th>bath_4.0</th>            <td>    0.0750</td> <td>    0.176</td> <td>    0.425</td> <td> 0.671</td> <td>   -0.271</td> <td>    0.421</td>\n",
       "</tr>\n",
       "<tr>\n",
       "  <th>bath_4.25</th>           <td>    0.0775</td> <td>    0.179</td> <td>    0.434</td> <td> 0.665</td> <td>   -0.273</td> <td>    0.428</td>\n",
       "</tr>\n",
       "<tr>\n",
       "  <th>bath_4.5</th>            <td>    0.0443</td> <td>    0.178</td> <td>    0.249</td> <td> 0.803</td> <td>   -0.304</td> <td>    0.393</td>\n",
       "</tr>\n",
       "<tr>\n",
       "  <th>bath_4.75</th>           <td>    0.1651</td> <td>    0.192</td> <td>    0.860</td> <td> 0.390</td> <td>   -0.211</td> <td>    0.541</td>\n",
       "</tr>\n",
       "<tr>\n",
       "  <th>bath_5.0</th>            <td>    0.0882</td> <td>    0.192</td> <td>    0.460</td> <td> 0.646</td> <td>   -0.288</td> <td>    0.464</td>\n",
       "</tr>\n",
       "<tr>\n",
       "  <th>bath_5.25</th>           <td>    0.2518</td> <td>    0.197</td> <td>    1.276</td> <td> 0.202</td> <td>   -0.135</td> <td>    0.639</td>\n",
       "</tr>\n",
       "<tr>\n",
       "  <th>bath_5.5</th>            <td>    0.1571</td> <td>    0.207</td> <td>    0.761</td> <td> 0.447</td> <td>   -0.248</td> <td>    0.562</td>\n",
       "</tr>\n",
       "<tr>\n",
       "  <th>bath_5.75</th>           <td>   -0.2080</td> <td>    0.255</td> <td>   -0.816</td> <td> 0.414</td> <td>   -0.707</td> <td>    0.292</td>\n",
       "</tr>\n",
       "<tr>\n",
       "  <th>bath_6.0</th>            <td>    0.6556</td> <td>    0.287</td> <td>    2.284</td> <td> 0.022</td> <td>    0.093</td> <td>    1.218</td>\n",
       "</tr>\n",
       "<tr>\n",
       "  <th>bath_6.25</th>           <td>    0.7602</td> <td>    0.365</td> <td>    2.083</td> <td> 0.037</td> <td>    0.045</td> <td>    1.476</td>\n",
       "</tr>\n",
       "<tr>\n",
       "  <th>bath_6.5</th>            <td>    0.1267</td> <td>    0.285</td> <td>    0.444</td> <td> 0.657</td> <td>   -0.433</td> <td>    0.686</td>\n",
       "</tr>\n",
       "<tr>\n",
       "  <th>bath_6.75</th>           <td>   -0.4511</td> <td>    0.288</td> <td>   -1.567</td> <td> 0.117</td> <td>   -1.015</td> <td>    0.113</td>\n",
       "</tr>\n",
       "<tr>\n",
       "  <th>bath_7.5</th>            <td>   -0.0292</td> <td>    0.361</td> <td>   -0.081</td> <td> 0.936</td> <td>   -0.737</td> <td>    0.679</td>\n",
       "</tr>\n",
       "<tr>\n",
       "  <th>bath_7.75</th>           <td> 8.337e-16</td> <td> 1.09e-15</td> <td>    0.766</td> <td> 0.444</td> <td> -1.3e-15</td> <td> 2.97e-15</td>\n",
       "</tr>\n",
       "<tr>\n",
       "  <th>bath_8.0</th>            <td>    0.1182</td> <td>    0.387</td> <td>    0.305</td> <td> 0.760</td> <td>   -0.641</td> <td>    0.877</td>\n",
       "</tr>\n",
       "<tr>\n",
       "  <th>floor_1.5</th>           <td>    0.1675</td> <td>    0.009</td> <td>   17.980</td> <td> 0.000</td> <td>    0.149</td> <td>    0.186</td>\n",
       "</tr>\n",
       "<tr>\n",
       "  <th>floor_2.0</th>           <td>   -0.0134</td> <td>    0.008</td> <td>   -1.596</td> <td> 0.111</td> <td>   -0.030</td> <td>    0.003</td>\n",
       "</tr>\n",
       "<tr>\n",
       "  <th>floor_2.5</th>           <td>    0.1346</td> <td>    0.029</td> <td>    4.603</td> <td> 0.000</td> <td>    0.077</td> <td>    0.192</td>\n",
       "</tr>\n",
       "<tr>\n",
       "  <th>floor_3.0</th>           <td>    0.1114</td> <td>    0.017</td> <td>    6.541</td> <td> 0.000</td> <td>    0.078</td> <td>    0.145</td>\n",
       "</tr>\n",
       "<tr>\n",
       "  <th>floor_3.5</th>           <td>    0.2781</td> <td>    0.122</td> <td>    2.280</td> <td> 0.023</td> <td>    0.039</td> <td>    0.517</td>\n",
       "</tr>\n",
       "<tr>\n",
       "  <th>water_1</th>             <td>    0.3465</td> <td>    0.035</td> <td>    9.991</td> <td> 0.000</td> <td>    0.279</td> <td>    0.414</td>\n",
       "</tr>\n",
       "<tr>\n",
       "  <th>view_1</th>              <td>    0.1816</td> <td>    0.020</td> <td>    9.304</td> <td> 0.000</td> <td>    0.143</td> <td>    0.220</td>\n",
       "</tr>\n",
       "<tr>\n",
       "  <th>view_2</th>              <td>    0.1048</td> <td>    0.012</td> <td>    8.707</td> <td> 0.000</td> <td>    0.081</td> <td>    0.128</td>\n",
       "</tr>\n",
       "<tr>\n",
       "  <th>view_3</th>              <td>    0.1068</td> <td>    0.016</td> <td>    6.579</td> <td> 0.000</td> <td>    0.075</td> <td>    0.139</td>\n",
       "</tr>\n",
       "<tr>\n",
       "  <th>view_4</th>              <td>    0.2568</td> <td>    0.025</td> <td>   10.232</td> <td> 0.000</td> <td>    0.208</td> <td>    0.306</td>\n",
       "</tr>\n",
       "<tr>\n",
       "  <th>grade_3</th>             <td>   -0.1337</td> <td>    0.394</td> <td>   -0.339</td> <td> 0.734</td> <td>   -0.906</td> <td>    0.638</td>\n",
       "</tr>\n",
       "<tr>\n",
       "  <th>grade_4</th>             <td>   -0.2479</td> <td>    0.359</td> <td>   -0.691</td> <td> 0.490</td> <td>   -0.951</td> <td>    0.456</td>\n",
       "</tr>\n",
       "<tr>\n",
       "  <th>grade_5</th>             <td>   -0.1438</td> <td>    0.354</td> <td>   -0.406</td> <td> 0.685</td> <td>   -0.838</td> <td>    0.550</td>\n",
       "</tr>\n",
       "<tr>\n",
       "  <th>grade_6</th>             <td>    0.0312</td> <td>    0.354</td> <td>    0.088</td> <td> 0.930</td> <td>   -0.662</td> <td>    0.724</td>\n",
       "</tr>\n",
       "<tr>\n",
       "  <th>grade_7</th>             <td>    0.2408</td> <td>    0.354</td> <td>    0.681</td> <td> 0.496</td> <td>   -0.452</td> <td>    0.934</td>\n",
       "</tr>\n",
       "<tr>\n",
       "  <th>grade_8</th>             <td>    0.4256</td> <td>    0.354</td> <td>    1.203</td> <td> 0.229</td> <td>   -0.268</td> <td>    1.119</td>\n",
       "</tr>\n",
       "<tr>\n",
       "  <th>grade_9</th>             <td>    0.6304</td> <td>    0.354</td> <td>    1.781</td> <td> 0.075</td> <td>   -0.063</td> <td>    1.324</td>\n",
       "</tr>\n",
       "<tr>\n",
       "  <th>grade_10</th>            <td>    0.7999</td> <td>    0.354</td> <td>    2.259</td> <td> 0.024</td> <td>    0.106</td> <td>    1.494</td>\n",
       "</tr>\n",
       "<tr>\n",
       "  <th>grade_11</th>            <td>    0.9076</td> <td>    0.355</td> <td>    2.560</td> <td> 0.010</td> <td>    0.213</td> <td>    1.602</td>\n",
       "</tr>\n",
       "<tr>\n",
       "  <th>grade_12</th>            <td>    1.0768</td> <td>    0.357</td> <td>    3.019</td> <td> 0.003</td> <td>    0.378</td> <td>    1.776</td>\n",
       "</tr>\n",
       "<tr>\n",
       "  <th>grade_13</th>            <td>    1.2292</td> <td>    0.373</td> <td>    3.292</td> <td> 0.001</td> <td>    0.497</td> <td>    1.961</td>\n",
       "</tr>\n",
       "<tr>\n",
       "  <th>reno_1.0</th>            <td>    0.1956</td> <td>    0.012</td> <td>   16.187</td> <td> 0.000</td> <td>    0.172</td> <td>    0.219</td>\n",
       "</tr>\n",
       "</table>\n",
       "<table class=\"simpletable\">\n",
       "<tr>\n",
       "  <th>Omnibus:</th>       <td>10.236</td> <th>  Durbin-Watson:     </th> <td>   1.994</td>\n",
       "</tr>\n",
       "<tr>\n",
       "  <th>Prob(Omnibus):</th> <td> 0.006</td> <th>  Jarque-Bera (JB):  </th> <td>  10.518</td>\n",
       "</tr>\n",
       "<tr>\n",
       "  <th>Skew:</th>          <td>-0.043</td> <th>  Prob(JB):          </th> <td> 0.00520</td>\n",
       "</tr>\n",
       "<tr>\n",
       "  <th>Kurtosis:</th>      <td> 3.085</td> <th>  Cond. No.          </th> <td>1.13e+16</td>\n",
       "</tr>\n",
       "</table><br/><br/>Warnings:<br/>[1] Standard Errors assume that the covariance matrix of the errors is correctly specified.<br/>[2] The smallest eigenvalue is 2.82e-20. This might indicate that there are<br/>strong multicollinearity problems or that the design matrix is singular."
      ],
      "text/plain": [
       "<class 'statsmodels.iolib.summary.Summary'>\n",
       "\"\"\"\n",
       "                            OLS Regression Results                            \n",
       "==============================================================================\n",
       "Dep. Variable:       normalized_price   R-squared:                       0.641\n",
       "Model:                            OLS   Adj. R-squared:                  0.640\n",
       "Method:                 Least Squares   F-statistic:                     480.5\n",
       "Date:                Mon, 30 Dec 2019   Prob (F-statistic):               0.00\n",
       "Time:                        06:59:48   Log-Likelihood:                -4597.3\n",
       "No. Observations:               17290   AIC:                             9325.\n",
       "Df Residuals:                   17225   BIC:                             9829.\n",
       "Df Model:                          64                                         \n",
       "Covariance Type:            nonrobust                                         \n",
       "=======================================================================================\n",
       "                          coef    std err          t      P>|t|      [0.025      0.975]\n",
       "---------------------------------------------------------------------------------------\n",
       "const                  11.8300      0.317     37.371      0.000      11.210      12.450\n",
       "sqft_living          9.036e-05   1.21e-05      7.461      0.000    6.66e-05       0.000\n",
       "winsorized_lot_sqft -5.004e-07   1.04e-06     -0.483      0.629   -2.53e-06    1.53e-06\n",
       "winsorized_above        0.0001    1.5e-05      6.759      0.000    7.22e-05       0.000\n",
       "winsorized_basement     0.0002   1.55e-05     12.295      0.000       0.000       0.000\n",
       "sqft_living15           0.0001    6.2e-06     21.733      0.000       0.000       0.000\n",
       "winsorized_lot15    -1.287e-05   1.32e-06     -9.748      0.000   -1.55e-05   -1.03e-05\n",
       "wins_bed_1              0.2044      0.157      1.301      0.193      -0.104       0.512\n",
       "wins_bed_2              0.2038      0.156      1.305      0.192      -0.102       0.510\n",
       "wins_bed_3              0.1086      0.156      0.695      0.487      -0.198       0.415\n",
       "wins_bed_4              0.0895      0.156      0.573      0.567      -0.217       0.396\n",
       "cond_2                 -0.0380      0.072     -0.531      0.595      -0.178       0.102\n",
       "cond_3                  0.0915      0.067      1.375      0.169      -0.039       0.222\n",
       "cond_4                  0.1724      0.067      2.587      0.010       0.042       0.303\n",
       "cond_5                  0.2836      0.067      4.231      0.000       0.152       0.415\n",
       "bath_0.5               -0.2841      0.235     -1.210      0.226      -0.744       0.176\n",
       "bath_0.75               0.0358      0.178      0.202      0.840      -0.312       0.384\n",
       "bath_1.0                0.0383      0.174      0.221      0.825      -0.302       0.379\n",
       "bath_1.25              -0.0234      0.211     -0.111      0.912      -0.436       0.389\n",
       "bath_1.5                0.0122      0.174      0.070      0.944      -0.329       0.353\n",
       "bath_1.75               0.0359      0.174      0.207      0.836      -0.305       0.376\n",
       "bath_2.0                0.0245      0.174      0.141      0.888      -0.316       0.365\n",
       "bath_2.25               0.0142      0.174      0.081      0.935      -0.327       0.355\n",
       "bath_2.5               -0.0441      0.174     -0.254      0.800      -0.385       0.296\n",
       "bath_2.75              -0.0045      0.174     -0.026      0.979      -0.346       0.337\n",
       "bath_3.0                0.0299      0.174      0.172      0.864      -0.311       0.371\n",
       "bath_3.25               0.0564      0.174      0.323      0.747      -0.286       0.398\n",
       "bath_3.5                0.0092      0.174      0.053      0.958      -0.333       0.351\n",
       "bath_3.75               0.1268      0.176      0.720      0.472      -0.219       0.472\n",
       "bath_4.0                0.0750      0.176      0.425      0.671      -0.271       0.421\n",
       "bath_4.25               0.0775      0.179      0.434      0.665      -0.273       0.428\n",
       "bath_4.5                0.0443      0.178      0.249      0.803      -0.304       0.393\n",
       "bath_4.75               0.1651      0.192      0.860      0.390      -0.211       0.541\n",
       "bath_5.0                0.0882      0.192      0.460      0.646      -0.288       0.464\n",
       "bath_5.25               0.2518      0.197      1.276      0.202      -0.135       0.639\n",
       "bath_5.5                0.1571      0.207      0.761      0.447      -0.248       0.562\n",
       "bath_5.75              -0.2080      0.255     -0.816      0.414      -0.707       0.292\n",
       "bath_6.0                0.6556      0.287      2.284      0.022       0.093       1.218\n",
       "bath_6.25               0.7602      0.365      2.083      0.037       0.045       1.476\n",
       "bath_6.5                0.1267      0.285      0.444      0.657      -0.433       0.686\n",
       "bath_6.75              -0.4511      0.288     -1.567      0.117      -1.015       0.113\n",
       "bath_7.5               -0.0292      0.361     -0.081      0.936      -0.737       0.679\n",
       "bath_7.75            8.337e-16   1.09e-15      0.766      0.444    -1.3e-15    2.97e-15\n",
       "bath_8.0                0.1182      0.387      0.305      0.760      -0.641       0.877\n",
       "floor_1.5               0.1675      0.009     17.980      0.000       0.149       0.186\n",
       "floor_2.0              -0.0134      0.008     -1.596      0.111      -0.030       0.003\n",
       "floor_2.5               0.1346      0.029      4.603      0.000       0.077       0.192\n",
       "floor_3.0               0.1114      0.017      6.541      0.000       0.078       0.145\n",
       "floor_3.5               0.2781      0.122      2.280      0.023       0.039       0.517\n",
       "water_1                 0.3465      0.035      9.991      0.000       0.279       0.414\n",
       "view_1                  0.1816      0.020      9.304      0.000       0.143       0.220\n",
       "view_2                  0.1048      0.012      8.707      0.000       0.081       0.128\n",
       "view_3                  0.1068      0.016      6.579      0.000       0.075       0.139\n",
       "view_4                  0.2568      0.025     10.232      0.000       0.208       0.306\n",
       "grade_3                -0.1337      0.394     -0.339      0.734      -0.906       0.638\n",
       "grade_4                -0.2479      0.359     -0.691      0.490      -0.951       0.456\n",
       "grade_5                -0.1438      0.354     -0.406      0.685      -0.838       0.550\n",
       "grade_6                 0.0312      0.354      0.088      0.930      -0.662       0.724\n",
       "grade_7                 0.2408      0.354      0.681      0.496      -0.452       0.934\n",
       "grade_8                 0.4256      0.354      1.203      0.229      -0.268       1.119\n",
       "grade_9                 0.6304      0.354      1.781      0.075      -0.063       1.324\n",
       "grade_10                0.7999      0.354      2.259      0.024       0.106       1.494\n",
       "grade_11                0.9076      0.355      2.560      0.010       0.213       1.602\n",
       "grade_12                1.0768      0.357      3.019      0.003       0.378       1.776\n",
       "grade_13                1.2292      0.373      3.292      0.001       0.497       1.961\n",
       "reno_1.0                0.1956      0.012     16.187      0.000       0.172       0.219\n",
       "==============================================================================\n",
       "Omnibus:                       10.236   Durbin-Watson:                   1.994\n",
       "Prob(Omnibus):                  0.006   Jarque-Bera (JB):               10.518\n",
       "Skew:                          -0.043   Prob(JB):                      0.00520\n",
       "Kurtosis:                       3.085   Cond. No.                     1.13e+16\n",
       "==============================================================================\n",
       "\n",
       "Warnings:\n",
       "[1] Standard Errors assume that the covariance matrix of the errors is correctly specified.\n",
       "[2] The smallest eigenvalue is 2.82e-20. This might indicate that there are\n",
       "strong multicollinearity problems or that the design matrix is singular.\n",
       "\"\"\""
      ]
     },
     "execution_count": 68,
     "metadata": {},
     "output_type": "execute_result"
    }
   ],
   "source": [
    "X = house_data[['sqft_living','winsorized_lot_sqft','winsorized_above','winsorized_basement','sqft_living15','winsorized_lot15']+dummy_column_names]\n",
    "Y = house_data['normalized_price']\n",
    "X = sm.add_constant(X)\n",
    "\n",
    "X_train, X_test, y_train, y_test = train_test_split(X, Y, test_size = 0.2, random_state = 465)\n",
    "\n",
    "results = sm.OLS(y_train, X_train).fit()\n",
    "\n",
    "results.summary()"
   ]
  },
  {
   "cell_type": "markdown",
   "metadata": {},
   "source": [
    "This new model explains roughly 64% of the variance in the dataset; the AIC score is 9325; and the BIC is 9829. These metrics show that the new model is an improvement over the basic model."
   ]
  },
  {
   "cell_type": "code",
   "execution_count": 69,
   "metadata": {},
   "outputs": [
    {
     "data": {
      "image/png": "[encoded data removed]",
      "text/plain": [
       "<Figure size 432x288 with 1 Axes>"
      ]
     },
     "metadata": {
      "needs_background": "light"
     },
     "output_type": "display_data"
    },
    {
     "name": "stdout",
     "output_type": "stream",
     "text": [
      "Mean absolute error of the prediction is: 0.25563029529458264\n",
      "Mean squared error of the prediction is: 0.10321030527905001\n",
      "Root mean squared error of the prediction is: 0.3212636071500319\n",
      "Mean absolute percentage error of the prediction is: 1.968467395840532\n"
     ]
    }
   ],
   "source": [
    "y_preds = results.predict(X_test)\n",
    "plt.scatter(y_test, y_preds)\n",
    "plt.plot(y_test, y_test, color=\"red\")\n",
    "plt.xlabel(\"true values\")\n",
    "plt.ylabel(\"predicted values\")\n",
    "plt.title(\"Charges: true and predicted values\")\n",
    "plt.show()\n",
    "\n",
    "print(f\"Mean absolute error of the prediction is: {mean_absolute_error(y_test, y_preds)}\")\n",
    "print(f\"Mean squared error of the prediction is: {mse(y_test, y_preds)}\")\n",
    "print(f\"Root mean squared error of the prediction is: {rmse(y_test, y_preds)}\")\n",
    "print(f\"Mean absolute percentage error of the prediction is: {np.mean(np.abs((y_test - y_preds) / y_test)) * 100}\")"
   ]
  },
  {
   "cell_type": "markdown",
   "metadata": {},
   "source": [
    "The above graph shows the model's predicted values (the red line) compared to the actual values in the dataset (blue points). The model looks to perform about the same for high, low, and intermediate values. All error metrics for this model are lower than the first model that was constructed using non-transformed variables. It may still be possible to make improvements to this model."
   ]
  },
  {
   "cell_type": "markdown",
   "metadata": {},
   "source": [
    "The next step is to remove features from the model that are not statistically significant. From the `results.summary` call earlier, all features have been given a p-value, and those with p-values significantly above .05 will be removed from the model. At this stage, any feature with a p-value greater than .10 will be removed. Of the non-dummy variables, winsorized_lot_sqft will be removed."
   ]
  },
  {
   "cell_type": "code",
   "execution_count": 58,
   "metadata": {},
   "outputs": [
    {
     "data": {
      "text/html": [
       "<table class=\"simpletable\">\n",
       "<caption>OLS Regression Results</caption>\n",
       "<tr>\n",
       "  <th>Dep. Variable:</th>    <td>normalized_price</td> <th>  R-squared:         </th> <td>   0.641</td>\n",
       "</tr>\n",
       "<tr>\n",
       "  <th>Model:</th>                   <td>OLS</td>       <th>  Adj. R-squared:    </th> <td>   0.640</td>\n",
       "</tr>\n",
       "<tr>\n",
       "  <th>Method:</th>             <td>Least Squares</td>  <th>  F-statistic:       </th> <td>   488.1</td>\n",
       "</tr>\n",
       "<tr>\n",
       "  <th>Date:</th>             <td>Mon, 30 Dec 2019</td> <th>  Prob (F-statistic):</th>  <td>  0.00</td> \n",
       "</tr>\n",
       "<tr>\n",
       "  <th>Time:</th>                 <td>06:53:25</td>     <th>  Log-Likelihood:    </th> <td> -4597.4</td>\n",
       "</tr>\n",
       "<tr>\n",
       "  <th>No. Observations:</th>      <td> 17290</td>      <th>  AIC:               </th> <td>   9323.</td>\n",
       "</tr>\n",
       "<tr>\n",
       "  <th>Df Residuals:</th>          <td> 17226</td>      <th>  BIC:               </th> <td>   9819.</td>\n",
       "</tr>\n",
       "<tr>\n",
       "  <th>Df Model:</th>              <td>    63</td>      <th>                     </th>     <td> </td>   \n",
       "</tr>\n",
       "<tr>\n",
       "  <th>Covariance Type:</th>      <td>nonrobust</td>    <th>                     </th>     <td> </td>   \n",
       "</tr>\n",
       "</table>\n",
       "<table class=\"simpletable\">\n",
       "<tr>\n",
       "           <td></td>              <th>coef</th>     <th>std err</th>      <th>t</th>      <th>P>|t|</th>  <th>[0.025</th>    <th>0.975]</th>  \n",
       "</tr>\n",
       "<tr>\n",
       "  <th>const</th>               <td>   11.8292</td> <td>    0.317</td> <td>   37.370</td> <td> 0.000</td> <td>   11.209</td> <td>   12.450</td>\n",
       "</tr>\n",
       "<tr>\n",
       "  <th>sqft_living</th>         <td> 8.992e-05</td> <td> 1.21e-05</td> <td>    7.446</td> <td> 0.000</td> <td> 6.63e-05</td> <td>    0.000</td>\n",
       "</tr>\n",
       "<tr>\n",
       "  <th>winsorized_above</th>    <td>    0.0001</td> <td>  1.5e-05</td> <td>    6.774</td> <td> 0.000</td> <td> 7.24e-05</td> <td>    0.000</td>\n",
       "</tr>\n",
       "<tr>\n",
       "  <th>winsorized_basement</th> <td>    0.0002</td> <td> 1.55e-05</td> <td>   12.322</td> <td> 0.000</td> <td>    0.000</td> <td>    0.000</td>\n",
       "</tr>\n",
       "<tr>\n",
       "  <th>sqft_living15</th>       <td>    0.0001</td> <td> 6.19e-06</td> <td>   21.769</td> <td> 0.000</td> <td>    0.000</td> <td>    0.000</td>\n",
       "</tr>\n",
       "<tr>\n",
       "  <th>winsorized_lot15</th>    <td>-1.342e-05</td> <td> 6.82e-07</td> <td>  -19.677</td> <td> 0.000</td> <td>-1.48e-05</td> <td>-1.21e-05</td>\n",
       "</tr>\n",
       "<tr>\n",
       "  <th>wins_bed_1</th>          <td>    0.2038</td> <td>    0.157</td> <td>    1.297</td> <td> 0.195</td> <td>   -0.104</td> <td>    0.512</td>\n",
       "</tr>\n",
       "<tr>\n",
       "  <th>wins_bed_2</th>          <td>    0.2032</td> <td>    0.156</td> <td>    1.300</td> <td> 0.193</td> <td>   -0.103</td> <td>    0.509</td>\n",
       "</tr>\n",
       "<tr>\n",
       "  <th>wins_bed_3</th>          <td>    0.1081</td> <td>    0.156</td> <td>    0.692</td> <td> 0.489</td> <td>   -0.198</td> <td>    0.414</td>\n",
       "</tr>\n",
       "<tr>\n",
       "  <th>wins_bed_4</th>          <td>    0.0891</td> <td>    0.156</td> <td>    0.571</td> <td> 0.568</td> <td>   -0.217</td> <td>    0.395</td>\n",
       "</tr>\n",
       "<tr>\n",
       "  <th>cond_2</th>              <td>   -0.0373</td> <td>    0.072</td> <td>   -0.521</td> <td> 0.603</td> <td>   -0.178</td> <td>    0.103</td>\n",
       "</tr>\n",
       "<tr>\n",
       "  <th>cond_3</th>              <td>    0.0928</td> <td>    0.067</td> <td>    1.395</td> <td> 0.163</td> <td>   -0.038</td> <td>    0.223</td>\n",
       "</tr>\n",
       "<tr>\n",
       "  <th>cond_4</th>              <td>    0.1737</td> <td>    0.067</td> <td>    2.609</td> <td> 0.009</td> <td>    0.043</td> <td>    0.304</td>\n",
       "</tr>\n",
       "<tr>\n",
       "  <th>cond_5</th>              <td>    0.2850</td> <td>    0.067</td> <td>    4.256</td> <td> 0.000</td> <td>    0.154</td> <td>    0.416</td>\n",
       "</tr>\n",
       "<tr>\n",
       "  <th>bath_0.5</th>            <td>   -0.2841</td> <td>    0.235</td> <td>   -1.210</td> <td> 0.226</td> <td>   -0.744</td> <td>    0.176</td>\n",
       "</tr>\n",
       "<tr>\n",
       "  <th>bath_0.75</th>           <td>    0.0357</td> <td>    0.178</td> <td>    0.201</td> <td> 0.840</td> <td>   -0.312</td> <td>    0.384</td>\n",
       "</tr>\n",
       "<tr>\n",
       "  <th>bath_1.0</th>            <td>    0.0382</td> <td>    0.174</td> <td>    0.220</td> <td> 0.826</td> <td>   -0.302</td> <td>    0.379</td>\n",
       "</tr>\n",
       "<tr>\n",
       "  <th>bath_1.25</th>           <td>   -0.0234</td> <td>    0.211</td> <td>   -0.111</td> <td> 0.912</td> <td>   -0.436</td> <td>    0.389</td>\n",
       "</tr>\n",
       "<tr>\n",
       "  <th>bath_1.5</th>            <td>    0.0119</td> <td>    0.174</td> <td>    0.069</td> <td> 0.945</td> <td>   -0.329</td> <td>    0.353</td>\n",
       "</tr>\n",
       "<tr>\n",
       "  <th>bath_1.75</th>           <td>    0.0356</td> <td>    0.174</td> <td>    0.205</td> <td> 0.838</td> <td>   -0.305</td> <td>    0.376</td>\n",
       "</tr>\n",
       "<tr>\n",
       "  <th>bath_2.0</th>            <td>    0.0243</td> <td>    0.174</td> <td>    0.140</td> <td> 0.889</td> <td>   -0.316</td> <td>    0.365</td>\n",
       "</tr>\n",
       "<tr>\n",
       "  <th>bath_2.25</th>           <td>    0.0138</td> <td>    0.174</td> <td>    0.080</td> <td> 0.937</td> <td>   -0.327</td> <td>    0.355</td>\n",
       "</tr>\n",
       "<tr>\n",
       "  <th>bath_2.5</th>            <td>   -0.0443</td> <td>    0.174</td> <td>   -0.255</td> <td> 0.799</td> <td>   -0.385</td> <td>    0.296</td>\n",
       "</tr>\n",
       "<tr>\n",
       "  <th>bath_2.75</th>           <td>   -0.0047</td> <td>    0.174</td> <td>   -0.027</td> <td> 0.978</td> <td>   -0.346</td> <td>    0.336</td>\n",
       "</tr>\n",
       "<tr>\n",
       "  <th>bath_3.0</th>            <td>    0.0297</td> <td>    0.174</td> <td>    0.170</td> <td> 0.865</td> <td>   -0.312</td> <td>    0.371</td>\n",
       "</tr>\n",
       "<tr>\n",
       "  <th>bath_3.25</th>           <td>    0.0561</td> <td>    0.174</td> <td>    0.322</td> <td> 0.748</td> <td>   -0.286</td> <td>    0.398</td>\n",
       "</tr>\n",
       "<tr>\n",
       "  <th>bath_3.5</th>            <td>    0.0091</td> <td>    0.174</td> <td>    0.052</td> <td> 0.958</td> <td>   -0.333</td> <td>    0.351</td>\n",
       "</tr>\n",
       "<tr>\n",
       "  <th>bath_3.75</th>           <td>    0.1266</td> <td>    0.176</td> <td>    0.719</td> <td> 0.472</td> <td>   -0.219</td> <td>    0.472</td>\n",
       "</tr>\n",
       "<tr>\n",
       "  <th>bath_4.0</th>            <td>    0.0748</td> <td>    0.176</td> <td>    0.424</td> <td> 0.671</td> <td>   -0.271</td> <td>    0.420</td>\n",
       "</tr>\n",
       "<tr>\n",
       "  <th>bath_4.25</th>           <td>    0.0773</td> <td>    0.179</td> <td>    0.433</td> <td> 0.665</td> <td>   -0.273</td> <td>    0.428</td>\n",
       "</tr>\n",
       "<tr>\n",
       "  <th>bath_4.5</th>            <td>    0.0443</td> <td>    0.178</td> <td>    0.249</td> <td> 0.803</td> <td>   -0.304</td> <td>    0.393</td>\n",
       "</tr>\n",
       "<tr>\n",
       "  <th>bath_4.75</th>           <td>    0.1649</td> <td>    0.192</td> <td>    0.860</td> <td> 0.390</td> <td>   -0.211</td> <td>    0.541</td>\n",
       "</tr>\n",
       "<tr>\n",
       "  <th>bath_5.0</th>            <td>    0.0878</td> <td>    0.192</td> <td>    0.458</td> <td> 0.647</td> <td>   -0.288</td> <td>    0.464</td>\n",
       "</tr>\n",
       "<tr>\n",
       "  <th>bath_5.25</th>           <td>    0.2516</td> <td>    0.197</td> <td>    1.275</td> <td> 0.202</td> <td>   -0.135</td> <td>    0.638</td>\n",
       "</tr>\n",
       "<tr>\n",
       "  <th>bath_5.5</th>            <td>    0.1577</td> <td>    0.207</td> <td>    0.764</td> <td> 0.445</td> <td>   -0.247</td> <td>    0.562</td>\n",
       "</tr>\n",
       "<tr>\n",
       "  <th>bath_5.75</th>           <td>   -0.2093</td> <td>    0.255</td> <td>   -0.821</td> <td> 0.411</td> <td>   -0.709</td> <td>    0.290</td>\n",
       "</tr>\n",
       "<tr>\n",
       "  <th>bath_6.0</th>            <td>    0.6561</td> <td>    0.287</td> <td>    2.286</td> <td> 0.022</td> <td>    0.094</td> <td>    1.219</td>\n",
       "</tr>\n",
       "<tr>\n",
       "  <th>bath_6.25</th>           <td>    0.7609</td> <td>    0.365</td> <td>    2.085</td> <td> 0.037</td> <td>    0.046</td> <td>    1.476</td>\n",
       "</tr>\n",
       "<tr>\n",
       "  <th>bath_6.5</th>            <td>    0.1282</td> <td>    0.285</td> <td>    0.449</td> <td> 0.653</td> <td>   -0.431</td> <td>    0.688</td>\n",
       "</tr>\n",
       "<tr>\n",
       "  <th>bath_6.75</th>           <td>   -0.4500</td> <td>    0.288</td> <td>   -1.564</td> <td> 0.118</td> <td>   -1.014</td> <td>    0.114</td>\n",
       "</tr>\n",
       "<tr>\n",
       "  <th>bath_7.5</th>            <td>   -0.0299</td> <td>    0.361</td> <td>   -0.083</td> <td> 0.934</td> <td>   -0.738</td> <td>    0.678</td>\n",
       "</tr>\n",
       "<tr>\n",
       "  <th>bath_7.75</th>           <td>-1.235e-16</td> <td> 1.49e-15</td> <td>   -0.083</td> <td> 0.934</td> <td>-3.05e-15</td> <td>  2.8e-15</td>\n",
       "</tr>\n",
       "<tr>\n",
       "  <th>bath_8.0</th>            <td>    0.1161</td> <td>    0.387</td> <td>    0.300</td> <td> 0.764</td> <td>   -0.643</td> <td>    0.875</td>\n",
       "</tr>\n",
       "<tr>\n",
       "  <th>floor_1.5</th>           <td>    0.1674</td> <td>    0.009</td> <td>   17.973</td> <td> 0.000</td> <td>    0.149</td> <td>    0.186</td>\n",
       "</tr>\n",
       "<tr>\n",
       "  <th>floor_2.0</th>           <td>   -0.0134</td> <td>    0.008</td> <td>   -1.589</td> <td> 0.112</td> <td>   -0.030</td> <td>    0.003</td>\n",
       "</tr>\n",
       "<tr>\n",
       "  <th>floor_2.5</th>           <td>    0.1345</td> <td>    0.029</td> <td>    4.600</td> <td> 0.000</td> <td>    0.077</td> <td>    0.192</td>\n",
       "</tr>\n",
       "<tr>\n",
       "  <th>floor_3.0</th>           <td>    0.1109</td> <td>    0.017</td> <td>    6.524</td> <td> 0.000</td> <td>    0.078</td> <td>    0.144</td>\n",
       "</tr>\n",
       "<tr>\n",
       "  <th>floor_3.5</th>           <td>    0.2774</td> <td>    0.122</td> <td>    2.275</td> <td> 0.023</td> <td>    0.038</td> <td>    0.516</td>\n",
       "</tr>\n",
       "<tr>\n",
       "  <th>water_1</th>             <td>    0.3465</td> <td>    0.035</td> <td>    9.992</td> <td> 0.000</td> <td>    0.279</td> <td>    0.414</td>\n",
       "</tr>\n",
       "<tr>\n",
       "  <th>view_1</th>              <td>    0.1818</td> <td>    0.020</td> <td>    9.318</td> <td> 0.000</td> <td>    0.144</td> <td>    0.220</td>\n",
       "</tr>\n",
       "<tr>\n",
       "  <th>view_2</th>              <td>    0.1047</td> <td>    0.012</td> <td>    8.702</td> <td> 0.000</td> <td>    0.081</td> <td>    0.128</td>\n",
       "</tr>\n",
       "<tr>\n",
       "  <th>view_3</th>              <td>    0.1068</td> <td>    0.016</td> <td>    6.580</td> <td> 0.000</td> <td>    0.075</td> <td>    0.139</td>\n",
       "</tr>\n",
       "<tr>\n",
       "  <th>view_4</th>              <td>    0.2569</td> <td>    0.025</td> <td>   10.236</td> <td> 0.000</td> <td>    0.208</td> <td>    0.306</td>\n",
       "</tr>\n",
       "<tr>\n",
       "  <th>grade_3</th>             <td>   -0.1339</td> <td>    0.394</td> <td>   -0.340</td> <td> 0.734</td> <td>   -0.906</td> <td>    0.638</td>\n",
       "</tr>\n",
       "<tr>\n",
       "  <th>grade_4</th>             <td>   -0.2476</td> <td>    0.359</td> <td>   -0.690</td> <td> 0.490</td> <td>   -0.951</td> <td>    0.456</td>\n",
       "</tr>\n",
       "<tr>\n",
       "  <th>grade_5</th>             <td>   -0.1433</td> <td>    0.354</td> <td>   -0.405</td> <td> 0.686</td> <td>   -0.837</td> <td>    0.551</td>\n",
       "</tr>\n",
       "<tr>\n",
       "  <th>grade_6</th>             <td>    0.0317</td> <td>    0.354</td> <td>    0.090</td> <td> 0.928</td> <td>   -0.661</td> <td>    0.725</td>\n",
       "</tr>\n",
       "<tr>\n",
       "  <th>grade_7</th>             <td>    0.2414</td> <td>    0.354</td> <td>    0.683</td> <td> 0.495</td> <td>   -0.452</td> <td>    0.934</td>\n",
       "</tr>\n",
       "<tr>\n",
       "  <th>grade_8</th>             <td>    0.4261</td> <td>    0.354</td> <td>    1.205</td> <td> 0.228</td> <td>   -0.267</td> <td>    1.119</td>\n",
       "</tr>\n",
       "<tr>\n",
       "  <th>grade_9</th>             <td>    0.6309</td> <td>    0.354</td> <td>    1.783</td> <td> 0.075</td> <td>   -0.063</td> <td>    1.325</td>\n",
       "</tr>\n",
       "<tr>\n",
       "  <th>grade_10</th>            <td>    0.8005</td> <td>    0.354</td> <td>    2.261</td> <td> 0.024</td> <td>    0.107</td> <td>    1.494</td>\n",
       "</tr>\n",
       "<tr>\n",
       "  <th>grade_11</th>            <td>    0.9082</td> <td>    0.355</td> <td>    2.562</td> <td> 0.010</td> <td>    0.213</td> <td>    1.603</td>\n",
       "</tr>\n",
       "<tr>\n",
       "  <th>grade_12</th>            <td>    1.0771</td> <td>    0.357</td> <td>    3.019</td> <td> 0.003</td> <td>    0.378</td> <td>    1.776</td>\n",
       "</tr>\n",
       "<tr>\n",
       "  <th>grade_13</th>            <td>    1.2293</td> <td>    0.373</td> <td>    3.292</td> <td> 0.001</td> <td>    0.497</td> <td>    1.961</td>\n",
       "</tr>\n",
       "<tr>\n",
       "  <th>reno_1.0</th>            <td>    0.1956</td> <td>    0.012</td> <td>   16.190</td> <td> 0.000</td> <td>    0.172</td> <td>    0.219</td>\n",
       "</tr>\n",
       "</table>\n",
       "<table class=\"simpletable\">\n",
       "<tr>\n",
       "  <th>Omnibus:</th>       <td>10.288</td> <th>  Durbin-Watson:     </th> <td>   1.994</td>\n",
       "</tr>\n",
       "<tr>\n",
       "  <th>Prob(Omnibus):</th> <td> 0.006</td> <th>  Jarque-Bera (JB):  </th> <td>  10.578</td>\n",
       "</tr>\n",
       "<tr>\n",
       "  <th>Skew:</th>          <td>-0.043</td> <th>  Prob(JB):          </th> <td> 0.00505</td>\n",
       "</tr>\n",
       "<tr>\n",
       "  <th>Kurtosis:</th>      <td> 3.085</td> <th>  Cond. No.          </th> <td>1.11e+16</td>\n",
       "</tr>\n",
       "</table><br/><br/>Warnings:<br/>[1] Standard Errors assume that the covariance matrix of the errors is correctly specified.<br/>[2] The smallest eigenvalue is 1.4e-20. This might indicate that there are<br/>strong multicollinearity problems or that the design matrix is singular."
      ],
      "text/plain": [
       "<class 'statsmodels.iolib.summary.Summary'>\n",
       "\"\"\"\n",
       "                            OLS Regression Results                            \n",
       "==============================================================================\n",
       "Dep. Variable:       normalized_price   R-squared:                       0.641\n",
       "Model:                            OLS   Adj. R-squared:                  0.640\n",
       "Method:                 Least Squares   F-statistic:                     488.1\n",
       "Date:                Mon, 30 Dec 2019   Prob (F-statistic):               0.00\n",
       "Time:                        06:53:25   Log-Likelihood:                -4597.4\n",
       "No. Observations:               17290   AIC:                             9323.\n",
       "Df Residuals:                   17226   BIC:                             9819.\n",
       "Df Model:                          63                                         \n",
       "Covariance Type:            nonrobust                                         \n",
       "=======================================================================================\n",
       "                          coef    std err          t      P>|t|      [0.025      0.975]\n",
       "---------------------------------------------------------------------------------------\n",
       "const                  11.8292      0.317     37.370      0.000      11.209      12.450\n",
       "sqft_living          8.992e-05   1.21e-05      7.446      0.000    6.63e-05       0.000\n",
       "winsorized_above        0.0001    1.5e-05      6.774      0.000    7.24e-05       0.000\n",
       "winsorized_basement     0.0002   1.55e-05     12.322      0.000       0.000       0.000\n",
       "sqft_living15           0.0001   6.19e-06     21.769      0.000       0.000       0.000\n",
       "winsorized_lot15    -1.342e-05   6.82e-07    -19.677      0.000   -1.48e-05   -1.21e-05\n",
       "wins_bed_1              0.2038      0.157      1.297      0.195      -0.104       0.512\n",
       "wins_bed_2              0.2032      0.156      1.300      0.193      -0.103       0.509\n",
       "wins_bed_3              0.1081      0.156      0.692      0.489      -0.198       0.414\n",
       "wins_bed_4              0.0891      0.156      0.571      0.568      -0.217       0.395\n",
       "cond_2                 -0.0373      0.072     -0.521      0.603      -0.178       0.103\n",
       "cond_3                  0.0928      0.067      1.395      0.163      -0.038       0.223\n",
       "cond_4                  0.1737      0.067      2.609      0.009       0.043       0.304\n",
       "cond_5                  0.2850      0.067      4.256      0.000       0.154       0.416\n",
       "bath_0.5               -0.2841      0.235     -1.210      0.226      -0.744       0.176\n",
       "bath_0.75               0.0357      0.178      0.201      0.840      -0.312       0.384\n",
       "bath_1.0                0.0382      0.174      0.220      0.826      -0.302       0.379\n",
       "bath_1.25              -0.0234      0.211     -0.111      0.912      -0.436       0.389\n",
       "bath_1.5                0.0119      0.174      0.069      0.945      -0.329       0.353\n",
       "bath_1.75               0.0356      0.174      0.205      0.838      -0.305       0.376\n",
       "bath_2.0                0.0243      0.174      0.140      0.889      -0.316       0.365\n",
       "bath_2.25               0.0138      0.174      0.080      0.937      -0.327       0.355\n",
       "bath_2.5               -0.0443      0.174     -0.255      0.799      -0.385       0.296\n",
       "bath_2.75              -0.0047      0.174     -0.027      0.978      -0.346       0.336\n",
       "bath_3.0                0.0297      0.174      0.170      0.865      -0.312       0.371\n",
       "bath_3.25               0.0561      0.174      0.322      0.748      -0.286       0.398\n",
       "bath_3.5                0.0091      0.174      0.052      0.958      -0.333       0.351\n",
       "bath_3.75               0.1266      0.176      0.719      0.472      -0.219       0.472\n",
       "bath_4.0                0.0748      0.176      0.424      0.671      -0.271       0.420\n",
       "bath_4.25               0.0773      0.179      0.433      0.665      -0.273       0.428\n",
       "bath_4.5                0.0443      0.178      0.249      0.803      -0.304       0.393\n",
       "bath_4.75               0.1649      0.192      0.860      0.390      -0.211       0.541\n",
       "bath_5.0                0.0878      0.192      0.458      0.647      -0.288       0.464\n",
       "bath_5.25               0.2516      0.197      1.275      0.202      -0.135       0.638\n",
       "bath_5.5                0.1577      0.207      0.764      0.445      -0.247       0.562\n",
       "bath_5.75              -0.2093      0.255     -0.821      0.411      -0.709       0.290\n",
       "bath_6.0                0.6561      0.287      2.286      0.022       0.094       1.219\n",
       "bath_6.25               0.7609      0.365      2.085      0.037       0.046       1.476\n",
       "bath_6.5                0.1282      0.285      0.449      0.653      -0.431       0.688\n",
       "bath_6.75              -0.4500      0.288     -1.564      0.118      -1.014       0.114\n",
       "bath_7.5               -0.0299      0.361     -0.083      0.934      -0.738       0.678\n",
       "bath_7.75           -1.235e-16   1.49e-15     -0.083      0.934   -3.05e-15     2.8e-15\n",
       "bath_8.0                0.1161      0.387      0.300      0.764      -0.643       0.875\n",
       "floor_1.5               0.1674      0.009     17.973      0.000       0.149       0.186\n",
       "floor_2.0              -0.0134      0.008     -1.589      0.112      -0.030       0.003\n",
       "floor_2.5               0.1345      0.029      4.600      0.000       0.077       0.192\n",
       "floor_3.0               0.1109      0.017      6.524      0.000       0.078       0.144\n",
       "floor_3.5               0.2774      0.122      2.275      0.023       0.038       0.516\n",
       "water_1                 0.3465      0.035      9.992      0.000       0.279       0.414\n",
       "view_1                  0.1818      0.020      9.318      0.000       0.144       0.220\n",
       "view_2                  0.1047      0.012      8.702      0.000       0.081       0.128\n",
       "view_3                  0.1068      0.016      6.580      0.000       0.075       0.139\n",
       "view_4                  0.2569      0.025     10.236      0.000       0.208       0.306\n",
       "grade_3                -0.1339      0.394     -0.340      0.734      -0.906       0.638\n",
       "grade_4                -0.2476      0.359     -0.690      0.490      -0.951       0.456\n",
       "grade_5                -0.1433      0.354     -0.405      0.686      -0.837       0.551\n",
       "grade_6                 0.0317      0.354      0.090      0.928      -0.661       0.725\n",
       "grade_7                 0.2414      0.354      0.683      0.495      -0.452       0.934\n",
       "grade_8                 0.4261      0.354      1.205      0.228      -0.267       1.119\n",
       "grade_9                 0.6309      0.354      1.783      0.075      -0.063       1.325\n",
       "grade_10                0.8005      0.354      2.261      0.024       0.107       1.494\n",
       "grade_11                0.9082      0.355      2.562      0.010       0.213       1.603\n",
       "grade_12                1.0771      0.357      3.019      0.003       0.378       1.776\n",
       "grade_13                1.2293      0.373      3.292      0.001       0.497       1.961\n",
       "reno_1.0                0.1956      0.012     16.190      0.000       0.172       0.219\n",
       "==============================================================================\n",
       "Omnibus:                       10.288   Durbin-Watson:                   1.994\n",
       "Prob(Omnibus):                  0.006   Jarque-Bera (JB):               10.578\n",
       "Skew:                          -0.043   Prob(JB):                      0.00505\n",
       "Kurtosis:                       3.085   Cond. No.                     1.11e+16\n",
       "==============================================================================\n",
       "\n",
       "Warnings:\n",
       "[1] Standard Errors assume that the covariance matrix of the errors is correctly specified.\n",
       "[2] The smallest eigenvalue is 1.4e-20. This might indicate that there are\n",
       "strong multicollinearity problems or that the design matrix is singular.\n",
       "\"\"\""
      ]
     },
     "execution_count": 58,
     "metadata": {},
     "output_type": "execute_result"
    }
   ],
   "source": [
    "X = house_data[['sqft_living','winsorized_above','winsorized_basement','sqft_living15','winsorized_lot15']+dummy_column_names]\n",
    "Y = house_data['normalized_price']\n",
    "\n",
    "X = sm.add_constant(X)\n",
    "\n",
    "X_train, X_test, y_train, y_test = train_test_split(X, Y, test_size = 0.2, random_state = 465)\n",
    "\n",
    "results = sm.OLS(y_train, X_train).fit()\n",
    "\n",
    "results.summary()"
   ]
  },
  {
   "cell_type": "code",
   "execution_count": 59,
   "metadata": {},
   "outputs": [
    {
     "data": {
      "image/png": "[encoded data removed]",
      "text/plain": [
       "<Figure size 432x288 with 1 Axes>"
      ]
     },
     "metadata": {
      "needs_background": "light"
     },
     "output_type": "display_data"
    },
    {
     "name": "stdout",
     "output_type": "stream",
     "text": [
      "Mean absolute error of the prediction is: 0.2556384637192997\n",
      "Mean squared error of the prediction is: 0.10320927308859912\n",
      "Root mean squared error of the prediction is: 0.3212620006919572\n",
      "Mean absolute percentage error of the prediction is: 1.968528807695872\n"
     ]
    }
   ],
   "source": [
    "y_preds = results.predict(X_test)\n",
    "plt.scatter(y_test, y_preds)\n",
    "plt.plot(y_test, y_test, color=\"red\")\n",
    "plt.xlabel(\"true values\")\n",
    "plt.ylabel(\"predicted values\")\n",
    "plt.title(\"Charges: true and predicted values\")\n",
    "plt.show()\n",
    "\n",
    "print(f\"Mean absolute error of the prediction is: {mean_absolute_error(y_test, y_preds)}\")\n",
    "print(f\"Mean squared error of the prediction is: {mse(y_test, y_preds)}\")\n",
    "print(f\"Root mean squared error of the prediction is: {rmse(y_test, y_preds)}\")\n",
    "print(f\"Mean absolute percentage error of the prediction is: {np.mean(np.abs((y_test - y_preds) / y_test)) * 100}\")"
   ]
  },
  {
   "cell_type": "markdown",
   "metadata": {},
   "source": [
    "After the non-significant variable was removed, the AIC and BIC scores of the model have improved very slightly, but the error metrics have become very slightly worse. To hopefully strengthen the performance of the model, new features will be constructed from already existing data."
   ]
  },
  {
   "cell_type": "code",
   "execution_count": 60,
   "metadata": {},
   "outputs": [],
   "source": [
    "house_data['area_ratio'] = house_data['sqft_living']/house_data['sqft_lot']\n",
    "house_data['lot_comp'] = house_data['sqft_lot']/house_data['sqft_lot15']\n",
    "house_data['living_comp'] = house_data['sqft_living']/house_data['sqft_living15']"
   ]
  },
  {
   "cell_type": "markdown",
   "metadata": {},
   "source": [
    "The `area_ratio` variable is a metric comparing living space to total lot space.\n",
    "The `lot_comp` variable is a ratio of own lot space to the average of the nearest 15 neighbors' lots.\n",
    "The `living_comp` variable is a ratio of own living space to the average of the nearest 15 neighbors' living spaces."
   ]
  },
  {
   "cell_type": "code",
   "execution_count": 61,
   "metadata": {},
   "outputs": [
    {
     "data": {
      "text/html": [
       "<div>\n",
       "<style scoped>\n",
       "    .dataframe tbody tr th:only-of-type {\n",
       "        vertical-align: middle;\n",
       "    }\n",
       "\n",
       "    .dataframe tbody tr th {\n",
       "        vertical-align: top;\n",
       "    }\n",
       "\n",
       "    .dataframe thead th {\n",
       "        text-align: right;\n",
       "    }\n",
       "</style>\n",
       "<table border=\"1\" class=\"dataframe\">\n",
       "  <thead>\n",
       "    <tr style=\"text-align: right;\">\n",
       "      <th></th>\n",
       "      <th>normalized_price</th>\n",
       "      <th>winsorized_above</th>\n",
       "      <th>winsorized_basement</th>\n",
       "      <th>area_ratio</th>\n",
       "      <th>lot_comp</th>\n",
       "      <th>living_comp</th>\n",
       "    </tr>\n",
       "  </thead>\n",
       "  <tbody>\n",
       "    <tr>\n",
       "      <th>normalized_price</th>\n",
       "      <td>1.000000</td>\n",
       "      <td>0.572038</td>\n",
       "      <td>0.278845</td>\n",
       "      <td>0.186688</td>\n",
       "      <td>0.039724</td>\n",
       "      <td>0.306195</td>\n",
       "    </tr>\n",
       "    <tr>\n",
       "      <th>winsorized_above</th>\n",
       "      <td>0.572038</td>\n",
       "      <td>1.000000</td>\n",
       "      <td>-0.132630</td>\n",
       "      <td>0.073187</td>\n",
       "      <td>0.054635</td>\n",
       "      <td>0.404602</td>\n",
       "    </tr>\n",
       "    <tr>\n",
       "      <th>winsorized_basement</th>\n",
       "      <td>0.278845</td>\n",
       "      <td>-0.132630</td>\n",
       "      <td>1.000000</td>\n",
       "      <td>0.076598</td>\n",
       "      <td>0.009086</td>\n",
       "      <td>0.371817</td>\n",
       "    </tr>\n",
       "    <tr>\n",
       "      <th>area_ratio</th>\n",
       "      <td>0.186688</td>\n",
       "      <td>0.073187</td>\n",
       "      <td>0.076598</td>\n",
       "      <td>1.000000</td>\n",
       "      <td>-0.136235</td>\n",
       "      <td>0.175577</td>\n",
       "    </tr>\n",
       "    <tr>\n",
       "      <th>lot_comp</th>\n",
       "      <td>0.039724</td>\n",
       "      <td>0.054635</td>\n",
       "      <td>0.009086</td>\n",
       "      <td>-0.136235</td>\n",
       "      <td>1.000000</td>\n",
       "      <td>0.074735</td>\n",
       "    </tr>\n",
       "    <tr>\n",
       "      <th>living_comp</th>\n",
       "      <td>0.306195</td>\n",
       "      <td>0.404602</td>\n",
       "      <td>0.371817</td>\n",
       "      <td>0.175577</td>\n",
       "      <td>0.074735</td>\n",
       "      <td>1.000000</td>\n",
       "    </tr>\n",
       "  </tbody>\n",
       "</table>\n",
       "</div>"
      ],
      "text/plain": [
       "                     normalized_price  winsorized_above  winsorized_basement  \\\n",
       "normalized_price             1.000000          0.572038             0.278845   \n",
       "winsorized_above             0.572038          1.000000            -0.132630   \n",
       "winsorized_basement          0.278845         -0.132630             1.000000   \n",
       "area_ratio                   0.186688          0.073187             0.076598   \n",
       "lot_comp                     0.039724          0.054635             0.009086   \n",
       "living_comp                  0.306195          0.404602             0.371817   \n",
       "\n",
       "                     area_ratio  lot_comp  living_comp  \n",
       "normalized_price       0.186688  0.039724     0.306195  \n",
       "winsorized_above       0.073187  0.054635     0.404602  \n",
       "winsorized_basement    0.076598  0.009086     0.371817  \n",
       "area_ratio             1.000000 -0.136235     0.175577  \n",
       "lot_comp              -0.136235  1.000000     0.074735  \n",
       "living_comp            0.175577  0.074735     1.000000  "
      ]
     },
     "execution_count": 61,
     "metadata": {},
     "output_type": "execute_result"
    }
   ],
   "source": [
    "house_data[['normalized_price','winsorized_above','winsorized_basement','area_ratio','lot_comp','living_comp']].corr()"
   ]
  },
  {
   "cell_type": "code",
   "execution_count": 82,
   "metadata": {},
   "outputs": [
    {
     "data": {
      "text/html": [
       "<table class=\"simpletable\">\n",
       "<caption>OLS Regression Results</caption>\n",
       "<tr>\n",
       "  <th>Dep. Variable:</th>    <td>normalized_price</td> <th>  R-squared:         </th> <td>   0.643</td>\n",
       "</tr>\n",
       "<tr>\n",
       "  <th>Model:</th>                   <td>OLS</td>       <th>  Adj. R-squared:    </th> <td>   0.642</td>\n",
       "</tr>\n",
       "<tr>\n",
       "  <th>Method:</th>             <td>Least Squares</td>  <th>  F-statistic:       </th> <td>   470.6</td>\n",
       "</tr>\n",
       "<tr>\n",
       "  <th>Date:</th>             <td>Mon, 30 Dec 2019</td> <th>  Prob (F-statistic):</th>  <td>  0.00</td> \n",
       "</tr>\n",
       "<tr>\n",
       "  <th>Time:</th>                 <td>07:11:53</td>     <th>  Log-Likelihood:    </th> <td> -4541.1</td>\n",
       "</tr>\n",
       "<tr>\n",
       "  <th>No. Observations:</th>      <td> 17290</td>      <th>  AIC:               </th> <td>   9216.</td>\n",
       "</tr>\n",
       "<tr>\n",
       "  <th>Df Residuals:</th>          <td> 17223</td>      <th>  BIC:               </th> <td>   9736.</td>\n",
       "</tr>\n",
       "<tr>\n",
       "  <th>Df Model:</th>              <td>    66</td>      <th>                     </th>     <td> </td>   \n",
       "</tr>\n",
       "<tr>\n",
       "  <th>Covariance Type:</th>      <td>nonrobust</td>    <th>                     </th>     <td> </td>   \n",
       "</tr>\n",
       "</table>\n",
       "<table class=\"simpletable\">\n",
       "<tr>\n",
       "           <td></td>              <th>coef</th>     <th>std err</th>      <th>t</th>      <th>P>|t|</th>  <th>[0.025</th>    <th>0.975]</th>  \n",
       "</tr>\n",
       "<tr>\n",
       "  <th>const</th>               <td>   11.5959</td> <td>    0.316</td> <td>   36.649</td> <td> 0.000</td> <td>   10.976</td> <td>   12.216</td>\n",
       "</tr>\n",
       "<tr>\n",
       "  <th>sqft_living</th>         <td> 2.131e-05</td> <td> 1.49e-05</td> <td>    1.435</td> <td> 0.151</td> <td> -7.8e-06</td> <td> 5.04e-05</td>\n",
       "</tr>\n",
       "<tr>\n",
       "  <th>winsorized_above</th>    <td> 7.636e-05</td> <td> 1.57e-05</td> <td>    4.868</td> <td> 0.000</td> <td> 4.56e-05</td> <td>    0.000</td>\n",
       "</tr>\n",
       "<tr>\n",
       "  <th>winsorized_basement</th> <td>    0.0001</td> <td> 1.61e-05</td> <td>    9.224</td> <td> 0.000</td> <td>    0.000</td> <td>    0.000</td>\n",
       "</tr>\n",
       "<tr>\n",
       "  <th>sqft_living15</th>       <td>    0.0002</td> <td> 1.45e-05</td> <td>   16.017</td> <td> 0.000</td> <td>    0.000</td> <td>    0.000</td>\n",
       "</tr>\n",
       "<tr>\n",
       "  <th>winsorized_lot15</th>    <td>-9.713e-06</td> <td>  8.7e-07</td> <td>  -11.161</td> <td> 0.000</td> <td>-1.14e-05</td> <td>-8.01e-06</td>\n",
       "</tr>\n",
       "<tr>\n",
       "  <th>area_ratio</th>          <td>    0.1197</td> <td>    0.017</td> <td>    7.140</td> <td> 0.000</td> <td>    0.087</td> <td>    0.153</td>\n",
       "</tr>\n",
       "<tr>\n",
       "  <th>lot_comp</th>            <td>    0.0049</td> <td>    0.002</td> <td>    2.676</td> <td> 0.007</td> <td>    0.001</td> <td>    0.008</td>\n",
       "</tr>\n",
       "<tr>\n",
       "  <th>living_comp</th>         <td>    0.1766</td> <td>    0.024</td> <td>    7.324</td> <td> 0.000</td> <td>    0.129</td> <td>    0.224</td>\n",
       "</tr>\n",
       "<tr>\n",
       "  <th>wins_bed_1</th>          <td>    0.2027</td> <td>    0.157</td> <td>    1.294</td> <td> 0.196</td> <td>   -0.104</td> <td>    0.510</td>\n",
       "</tr>\n",
       "<tr>\n",
       "  <th>wins_bed_2</th>          <td>    0.1911</td> <td>    0.156</td> <td>    1.227</td> <td> 0.220</td> <td>   -0.114</td> <td>    0.496</td>\n",
       "</tr>\n",
       "<tr>\n",
       "  <th>wins_bed_3</th>          <td>    0.0972</td> <td>    0.156</td> <td>    0.624</td> <td> 0.533</td> <td>   -0.208</td> <td>    0.402</td>\n",
       "</tr>\n",
       "<tr>\n",
       "  <th>wins_bed_4</th>          <td>    0.0799</td> <td>    0.156</td> <td>    0.513</td> <td> 0.608</td> <td>   -0.225</td> <td>    0.385</td>\n",
       "</tr>\n",
       "<tr>\n",
       "  <th>cond_2</th>              <td>   -0.0262</td> <td>    0.071</td> <td>   -0.367</td> <td> 0.714</td> <td>   -0.166</td> <td>    0.114</td>\n",
       "</tr>\n",
       "<tr>\n",
       "  <th>cond_3</th>              <td>    0.1057</td> <td>    0.066</td> <td>    1.593</td> <td> 0.111</td> <td>   -0.024</td> <td>    0.236</td>\n",
       "</tr>\n",
       "<tr>\n",
       "  <th>cond_4</th>              <td>    0.1883</td> <td>    0.066</td> <td>    2.836</td> <td> 0.005</td> <td>    0.058</td> <td>    0.318</td>\n",
       "</tr>\n",
       "<tr>\n",
       "  <th>cond_5</th>              <td>    0.2996</td> <td>    0.067</td> <td>    4.485</td> <td> 0.000</td> <td>    0.169</td> <td>    0.430</td>\n",
       "</tr>\n",
       "<tr>\n",
       "  <th>bath_0.5</th>            <td>   -0.2573</td> <td>    0.234</td> <td>   -1.099</td> <td> 0.272</td> <td>   -0.716</td> <td>    0.202</td>\n",
       "</tr>\n",
       "<tr>\n",
       "  <th>bath_0.75</th>           <td>    0.0519</td> <td>    0.177</td> <td>    0.293</td> <td> 0.770</td> <td>   -0.295</td> <td>    0.399</td>\n",
       "</tr>\n",
       "<tr>\n",
       "  <th>bath_1.0</th>            <td>    0.0620</td> <td>    0.173</td> <td>    0.358</td> <td> 0.720</td> <td>   -0.277</td> <td>    0.402</td>\n",
       "</tr>\n",
       "<tr>\n",
       "  <th>bath_1.25</th>           <td>   -0.0250</td> <td>    0.210</td> <td>   -0.119</td> <td> 0.905</td> <td>   -0.437</td> <td>    0.387</td>\n",
       "</tr>\n",
       "<tr>\n",
       "  <th>bath_1.5</th>            <td>    0.0238</td> <td>    0.173</td> <td>    0.137</td> <td> 0.891</td> <td>   -0.316</td> <td>    0.364</td>\n",
       "</tr>\n",
       "<tr>\n",
       "  <th>bath_1.75</th>           <td>    0.0462</td> <td>    0.173</td> <td>    0.267</td> <td> 0.790</td> <td>   -0.293</td> <td>    0.386</td>\n",
       "</tr>\n",
       "<tr>\n",
       "  <th>bath_2.0</th>            <td>    0.0343</td> <td>    0.173</td> <td>    0.198</td> <td> 0.843</td> <td>   -0.305</td> <td>    0.374</td>\n",
       "</tr>\n",
       "<tr>\n",
       "  <th>bath_2.25</th>           <td>    0.0248</td> <td>    0.173</td> <td>    0.143</td> <td> 0.886</td> <td>   -0.315</td> <td>    0.365</td>\n",
       "</tr>\n",
       "<tr>\n",
       "  <th>bath_2.5</th>            <td>   -0.0329</td> <td>    0.173</td> <td>   -0.190</td> <td> 0.849</td> <td>   -0.372</td> <td>    0.307</td>\n",
       "</tr>\n",
       "<tr>\n",
       "  <th>bath_2.75</th>           <td>    0.0018</td> <td>    0.173</td> <td>    0.010</td> <td> 0.992</td> <td>   -0.338</td> <td>    0.342</td>\n",
       "</tr>\n",
       "<tr>\n",
       "  <th>bath_3.0</th>            <td>    0.0350</td> <td>    0.174</td> <td>    0.201</td> <td> 0.840</td> <td>   -0.305</td> <td>    0.375</td>\n",
       "</tr>\n",
       "<tr>\n",
       "  <th>bath_3.25</th>           <td>    0.0612</td> <td>    0.174</td> <td>    0.352</td> <td> 0.725</td> <td>   -0.280</td> <td>    0.402</td>\n",
       "</tr>\n",
       "<tr>\n",
       "  <th>bath_3.5</th>            <td>    0.0138</td> <td>    0.174</td> <td>    0.079</td> <td> 0.937</td> <td>   -0.327</td> <td>    0.354</td>\n",
       "</tr>\n",
       "<tr>\n",
       "  <th>bath_3.75</th>           <td>    0.1379</td> <td>    0.176</td> <td>    0.785</td> <td> 0.432</td> <td>   -0.206</td> <td>    0.482</td>\n",
       "</tr>\n",
       "<tr>\n",
       "  <th>bath_4.0</th>            <td>    0.0886</td> <td>    0.176</td> <td>    0.504</td> <td> 0.614</td> <td>   -0.256</td> <td>    0.433</td>\n",
       "</tr>\n",
       "<tr>\n",
       "  <th>bath_4.25</th>           <td>    0.0996</td> <td>    0.178</td> <td>    0.559</td> <td> 0.576</td> <td>   -0.250</td> <td>    0.449</td>\n",
       "</tr>\n",
       "<tr>\n",
       "  <th>bath_4.5</th>            <td>    0.0522</td> <td>    0.177</td> <td>    0.295</td> <td> 0.768</td> <td>   -0.295</td> <td>    0.400</td>\n",
       "</tr>\n",
       "<tr>\n",
       "  <th>bath_4.75</th>           <td>    0.1956</td> <td>    0.191</td> <td>    1.023</td> <td> 0.307</td> <td>   -0.179</td> <td>    0.571</td>\n",
       "</tr>\n",
       "<tr>\n",
       "  <th>bath_5.0</th>            <td>    0.1031</td> <td>    0.191</td> <td>    0.539</td> <td> 0.590</td> <td>   -0.272</td> <td>    0.478</td>\n",
       "</tr>\n",
       "<tr>\n",
       "  <th>bath_5.25</th>           <td>    0.2583</td> <td>    0.197</td> <td>    1.313</td> <td> 0.189</td> <td>   -0.127</td> <td>    0.644</td>\n",
       "</tr>\n",
       "<tr>\n",
       "  <th>bath_5.5</th>            <td>    0.1569</td> <td>    0.206</td> <td>    0.762</td> <td> 0.446</td> <td>   -0.247</td> <td>    0.560</td>\n",
       "</tr>\n",
       "<tr>\n",
       "  <th>bath_5.75</th>           <td>   -0.1888</td> <td>    0.255</td> <td>   -0.741</td> <td> 0.458</td> <td>   -0.688</td> <td>    0.310</td>\n",
       "</tr>\n",
       "<tr>\n",
       "  <th>bath_6.0</th>            <td>    0.7029</td> <td>    0.286</td> <td>    2.456</td> <td> 0.014</td> <td>    0.142</td> <td>    1.264</td>\n",
       "</tr>\n",
       "<tr>\n",
       "  <th>bath_6.25</th>           <td>    0.8125</td> <td>    0.364</td> <td>    2.233</td> <td> 0.026</td> <td>    0.099</td> <td>    1.526</td>\n",
       "</tr>\n",
       "<tr>\n",
       "  <th>bath_6.5</th>            <td>    0.1092</td> <td>    0.285</td> <td>    0.384</td> <td> 0.701</td> <td>   -0.449</td> <td>    0.667</td>\n",
       "</tr>\n",
       "<tr>\n",
       "  <th>bath_6.75</th>           <td>   -0.3750</td> <td>    0.287</td> <td>   -1.307</td> <td> 0.191</td> <td>   -0.938</td> <td>    0.188</td>\n",
       "</tr>\n",
       "<tr>\n",
       "  <th>bath_7.5</th>            <td>   -0.1352</td> <td>    0.360</td> <td>   -0.375</td> <td> 0.708</td> <td>   -0.842</td> <td>    0.571</td>\n",
       "</tr>\n",
       "<tr>\n",
       "  <th>bath_7.75</th>           <td> 2.776e-16</td> <td> 2.26e-15</td> <td>    0.123</td> <td> 0.902</td> <td>-4.16e-15</td> <td> 4.71e-15</td>\n",
       "</tr>\n",
       "<tr>\n",
       "  <th>bath_8.0</th>            <td>    0.3374</td> <td>    0.387</td> <td>    0.873</td> <td> 0.383</td> <td>   -0.420</td> <td>    1.095</td>\n",
       "</tr>\n",
       "<tr>\n",
       "  <th>floor_1.5</th>           <td>    0.1548</td> <td>    0.009</td> <td>   16.486</td> <td> 0.000</td> <td>    0.136</td> <td>    0.173</td>\n",
       "</tr>\n",
       "<tr>\n",
       "  <th>floor_2.0</th>           <td>   -0.0317</td> <td>    0.009</td> <td>   -3.578</td> <td> 0.000</td> <td>   -0.049</td> <td>   -0.014</td>\n",
       "</tr>\n",
       "<tr>\n",
       "  <th>floor_2.5</th>           <td>    0.1047</td> <td>    0.030</td> <td>    3.532</td> <td> 0.000</td> <td>    0.047</td> <td>    0.163</td>\n",
       "</tr>\n",
       "<tr>\n",
       "  <th>floor_3.0</th>           <td>    0.0370</td> <td>    0.020</td> <td>    1.863</td> <td> 0.063</td> <td>   -0.002</td> <td>    0.076</td>\n",
       "</tr>\n",
       "<tr>\n",
       "  <th>floor_3.5</th>           <td>    0.2115</td> <td>    0.122</td> <td>    1.734</td> <td> 0.083</td> <td>   -0.028</td> <td>    0.451</td>\n",
       "</tr>\n",
       "<tr>\n",
       "  <th>water_1</th>             <td>    0.3492</td> <td>    0.035</td> <td>   10.101</td> <td> 0.000</td> <td>    0.281</td> <td>    0.417</td>\n",
       "</tr>\n",
       "<tr>\n",
       "  <th>view_1</th>              <td>    0.1836</td> <td>    0.019</td> <td>    9.437</td> <td> 0.000</td> <td>    0.145</td> <td>    0.222</td>\n",
       "</tr>\n",
       "<tr>\n",
       "  <th>view_2</th>              <td>    0.1064</td> <td>    0.012</td> <td>    8.864</td> <td> 0.000</td> <td>    0.083</td> <td>    0.130</td>\n",
       "</tr>\n",
       "<tr>\n",
       "  <th>view_3</th>              <td>    0.1076</td> <td>    0.016</td> <td>    6.645</td> <td> 0.000</td> <td>    0.076</td> <td>    0.139</td>\n",
       "</tr>\n",
       "<tr>\n",
       "  <th>view_4</th>              <td>    0.2582</td> <td>    0.025</td> <td>   10.319</td> <td> 0.000</td> <td>    0.209</td> <td>    0.307</td>\n",
       "</tr>\n",
       "<tr>\n",
       "  <th>grade_3</th>             <td>   -0.1341</td> <td>    0.393</td> <td>   -0.342</td> <td> 0.733</td> <td>   -0.904</td> <td>    0.635</td>\n",
       "</tr>\n",
       "<tr>\n",
       "  <th>grade_4</th>             <td>   -0.2595</td> <td>    0.358</td> <td>   -0.725</td> <td> 0.468</td> <td>   -0.961</td> <td>    0.442</td>\n",
       "</tr>\n",
       "<tr>\n",
       "  <th>grade_5</th>             <td>   -0.1611</td> <td>    0.353</td> <td>   -0.456</td> <td> 0.648</td> <td>   -0.853</td> <td>    0.531</td>\n",
       "</tr>\n",
       "<tr>\n",
       "  <th>grade_6</th>             <td>    0.0121</td> <td>    0.353</td> <td>    0.034</td> <td> 0.973</td> <td>   -0.679</td> <td>    0.703</td>\n",
       "</tr>\n",
       "<tr>\n",
       "  <th>grade_7</th>             <td>    0.2166</td> <td>    0.352</td> <td>    0.614</td> <td> 0.539</td> <td>   -0.474</td> <td>    0.907</td>\n",
       "</tr>\n",
       "<tr>\n",
       "  <th>grade_8</th>             <td>    0.3960</td> <td>    0.353</td> <td>    1.123</td> <td> 0.261</td> <td>   -0.295</td> <td>    1.087</td>\n",
       "</tr>\n",
       "<tr>\n",
       "  <th>grade_9</th>             <td>    0.5968</td> <td>    0.353</td> <td>    1.692</td> <td> 0.091</td> <td>   -0.095</td> <td>    1.288</td>\n",
       "</tr>\n",
       "<tr>\n",
       "  <th>grade_10</th>            <td>    0.7664</td> <td>    0.353</td> <td>    2.171</td> <td> 0.030</td> <td>    0.075</td> <td>    1.458</td>\n",
       "</tr>\n",
       "<tr>\n",
       "  <th>grade_11</th>            <td>    0.8711</td> <td>    0.353</td> <td>    2.465</td> <td> 0.014</td> <td>    0.178</td> <td>    1.564</td>\n",
       "</tr>\n",
       "<tr>\n",
       "  <th>grade_12</th>            <td>    1.0404</td> <td>    0.356</td> <td>    2.925</td> <td> 0.003</td> <td>    0.343</td> <td>    1.737</td>\n",
       "</tr>\n",
       "<tr>\n",
       "  <th>grade_13</th>            <td>    1.1893</td> <td>    0.372</td> <td>    3.195</td> <td> 0.001</td> <td>    0.460</td> <td>    1.919</td>\n",
       "</tr>\n",
       "<tr>\n",
       "  <th>reno_1.0</th>            <td>    0.1929</td> <td>    0.012</td> <td>   15.993</td> <td> 0.000</td> <td>    0.169</td> <td>    0.216</td>\n",
       "</tr>\n",
       "</table>\n",
       "<table class=\"simpletable\">\n",
       "<tr>\n",
       "  <th>Omnibus:</th>       <td> 7.106</td> <th>  Durbin-Watson:     </th> <td>   1.992</td>\n",
       "</tr>\n",
       "<tr>\n",
       "  <th>Prob(Omnibus):</th> <td> 0.029</td> <th>  Jarque-Bera (JB):  </th> <td>   7.159</td>\n",
       "</tr>\n",
       "<tr>\n",
       "  <th>Skew:</th>          <td>-0.040</td> <th>  Prob(JB):          </th> <td>  0.0279</td>\n",
       "</tr>\n",
       "<tr>\n",
       "  <th>Kurtosis:</th>      <td> 3.059</td> <th>  Cond. No.          </th> <td>1.11e+16</td>\n",
       "</tr>\n",
       "</table><br/><br/>Warnings:<br/>[1] Standard Errors assume that the covariance matrix of the errors is correctly specified.<br/>[2] The smallest eigenvalue is 1.4e-20. This might indicate that there are<br/>strong multicollinearity problems or that the design matrix is singular."
      ],
      "text/plain": [
       "<class 'statsmodels.iolib.summary.Summary'>\n",
       "\"\"\"\n",
       "                            OLS Regression Results                            \n",
       "==============================================================================\n",
       "Dep. Variable:       normalized_price   R-squared:                       0.643\n",
       "Model:                            OLS   Adj. R-squared:                  0.642\n",
       "Method:                 Least Squares   F-statistic:                     470.6\n",
       "Date:                Mon, 30 Dec 2019   Prob (F-statistic):               0.00\n",
       "Time:                        07:11:53   Log-Likelihood:                -4541.1\n",
       "No. Observations:               17290   AIC:                             9216.\n",
       "Df Residuals:                   17223   BIC:                             9736.\n",
       "Df Model:                          66                                         \n",
       "Covariance Type:            nonrobust                                         \n",
       "=======================================================================================\n",
       "                          coef    std err          t      P>|t|      [0.025      0.975]\n",
       "---------------------------------------------------------------------------------------\n",
       "const                  11.5959      0.316     36.649      0.000      10.976      12.216\n",
       "sqft_living          2.131e-05   1.49e-05      1.435      0.151    -7.8e-06    5.04e-05\n",
       "winsorized_above     7.636e-05   1.57e-05      4.868      0.000    4.56e-05       0.000\n",
       "winsorized_basement     0.0001   1.61e-05      9.224      0.000       0.000       0.000\n",
       "sqft_living15           0.0002   1.45e-05     16.017      0.000       0.000       0.000\n",
       "winsorized_lot15    -9.713e-06    8.7e-07    -11.161      0.000   -1.14e-05   -8.01e-06\n",
       "area_ratio              0.1197      0.017      7.140      0.000       0.087       0.153\n",
       "lot_comp                0.0049      0.002      2.676      0.007       0.001       0.008\n",
       "living_comp             0.1766      0.024      7.324      0.000       0.129       0.224\n",
       "wins_bed_1              0.2027      0.157      1.294      0.196      -0.104       0.510\n",
       "wins_bed_2              0.1911      0.156      1.227      0.220      -0.114       0.496\n",
       "wins_bed_3              0.0972      0.156      0.624      0.533      -0.208       0.402\n",
       "wins_bed_4              0.0799      0.156      0.513      0.608      -0.225       0.385\n",
       "cond_2                 -0.0262      0.071     -0.367      0.714      -0.166       0.114\n",
       "cond_3                  0.1057      0.066      1.593      0.111      -0.024       0.236\n",
       "cond_4                  0.1883      0.066      2.836      0.005       0.058       0.318\n",
       "cond_5                  0.2996      0.067      4.485      0.000       0.169       0.430\n",
       "bath_0.5               -0.2573      0.234     -1.099      0.272      -0.716       0.202\n",
       "bath_0.75               0.0519      0.177      0.293      0.770      -0.295       0.399\n",
       "bath_1.0                0.0620      0.173      0.358      0.720      -0.277       0.402\n",
       "bath_1.25              -0.0250      0.210     -0.119      0.905      -0.437       0.387\n",
       "bath_1.5                0.0238      0.173      0.137      0.891      -0.316       0.364\n",
       "bath_1.75               0.0462      0.173      0.267      0.790      -0.293       0.386\n",
       "bath_2.0                0.0343      0.173      0.198      0.843      -0.305       0.374\n",
       "bath_2.25               0.0248      0.173      0.143      0.886      -0.315       0.365\n",
       "bath_2.5               -0.0329      0.173     -0.190      0.849      -0.372       0.307\n",
       "bath_2.75               0.0018      0.173      0.010      0.992      -0.338       0.342\n",
       "bath_3.0                0.0350      0.174      0.201      0.840      -0.305       0.375\n",
       "bath_3.25               0.0612      0.174      0.352      0.725      -0.280       0.402\n",
       "bath_3.5                0.0138      0.174      0.079      0.937      -0.327       0.354\n",
       "bath_3.75               0.1379      0.176      0.785      0.432      -0.206       0.482\n",
       "bath_4.0                0.0886      0.176      0.504      0.614      -0.256       0.433\n",
       "bath_4.25               0.0996      0.178      0.559      0.576      -0.250       0.449\n",
       "bath_4.5                0.0522      0.177      0.295      0.768      -0.295       0.400\n",
       "bath_4.75               0.1956      0.191      1.023      0.307      -0.179       0.571\n",
       "bath_5.0                0.1031      0.191      0.539      0.590      -0.272       0.478\n",
       "bath_5.25               0.2583      0.197      1.313      0.189      -0.127       0.644\n",
       "bath_5.5                0.1569      0.206      0.762      0.446      -0.247       0.560\n",
       "bath_5.75              -0.1888      0.255     -0.741      0.458      -0.688       0.310\n",
       "bath_6.0                0.7029      0.286      2.456      0.014       0.142       1.264\n",
       "bath_6.25               0.8125      0.364      2.233      0.026       0.099       1.526\n",
       "bath_6.5                0.1092      0.285      0.384      0.701      -0.449       0.667\n",
       "bath_6.75              -0.3750      0.287     -1.307      0.191      -0.938       0.188\n",
       "bath_7.5               -0.1352      0.360     -0.375      0.708      -0.842       0.571\n",
       "bath_7.75            2.776e-16   2.26e-15      0.123      0.902   -4.16e-15    4.71e-15\n",
       "bath_8.0                0.3374      0.387      0.873      0.383      -0.420       1.095\n",
       "floor_1.5               0.1548      0.009     16.486      0.000       0.136       0.173\n",
       "floor_2.0              -0.0317      0.009     -3.578      0.000      -0.049      -0.014\n",
       "floor_2.5               0.1047      0.030      3.532      0.000       0.047       0.163\n",
       "floor_3.0               0.0370      0.020      1.863      0.063      -0.002       0.076\n",
       "floor_3.5               0.2115      0.122      1.734      0.083      -0.028       0.451\n",
       "water_1                 0.3492      0.035     10.101      0.000       0.281       0.417\n",
       "view_1                  0.1836      0.019      9.437      0.000       0.145       0.222\n",
       "view_2                  0.1064      0.012      8.864      0.000       0.083       0.130\n",
       "view_3                  0.1076      0.016      6.645      0.000       0.076       0.139\n",
       "view_4                  0.2582      0.025     10.319      0.000       0.209       0.307\n",
       "grade_3                -0.1341      0.393     -0.342      0.733      -0.904       0.635\n",
       "grade_4                -0.2595      0.358     -0.725      0.468      -0.961       0.442\n",
       "grade_5                -0.1611      0.353     -0.456      0.648      -0.853       0.531\n",
       "grade_6                 0.0121      0.353      0.034      0.973      -0.679       0.703\n",
       "grade_7                 0.2166      0.352      0.614      0.539      -0.474       0.907\n",
       "grade_8                 0.3960      0.353      1.123      0.261      -0.295       1.087\n",
       "grade_9                 0.5968      0.353      1.692      0.091      -0.095       1.288\n",
       "grade_10                0.7664      0.353      2.171      0.030       0.075       1.458\n",
       "grade_11                0.8711      0.353      2.465      0.014       0.178       1.564\n",
       "grade_12                1.0404      0.356      2.925      0.003       0.343       1.737\n",
       "grade_13                1.1893      0.372      3.195      0.001       0.460       1.919\n",
       "reno_1.0                0.1929      0.012     15.993      0.000       0.169       0.216\n",
       "==============================================================================\n",
       "Omnibus:                        7.106   Durbin-Watson:                   1.992\n",
       "Prob(Omnibus):                  0.029   Jarque-Bera (JB):                7.159\n",
       "Skew:                          -0.040   Prob(JB):                       0.0279\n",
       "Kurtosis:                       3.059   Cond. No.                     1.11e+16\n",
       "==============================================================================\n",
       "\n",
       "Warnings:\n",
       "[1] Standard Errors assume that the covariance matrix of the errors is correctly specified.\n",
       "[2] The smallest eigenvalue is 1.4e-20. This might indicate that there are\n",
       "strong multicollinearity problems or that the design matrix is singular.\n",
       "\"\"\""
      ]
     },
     "execution_count": 82,
     "metadata": {},
     "output_type": "execute_result"
    }
   ],
   "source": [
    "X = house_data[['sqft_living','winsorized_above','winsorized_basement','sqft_living15','winsorized_lot15','area_ratio','lot_comp','living_comp']+dummy_column_names]\n",
    "Y = house_data['normalized_price']\n",
    "\n",
    "X = sm.add_constant(X)\n",
    "\n",
    "X_train, X_test, y_train, y_test = train_test_split(X, Y, test_size = 0.2, random_state = 465)\n",
    "\n",
    "results = sm.OLS(y_train, X_train).fit()\n",
    "\n",
    "results.summary()"
   ]
  },
  {
   "cell_type": "markdown",
   "metadata": {},
   "source": [
    "The addition of new features has slightly improved model performance. The R-Squared value is a little bit (.2%) higher, and the AIC and BIC scores are lower. All of the newly constructed features are statistically significant in the model."
   ]
  },
  {
   "cell_type": "code",
   "execution_count": 63,
   "metadata": {},
   "outputs": [
    {
     "data": {
      "image/png": "[encoded data removed]",
      "text/plain": [
       "<Figure size 432x288 with 1 Axes>"
      ]
     },
     "metadata": {
      "needs_background": "light"
     },
     "output_type": "display_data"
    },
    {
     "name": "stdout",
     "output_type": "stream",
     "text": [
      "Mean absolute error of the prediction is: 0.2556973422189912\n",
      "Mean squared error of the prediction is: 0.10271958043628272\n",
      "Root mean squared error of the prediction is: 0.3204989554371164\n",
      "Mean absolute percentage error of the prediction is: 1.968920474924913\n"
     ]
    }
   ],
   "source": [
    "y_preds = results.predict(X_test)\n",
    "plt.scatter(y_test, y_preds)\n",
    "plt.plot(y_test, y_test, color=\"red\")\n",
    "plt.xlabel(\"true values\")\n",
    "plt.ylabel(\"predicted values\")\n",
    "plt.title(\"Charges: true and predicted values\")\n",
    "plt.show()\n",
    "\n",
    "print(f\"Mean absolute error of the prediction is: {mean_absolute_error(y_test, y_preds)}\")\n",
    "print(f\"Mean squared error of the prediction is: {mse(y_test, y_preds)}\")\n",
    "print(f\"Root mean squared error of the prediction is: {rmse(y_test, y_preds)}\")\n",
    "print(f\"Mean absolute percentage error of the prediction is: {np.mean(np.abs((y_test - y_preds) / y_test)) * 100}\")"
   ]
  },
  {
   "cell_type": "markdown",
   "metadata": {},
   "source": [
    "Prediction error is relatively similar to the previous model. MSE and RMSE are lower, but MAE and MAPE are slightly higher. Taken in conjunction with the updated R-Squared, AIC, and BIC, this model is an overall improvement."
   ]
  },
  {
   "cell_type": "code",
   "execution_count": 76,
   "metadata": {},
   "outputs": [
    {
     "data": {
      "image/png": "[encoded data removed]",
      "text/plain": [
       "<Figure size 432x288 with 1 Axes>"
      ]
     },
     "metadata": {
      "needs_background": "light"
     },
     "output_type": "display_data"
    },
    {
     "name": "stdout",
     "output_type": "stream",
     "text": [
      "-0.00695090322607623\n"
     ]
    }
   ],
   "source": [
    "error = y_test - y_preds\n",
    "plt.plot(error)\n",
    "plt.show()\n",
    "print(np.mean(error))"
   ]
  },
  {
   "cell_type": "code",
   "execution_count": 77,
   "metadata": {},
   "outputs": [
    {
     "data": {
      "image/png": "[encoded data removed]",
      "text/plain": [
       "<Figure size 864x360 with 2 Axes>"
      ]
     },
     "metadata": {
      "needs_background": "light"
     },
     "output_type": "display_data"
    }
   ],
   "source": [
    "rand_nums = np.random.normal(np.mean(error), np.std(error), len(error))\n",
    "\n",
    "plt.figure(figsize=(12,5))\n",
    "\n",
    "plt.subplot(1,2,1)\n",
    "plt.scatter(np.sort(rand_nums), np.sort(error)) # we sort the arrays\n",
    "plt.xlabel(\"the normally distributed random variable\")\n",
    "plt.ylabel(\"errors of the model\")\n",
    "plt.title(\"QQ plot\")\n",
    "\n",
    "plt.subplot(1,2,2)\n",
    "plt.hist(error)\n",
    "plt.xlabel(\"errors\")\n",
    "plt.title(\"Histogram of the errors\")\n",
    "\n",
    "plt.tight_layout()\n",
    "plt.show()"
   ]
  },
  {
   "cell_type": "markdown",
   "metadata": {},
   "source": [
    "The above 3 graphs show that the errors from the model are not correlated (graph 1) and are fairly normal (graphs 2 and 3)."
   ]
  },
  {
   "cell_type": "code",
   "execution_count": 78,
   "metadata": {},
   "outputs": [
    {
     "name": "stdout",
     "output_type": "stream",
     "text": [
      "Jarque-Bera test statistics is 12.854460204696233 and p value is 0.0016169233496119428\n",
      "Normality test statistics is 11.834353894639737 and p value is 0.002692791348607234\n"
     ]
    }
   ],
   "source": [
    "from scipy.stats import jarque_bera\n",
    "from scipy.stats import normaltest\n",
    "jb_stats = jarque_bera(error)\n",
    "norm_stats = normaltest(error)\n",
    "\n",
    "print(\"Jarque-Bera test statistics is {0} and p value is {1}\".format(jb_stats[0], jb_stats[1]))\n",
    "print(\"Normality test statistics is {0} and p value is {1}\".format(norm_stats[0], norm_stats[1]))"
   ]
  },
  {
   "cell_type": "markdown",
   "metadata": {},
   "source": [
    "In conjunction with the previous graphs, the above Jarque-Bera and normality tests show that the errors are not exactly normally distributed, but the metric for each test is fairly low."
   ]
  },
  {
   "cell_type": "code",
   "execution_count": 79,
   "metadata": {},
   "outputs": [
    {
     "data": {
      "image/png": "[encoded data removed]",
      "text/plain": [
       "<Figure size 432x288 with 1 Axes>"
      ]
     },
     "metadata": {
      "needs_background": "light"
     },
     "output_type": "display_data"
    }
   ],
   "source": [
    "plt.scatter(y_preds, error)\n",
    "plt.xlabel('Predicted')\n",
    "plt.ylabel('Residual')\n",
    "plt.axhline(y=0)\n",
    "plt.title('Residual vs. Predicted')\n",
    "plt.show()"
   ]
  },
  {
   "cell_type": "markdown",
   "metadata": {},
   "source": [
    "From the above graph, it is apparent that the model is not completely homoscedastic. While most of the residuals are clustered between 1 and -1, there are higher residuals for higher predicted values. This being said, the model is not heinously heteroscedastic."
   ]
  },
  {
   "cell_type": "code",
   "execution_count": 80,
   "metadata": {},
   "outputs": [
    {
     "data": {
      "image/png": "[encoded data removed]",
      "text/plain": [
       "<Figure size 432x288 with 1 Axes>"
      ]
     },
     "metadata": {
      "needs_background": "light"
     },
     "output_type": "display_data"
    }
   ],
   "source": [
    "from statsmodels.tsa.stattools import acf\n",
    "\n",
    "acf_data = acf(error)\n",
    "\n",
    "plt.plot(acf_data[1:])\n",
    "plt.show()"
   ]
  },
  {
   "cell_type": "markdown",
   "metadata": {},
   "source": [
    "The above acf graph shows that the errors are not correlated with one another in any significant way. This is a good sign for the model."
   ]
  },
  {
   "cell_type": "markdown",
   "metadata": {},
   "source": [
    "Altogether, the assumptions of a linear model are mostly met. The errors are not exactly normally distributed, but they are not correlated with one another. Some of the model's features share some correlation, but most of the features have only weak correlations with other features. Furthermore, none of the features share a correlation over .9. Based on the model's overall performance as well as the tests on the errors and residuals, this model is performing well."
   ]
  },
  {
   "cell_type": "markdown",
   "metadata": {},
   "source": [
    "Although the model is in a fairly good state overall, it may be beneficial to implement regularization to see if the model can be improved. 3 types of regularization (ridge, lasso, and elasticnet) will be investigated."
   ]
  },
  {
   "cell_type": "code",
   "execution_count": 64,
   "metadata": {},
   "outputs": [
    {
     "name": "stdout",
     "output_type": "stream",
     "text": [
      "Best alpha value is: 0.0001\n",
      "R-squared of the model in training set is: 0.6420575555845794\n",
      "-----Test set statistics-----\n",
      "R-squared of the model in test set is: 0.6310521490676763\n",
      "Mean absolute error of the prediction is: 0.2553335513525254\n",
      "Mean squared error of the prediction is: 0.10199018829648893\n",
      "Root mean squared error of the prediction is: 0.31935902726631815\n",
      "Mean absolute percentage error of the prediction is: 1.9661992902700747\n"
     ]
    }
   ],
   "source": [
    "from sklearn.linear_model import LinearRegression, LassoCV, RidgeCV, ElasticNetCV\n",
    "\n",
    "alphas = [np.power(10.0,p) for p in np.arange(-10,40,1)]\n",
    "\n",
    "lasso_cv = LassoCV(alphas=alphas, cv=5)\n",
    "\n",
    "lasso_cv.fit(X_train, y_train)\n",
    "\n",
    "# We are making predictions here\n",
    "y_preds_train = lasso_cv.predict(X_train)\n",
    "y_preds_test = lasso_cv.predict(X_test)\n",
    "\n",
    "print(f\"Best alpha value is: {lasso_cv.alpha_}\")\n",
    "print(f\"R-squared of the model in training set is: {lasso_cv.score(X_train, y_train)}\")\n",
    "print(\"-----Test set statistics-----\")\n",
    "print(f\"R-squared of the model in test set is: {lasso_cv.score(X_test, y_test)}\")\n",
    "print(f\"Mean absolute error of the prediction is: {mean_absolute_error(y_test, y_preds_test)}\")\n",
    "print(f\"Mean squared error of the prediction is: {mse(y_test, y_preds_test)}\")\n",
    "print(f\"Root mean squared error of the prediction is: {rmse(y_test, y_preds_test)}\")\n",
    "print(f\"Mean absolute percentage error of the prediction is: {np.mean(np.abs((y_test - y_preds_test) / y_test)) * 100}\")"
   ]
  },
  {
   "cell_type": "code",
   "execution_count": 65,
   "metadata": {},
   "outputs": [
    {
     "name": "stdout",
     "output_type": "stream",
     "text": [
      "Best alpha value is: 1.0\n",
      "R-squared of the model in training set is: 0.6431568991941033\n",
      "-----Test set statistics-----\n",
      "R-squared of the model in test set is: 0.6299516572864187\n",
      "Mean absolute error of the prediction is: 0.2555496716850947\n",
      "Mean squared error of the prediction is: 0.10229440300787856\n",
      "Root mean squared error of the prediction is: 0.3198349621412246\n",
      "Mean absolute percentage error of the prediction is: 1.9678541908236165\n"
     ]
    }
   ],
   "source": [
    "ridge_cv = RidgeCV(alphas=alphas, cv=5)\n",
    "\n",
    "ridge_cv.fit(X_train, y_train)\n",
    "\n",
    "# We are making predictions here\n",
    "y_preds_train = ridge_cv.predict(X_train)\n",
    "y_preds_test = ridge_cv.predict(X_test)\n",
    "\n",
    "print(f\"Best alpha value is: {ridge_cv.alpha_}\")\n",
    "print(f\"R-squared of the model in training set is: {ridge_cv.score(X_train, y_train)}\")\n",
    "print(\"-----Test set statistics-----\")\n",
    "print(f\"R-squared of the model in test set is: {ridge_cv.score(X_test, y_test)}\")\n",
    "print(f\"Mean absolute error of the prediction is: {mean_absolute_error(y_test, y_preds_test)}\")\n",
    "print(f\"Mean squared error of the prediction is: {mse(y_test, y_preds_test)}\")\n",
    "print(f\"Root mean squared error of the prediction is: {rmse(y_test, y_preds_test)}\")\n",
    "print(f\"Mean absolute percentage error of the prediction is: {np.mean(np.abs((y_test - y_preds_test) / y_test)) * 100}\")"
   ]
  },
  {
   "cell_type": "code",
   "execution_count": 66,
   "metadata": {},
   "outputs": [
    {
     "name": "stdout",
     "output_type": "stream",
     "text": [
      "Best alpha value is: 0.0001\n",
      "R-squared of the model in training set is: 0.6425080329562507\n",
      "-----Test set statistics-----\n",
      "R-squared of the model in test set is: 0.6310825219045646\n",
      "Mean absolute error of the prediction is: 0.2553789781593415\n",
      "Mean squared error of the prediction is: 0.10198179217398674\n",
      "Root mean squared error of the prediction is: 0.3193458817238556\n",
      "Mean absolute percentage error of the prediction is: 1.966591469014977\n"
     ]
    }
   ],
   "source": [
    "elasticnet_cv = ElasticNetCV(alphas=alphas, cv=5)\n",
    "\n",
    "elasticnet_cv.fit(X_train, y_train)\n",
    "\n",
    "# We are making predictions here\n",
    "y_preds_train = elasticnet_cv.predict(X_train)\n",
    "y_preds_test = elasticnet_cv.predict(X_test)\n",
    "\n",
    "print(f\"Best alpha value is: {elasticnet_cv.alpha_}\")\n",
    "print(f\"R-squared of the model in training set is: {elasticnet_cv.score(X_train, y_train)}\")\n",
    "print(\"-----Test set statistics-----\")\n",
    "print(f\"R-squared of the model in test set is: {elasticnet_cv.score(X_test, y_test)}\")\n",
    "print(f\"Mean absolute error of the prediction is: {mean_absolute_error(y_test, y_preds_test)}\")\n",
    "print(f\"Mean squared error of the prediction is: {mse(y_test, y_preds_test)}\")\n",
    "print(f\"Root mean squared error of the prediction is: {rmse(y_test, y_preds_test)}\")\n",
    "print(f\"Mean absolute percentage error of the prediction is: {np.mean(np.abs((y_test - y_preds_test) / y_test)) * 100}\")"
   ]
  },
  {
   "cell_type": "markdown",
   "metadata": {},
   "source": [
    "Unfortunately, regularization (ridge, lasso, elasticnet) has not made any real improvements to the model. The R-Squared value for each type of regularization is about the same as the improved model that was constructed after the most basic model. Additionally, error metrics for each regularized model are about the same as the earlier, improved model."
   ]
  },
  {
   "cell_type": "markdown",
   "metadata": {},
   "source": [
    "### Interpreting the Model"
   ]
  },
  {
   "cell_type": "markdown",
   "metadata": {},
   "source": [
    "Now that multiple models have been created and the best model has been selected, it is time to look over the coefficients and draw meaningful conclusions."
   ]
  },
  {
   "cell_type": "code",
   "execution_count": 84,
   "metadata": {},
   "outputs": [
    {
     "data": {
      "text/html": [
       "<table class=\"simpletable\">\n",
       "<caption>OLS Regression Results</caption>\n",
       "<tr>\n",
       "  <th>Dep. Variable:</th>    <td>normalized_price</td> <th>  R-squared:         </th> <td>   0.643</td>\n",
       "</tr>\n",
       "<tr>\n",
       "  <th>Model:</th>                   <td>OLS</td>       <th>  Adj. R-squared:    </th> <td>   0.642</td>\n",
       "</tr>\n",
       "<tr>\n",
       "  <th>Method:</th>             <td>Least Squares</td>  <th>  F-statistic:       </th> <td>   470.6</td>\n",
       "</tr>\n",
       "<tr>\n",
       "  <th>Date:</th>             <td>Mon, 30 Dec 2019</td> <th>  Prob (F-statistic):</th>  <td>  0.00</td> \n",
       "</tr>\n",
       "<tr>\n",
       "  <th>Time:</th>                 <td>07:15:47</td>     <th>  Log-Likelihood:    </th> <td> -4541.1</td>\n",
       "</tr>\n",
       "<tr>\n",
       "  <th>No. Observations:</th>      <td> 17290</td>      <th>  AIC:               </th> <td>   9216.</td>\n",
       "</tr>\n",
       "<tr>\n",
       "  <th>Df Residuals:</th>          <td> 17223</td>      <th>  BIC:               </th> <td>   9736.</td>\n",
       "</tr>\n",
       "<tr>\n",
       "  <th>Df Model:</th>              <td>    66</td>      <th>                     </th>     <td> </td>   \n",
       "</tr>\n",
       "<tr>\n",
       "  <th>Covariance Type:</th>      <td>nonrobust</td>    <th>                     </th>     <td> </td>   \n",
       "</tr>\n",
       "</table>\n",
       "<table class=\"simpletable\">\n",
       "<tr>\n",
       "           <td></td>              <th>coef</th>     <th>std err</th>      <th>t</th>      <th>P>|t|</th>  <th>[0.025</th>    <th>0.975]</th>  \n",
       "</tr>\n",
       "<tr>\n",
       "  <th>const</th>               <td>   11.5959</td> <td>    0.316</td> <td>   36.649</td> <td> 0.000</td> <td>   10.976</td> <td>   12.216</td>\n",
       "</tr>\n",
       "<tr>\n",
       "  <th>sqft_living</th>         <td> 2.131e-05</td> <td> 1.49e-05</td> <td>    1.435</td> <td> 0.151</td> <td> -7.8e-06</td> <td> 5.04e-05</td>\n",
       "</tr>\n",
       "<tr>\n",
       "  <th>winsorized_above</th>    <td> 7.636e-05</td> <td> 1.57e-05</td> <td>    4.868</td> <td> 0.000</td> <td> 4.56e-05</td> <td>    0.000</td>\n",
       "</tr>\n",
       "<tr>\n",
       "  <th>winsorized_basement</th> <td>    0.0001</td> <td> 1.61e-05</td> <td>    9.224</td> <td> 0.000</td> <td>    0.000</td> <td>    0.000</td>\n",
       "</tr>\n",
       "<tr>\n",
       "  <th>sqft_living15</th>       <td>    0.0002</td> <td> 1.45e-05</td> <td>   16.017</td> <td> 0.000</td> <td>    0.000</td> <td>    0.000</td>\n",
       "</tr>\n",
       "<tr>\n",
       "  <th>winsorized_lot15</th>    <td>-9.713e-06</td> <td>  8.7e-07</td> <td>  -11.161</td> <td> 0.000</td> <td>-1.14e-05</td> <td>-8.01e-06</td>\n",
       "</tr>\n",
       "<tr>\n",
       "  <th>area_ratio</th>          <td>    0.1197</td> <td>    0.017</td> <td>    7.140</td> <td> 0.000</td> <td>    0.087</td> <td>    0.153</td>\n",
       "</tr>\n",
       "<tr>\n",
       "  <th>lot_comp</th>            <td>    0.0049</td> <td>    0.002</td> <td>    2.676</td> <td> 0.007</td> <td>    0.001</td> <td>    0.008</td>\n",
       "</tr>\n",
       "<tr>\n",
       "  <th>living_comp</th>         <td>    0.1766</td> <td>    0.024</td> <td>    7.324</td> <td> 0.000</td> <td>    0.129</td> <td>    0.224</td>\n",
       "</tr>\n",
       "<tr>\n",
       "  <th>wins_bed_1</th>          <td>    0.2027</td> <td>    0.157</td> <td>    1.294</td> <td> 0.196</td> <td>   -0.104</td> <td>    0.510</td>\n",
       "</tr>\n",
       "<tr>\n",
       "  <th>wins_bed_2</th>          <td>    0.1911</td> <td>    0.156</td> <td>    1.227</td> <td> 0.220</td> <td>   -0.114</td> <td>    0.496</td>\n",
       "</tr>\n",
       "<tr>\n",
       "  <th>wins_bed_3</th>          <td>    0.0972</td> <td>    0.156</td> <td>    0.624</td> <td> 0.533</td> <td>   -0.208</td> <td>    0.402</td>\n",
       "</tr>\n",
       "<tr>\n",
       "  <th>wins_bed_4</th>          <td>    0.0799</td> <td>    0.156</td> <td>    0.513</td> <td> 0.608</td> <td>   -0.225</td> <td>    0.385</td>\n",
       "</tr>\n",
       "<tr>\n",
       "  <th>cond_2</th>              <td>   -0.0262</td> <td>    0.071</td> <td>   -0.367</td> <td> 0.714</td> <td>   -0.166</td> <td>    0.114</td>\n",
       "</tr>\n",
       "<tr>\n",
       "  <th>cond_3</th>              <td>    0.1057</td> <td>    0.066</td> <td>    1.593</td> <td> 0.111</td> <td>   -0.024</td> <td>    0.236</td>\n",
       "</tr>\n",
       "<tr>\n",
       "  <th>cond_4</th>              <td>    0.1883</td> <td>    0.066</td> <td>    2.836</td> <td> 0.005</td> <td>    0.058</td> <td>    0.318</td>\n",
       "</tr>\n",
       "<tr>\n",
       "  <th>cond_5</th>              <td>    0.2996</td> <td>    0.067</td> <td>    4.485</td> <td> 0.000</td> <td>    0.169</td> <td>    0.430</td>\n",
       "</tr>\n",
       "<tr>\n",
       "  <th>bath_0.5</th>            <td>   -0.2573</td> <td>    0.234</td> <td>   -1.099</td> <td> 0.272</td> <td>   -0.716</td> <td>    0.202</td>\n",
       "</tr>\n",
       "<tr>\n",
       "  <th>bath_0.75</th>           <td>    0.0519</td> <td>    0.177</td> <td>    0.293</td> <td> 0.770</td> <td>   -0.295</td> <td>    0.399</td>\n",
       "</tr>\n",
       "<tr>\n",
       "  <th>bath_1.0</th>            <td>    0.0620</td> <td>    0.173</td> <td>    0.358</td> <td> 0.720</td> <td>   -0.277</td> <td>    0.402</td>\n",
       "</tr>\n",
       "<tr>\n",
       "  <th>bath_1.25</th>           <td>   -0.0250</td> <td>    0.210</td> <td>   -0.119</td> <td> 0.905</td> <td>   -0.437</td> <td>    0.387</td>\n",
       "</tr>\n",
       "<tr>\n",
       "  <th>bath_1.5</th>            <td>    0.0238</td> <td>    0.173</td> <td>    0.137</td> <td> 0.891</td> <td>   -0.316</td> <td>    0.364</td>\n",
       "</tr>\n",
       "<tr>\n",
       "  <th>bath_1.75</th>           <td>    0.0462</td> <td>    0.173</td> <td>    0.267</td> <td> 0.790</td> <td>   -0.293</td> <td>    0.386</td>\n",
       "</tr>\n",
       "<tr>\n",
       "  <th>bath_2.0</th>            <td>    0.0343</td> <td>    0.173</td> <td>    0.198</td> <td> 0.843</td> <td>   -0.305</td> <td>    0.374</td>\n",
       "</tr>\n",
       "<tr>\n",
       "  <th>bath_2.25</th>           <td>    0.0248</td> <td>    0.173</td> <td>    0.143</td> <td> 0.886</td> <td>   -0.315</td> <td>    0.365</td>\n",
       "</tr>\n",
       "<tr>\n",
       "  <th>bath_2.5</th>            <td>   -0.0329</td> <td>    0.173</td> <td>   -0.190</td> <td> 0.849</td> <td>   -0.372</td> <td>    0.307</td>\n",
       "</tr>\n",
       "<tr>\n",
       "  <th>bath_2.75</th>           <td>    0.0018</td> <td>    0.173</td> <td>    0.010</td> <td> 0.992</td> <td>   -0.338</td> <td>    0.342</td>\n",
       "</tr>\n",
       "<tr>\n",
       "  <th>bath_3.0</th>            <td>    0.0350</td> <td>    0.174</td> <td>    0.201</td> <td> 0.840</td> <td>   -0.305</td> <td>    0.375</td>\n",
       "</tr>\n",
       "<tr>\n",
       "  <th>bath_3.25</th>           <td>    0.0612</td> <td>    0.174</td> <td>    0.352</td> <td> 0.725</td> <td>   -0.280</td> <td>    0.402</td>\n",
       "</tr>\n",
       "<tr>\n",
       "  <th>bath_3.5</th>            <td>    0.0138</td> <td>    0.174</td> <td>    0.079</td> <td> 0.937</td> <td>   -0.327</td> <td>    0.354</td>\n",
       "</tr>\n",
       "<tr>\n",
       "  <th>bath_3.75</th>           <td>    0.1379</td> <td>    0.176</td> <td>    0.785</td> <td> 0.432</td> <td>   -0.206</td> <td>    0.482</td>\n",
       "</tr>\n",
       "<tr>\n",
       "  <th>bath_4.0</th>            <td>    0.0886</td> <td>    0.176</td> <td>    0.504</td> <td> 0.614</td> <td>   -0.256</td> <td>    0.433</td>\n",
       "</tr>\n",
       "<tr>\n",
       "  <th>bath_4.25</th>           <td>    0.0996</td> <td>    0.178</td> <td>    0.559</td> <td> 0.576</td> <td>   -0.250</td> <td>    0.449</td>\n",
       "</tr>\n",
       "<tr>\n",
       "  <th>bath_4.5</th>            <td>    0.0522</td> <td>    0.177</td> <td>    0.295</td> <td> 0.768</td> <td>   -0.295</td> <td>    0.400</td>\n",
       "</tr>\n",
       "<tr>\n",
       "  <th>bath_4.75</th>           <td>    0.1956</td> <td>    0.191</td> <td>    1.023</td> <td> 0.307</td> <td>   -0.179</td> <td>    0.571</td>\n",
       "</tr>\n",
       "<tr>\n",
       "  <th>bath_5.0</th>            <td>    0.1031</td> <td>    0.191</td> <td>    0.539</td> <td> 0.590</td> <td>   -0.272</td> <td>    0.478</td>\n",
       "</tr>\n",
       "<tr>\n",
       "  <th>bath_5.25</th>           <td>    0.2583</td> <td>    0.197</td> <td>    1.313</td> <td> 0.189</td> <td>   -0.127</td> <td>    0.644</td>\n",
       "</tr>\n",
       "<tr>\n",
       "  <th>bath_5.5</th>            <td>    0.1569</td> <td>    0.206</td> <td>    0.762</td> <td> 0.446</td> <td>   -0.247</td> <td>    0.560</td>\n",
       "</tr>\n",
       "<tr>\n",
       "  <th>bath_5.75</th>           <td>   -0.1888</td> <td>    0.255</td> <td>   -0.741</td> <td> 0.458</td> <td>   -0.688</td> <td>    0.310</td>\n",
       "</tr>\n",
       "<tr>\n",
       "  <th>bath_6.0</th>            <td>    0.7029</td> <td>    0.286</td> <td>    2.456</td> <td> 0.014</td> <td>    0.142</td> <td>    1.264</td>\n",
       "</tr>\n",
       "<tr>\n",
       "  <th>bath_6.25</th>           <td>    0.8125</td> <td>    0.364</td> <td>    2.233</td> <td> 0.026</td> <td>    0.099</td> <td>    1.526</td>\n",
       "</tr>\n",
       "<tr>\n",
       "  <th>bath_6.5</th>            <td>    0.1092</td> <td>    0.285</td> <td>    0.384</td> <td> 0.701</td> <td>   -0.449</td> <td>    0.667</td>\n",
       "</tr>\n",
       "<tr>\n",
       "  <th>bath_6.75</th>           <td>   -0.3750</td> <td>    0.287</td> <td>   -1.307</td> <td> 0.191</td> <td>   -0.938</td> <td>    0.188</td>\n",
       "</tr>\n",
       "<tr>\n",
       "  <th>bath_7.5</th>            <td>   -0.1352</td> <td>    0.360</td> <td>   -0.375</td> <td> 0.708</td> <td>   -0.842</td> <td>    0.571</td>\n",
       "</tr>\n",
       "<tr>\n",
       "  <th>bath_7.75</th>           <td> 2.776e-16</td> <td> 2.26e-15</td> <td>    0.123</td> <td> 0.902</td> <td>-4.16e-15</td> <td> 4.71e-15</td>\n",
       "</tr>\n",
       "<tr>\n",
       "  <th>bath_8.0</th>            <td>    0.3374</td> <td>    0.387</td> <td>    0.873</td> <td> 0.383</td> <td>   -0.420</td> <td>    1.095</td>\n",
       "</tr>\n",
       "<tr>\n",
       "  <th>floor_1.5</th>           <td>    0.1548</td> <td>    0.009</td> <td>   16.486</td> <td> 0.000</td> <td>    0.136</td> <td>    0.173</td>\n",
       "</tr>\n",
       "<tr>\n",
       "  <th>floor_2.0</th>           <td>   -0.0317</td> <td>    0.009</td> <td>   -3.578</td> <td> 0.000</td> <td>   -0.049</td> <td>   -0.014</td>\n",
       "</tr>\n",
       "<tr>\n",
       "  <th>floor_2.5</th>           <td>    0.1047</td> <td>    0.030</td> <td>    3.532</td> <td> 0.000</td> <td>    0.047</td> <td>    0.163</td>\n",
       "</tr>\n",
       "<tr>\n",
       "  <th>floor_3.0</th>           <td>    0.0370</td> <td>    0.020</td> <td>    1.863</td> <td> 0.063</td> <td>   -0.002</td> <td>    0.076</td>\n",
       "</tr>\n",
       "<tr>\n",
       "  <th>floor_3.5</th>           <td>    0.2115</td> <td>    0.122</td> <td>    1.734</td> <td> 0.083</td> <td>   -0.028</td> <td>    0.451</td>\n",
       "</tr>\n",
       "<tr>\n",
       "  <th>water_1</th>             <td>    0.3492</td> <td>    0.035</td> <td>   10.101</td> <td> 0.000</td> <td>    0.281</td> <td>    0.417</td>\n",
       "</tr>\n",
       "<tr>\n",
       "  <th>view_1</th>              <td>    0.1836</td> <td>    0.019</td> <td>    9.437</td> <td> 0.000</td> <td>    0.145</td> <td>    0.222</td>\n",
       "</tr>\n",
       "<tr>\n",
       "  <th>view_2</th>              <td>    0.1064</td> <td>    0.012</td> <td>    8.864</td> <td> 0.000</td> <td>    0.083</td> <td>    0.130</td>\n",
       "</tr>\n",
       "<tr>\n",
       "  <th>view_3</th>              <td>    0.1076</td> <td>    0.016</td> <td>    6.645</td> <td> 0.000</td> <td>    0.076</td> <td>    0.139</td>\n",
       "</tr>\n",
       "<tr>\n",
       "  <th>view_4</th>              <td>    0.2582</td> <td>    0.025</td> <td>   10.319</td> <td> 0.000</td> <td>    0.209</td> <td>    0.307</td>\n",
       "</tr>\n",
       "<tr>\n",
       "  <th>grade_3</th>             <td>   -0.1341</td> <td>    0.393</td> <td>   -0.342</td> <td> 0.733</td> <td>   -0.904</td> <td>    0.635</td>\n",
       "</tr>\n",
       "<tr>\n",
       "  <th>grade_4</th>             <td>   -0.2595</td> <td>    0.358</td> <td>   -0.725</td> <td> 0.468</td> <td>   -0.961</td> <td>    0.442</td>\n",
       "</tr>\n",
       "<tr>\n",
       "  <th>grade_5</th>             <td>   -0.1611</td> <td>    0.353</td> <td>   -0.456</td> <td> 0.648</td> <td>   -0.853</td> <td>    0.531</td>\n",
       "</tr>\n",
       "<tr>\n",
       "  <th>grade_6</th>             <td>    0.0121</td> <td>    0.353</td> <td>    0.034</td> <td> 0.973</td> <td>   -0.679</td> <td>    0.703</td>\n",
       "</tr>\n",
       "<tr>\n",
       "  <th>grade_7</th>             <td>    0.2166</td> <td>    0.352</td> <td>    0.614</td> <td> 0.539</td> <td>   -0.474</td> <td>    0.907</td>\n",
       "</tr>\n",
       "<tr>\n",
       "  <th>grade_8</th>             <td>    0.3960</td> <td>    0.353</td> <td>    1.123</td> <td> 0.261</td> <td>   -0.295</td> <td>    1.087</td>\n",
       "</tr>\n",
       "<tr>\n",
       "  <th>grade_9</th>             <td>    0.5968</td> <td>    0.353</td> <td>    1.692</td> <td> 0.091</td> <td>   -0.095</td> <td>    1.288</td>\n",
       "</tr>\n",
       "<tr>\n",
       "  <th>grade_10</th>            <td>    0.7664</td> <td>    0.353</td> <td>    2.171</td> <td> 0.030</td> <td>    0.075</td> <td>    1.458</td>\n",
       "</tr>\n",
       "<tr>\n",
       "  <th>grade_11</th>            <td>    0.8711</td> <td>    0.353</td> <td>    2.465</td> <td> 0.014</td> <td>    0.178</td> <td>    1.564</td>\n",
       "</tr>\n",
       "<tr>\n",
       "  <th>grade_12</th>            <td>    1.0404</td> <td>    0.356</td> <td>    2.925</td> <td> 0.003</td> <td>    0.343</td> <td>    1.737</td>\n",
       "</tr>\n",
       "<tr>\n",
       "  <th>grade_13</th>            <td>    1.1893</td> <td>    0.372</td> <td>    3.195</td> <td> 0.001</td> <td>    0.460</td> <td>    1.919</td>\n",
       "</tr>\n",
       "<tr>\n",
       "  <th>reno_1.0</th>            <td>    0.1929</td> <td>    0.012</td> <td>   15.993</td> <td> 0.000</td> <td>    0.169</td> <td>    0.216</td>\n",
       "</tr>\n",
       "</table>\n",
       "<table class=\"simpletable\">\n",
       "<tr>\n",
       "  <th>Omnibus:</th>       <td> 7.106</td> <th>  Durbin-Watson:     </th> <td>   1.992</td>\n",
       "</tr>\n",
       "<tr>\n",
       "  <th>Prob(Omnibus):</th> <td> 0.029</td> <th>  Jarque-Bera (JB):  </th> <td>   7.159</td>\n",
       "</tr>\n",
       "<tr>\n",
       "  <th>Skew:</th>          <td>-0.040</td> <th>  Prob(JB):          </th> <td>  0.0279</td>\n",
       "</tr>\n",
       "<tr>\n",
       "  <th>Kurtosis:</th>      <td> 3.059</td> <th>  Cond. No.          </th> <td>1.11e+16</td>\n",
       "</tr>\n",
       "</table><br/><br/>Warnings:<br/>[1] Standard Errors assume that the covariance matrix of the errors is correctly specified.<br/>[2] The smallest eigenvalue is 1.4e-20. This might indicate that there are<br/>strong multicollinearity problems or that the design matrix is singular."
      ],
      "text/plain": [
       "<class 'statsmodels.iolib.summary.Summary'>\n",
       "\"\"\"\n",
       "                            OLS Regression Results                            \n",
       "==============================================================================\n",
       "Dep. Variable:       normalized_price   R-squared:                       0.643\n",
       "Model:                            OLS   Adj. R-squared:                  0.642\n",
       "Method:                 Least Squares   F-statistic:                     470.6\n",
       "Date:                Mon, 30 Dec 2019   Prob (F-statistic):               0.00\n",
       "Time:                        07:15:47   Log-Likelihood:                -4541.1\n",
       "No. Observations:               17290   AIC:                             9216.\n",
       "Df Residuals:                   17223   BIC:                             9736.\n",
       "Df Model:                          66                                         \n",
       "Covariance Type:            nonrobust                                         \n",
       "=======================================================================================\n",
       "                          coef    std err          t      P>|t|      [0.025      0.975]\n",
       "---------------------------------------------------------------------------------------\n",
       "const                  11.5959      0.316     36.649      0.000      10.976      12.216\n",
       "sqft_living          2.131e-05   1.49e-05      1.435      0.151    -7.8e-06    5.04e-05\n",
       "winsorized_above     7.636e-05   1.57e-05      4.868      0.000    4.56e-05       0.000\n",
       "winsorized_basement     0.0001   1.61e-05      9.224      0.000       0.000       0.000\n",
       "sqft_living15           0.0002   1.45e-05     16.017      0.000       0.000       0.000\n",
       "winsorized_lot15    -9.713e-06    8.7e-07    -11.161      0.000   -1.14e-05   -8.01e-06\n",
       "area_ratio              0.1197      0.017      7.140      0.000       0.087       0.153\n",
       "lot_comp                0.0049      0.002      2.676      0.007       0.001       0.008\n",
       "living_comp             0.1766      0.024      7.324      0.000       0.129       0.224\n",
       "wins_bed_1              0.2027      0.157      1.294      0.196      -0.104       0.510\n",
       "wins_bed_2              0.1911      0.156      1.227      0.220      -0.114       0.496\n",
       "wins_bed_3              0.0972      0.156      0.624      0.533      -0.208       0.402\n",
       "wins_bed_4              0.0799      0.156      0.513      0.608      -0.225       0.385\n",
       "cond_2                 -0.0262      0.071     -0.367      0.714      -0.166       0.114\n",
       "cond_3                  0.1057      0.066      1.593      0.111      -0.024       0.236\n",
       "cond_4                  0.1883      0.066      2.836      0.005       0.058       0.318\n",
       "cond_5                  0.2996      0.067      4.485      0.000       0.169       0.430\n",
       "bath_0.5               -0.2573      0.234     -1.099      0.272      -0.716       0.202\n",
       "bath_0.75               0.0519      0.177      0.293      0.770      -0.295       0.399\n",
       "bath_1.0                0.0620      0.173      0.358      0.720      -0.277       0.402\n",
       "bath_1.25              -0.0250      0.210     -0.119      0.905      -0.437       0.387\n",
       "bath_1.5                0.0238      0.173      0.137      0.891      -0.316       0.364\n",
       "bath_1.75               0.0462      0.173      0.267      0.790      -0.293       0.386\n",
       "bath_2.0                0.0343      0.173      0.198      0.843      -0.305       0.374\n",
       "bath_2.25               0.0248      0.173      0.143      0.886      -0.315       0.365\n",
       "bath_2.5               -0.0329      0.173     -0.190      0.849      -0.372       0.307\n",
       "bath_2.75               0.0018      0.173      0.010      0.992      -0.338       0.342\n",
       "bath_3.0                0.0350      0.174      0.201      0.840      -0.305       0.375\n",
       "bath_3.25               0.0612      0.174      0.352      0.725      -0.280       0.402\n",
       "bath_3.5                0.0138      0.174      0.079      0.937      -0.327       0.354\n",
       "bath_3.75               0.1379      0.176      0.785      0.432      -0.206       0.482\n",
       "bath_4.0                0.0886      0.176      0.504      0.614      -0.256       0.433\n",
       "bath_4.25               0.0996      0.178      0.559      0.576      -0.250       0.449\n",
       "bath_4.5                0.0522      0.177      0.295      0.768      -0.295       0.400\n",
       "bath_4.75               0.1956      0.191      1.023      0.307      -0.179       0.571\n",
       "bath_5.0                0.1031      0.191      0.539      0.590      -0.272       0.478\n",
       "bath_5.25               0.2583      0.197      1.313      0.189      -0.127       0.644\n",
       "bath_5.5                0.1569      0.206      0.762      0.446      -0.247       0.560\n",
       "bath_5.75              -0.1888      0.255     -0.741      0.458      -0.688       0.310\n",
       "bath_6.0                0.7029      0.286      2.456      0.014       0.142       1.264\n",
       "bath_6.25               0.8125      0.364      2.233      0.026       0.099       1.526\n",
       "bath_6.5                0.1092      0.285      0.384      0.701      -0.449       0.667\n",
       "bath_6.75              -0.3750      0.287     -1.307      0.191      -0.938       0.188\n",
       "bath_7.5               -0.1352      0.360     -0.375      0.708      -0.842       0.571\n",
       "bath_7.75            2.776e-16   2.26e-15      0.123      0.902   -4.16e-15    4.71e-15\n",
       "bath_8.0                0.3374      0.387      0.873      0.383      -0.420       1.095\n",
       "floor_1.5               0.1548      0.009     16.486      0.000       0.136       0.173\n",
       "floor_2.0              -0.0317      0.009     -3.578      0.000      -0.049      -0.014\n",
       "floor_2.5               0.1047      0.030      3.532      0.000       0.047       0.163\n",
       "floor_3.0               0.0370      0.020      1.863      0.063      -0.002       0.076\n",
       "floor_3.5               0.2115      0.122      1.734      0.083      -0.028       0.451\n",
       "water_1                 0.3492      0.035     10.101      0.000       0.281       0.417\n",
       "view_1                  0.1836      0.019      9.437      0.000       0.145       0.222\n",
       "view_2                  0.1064      0.012      8.864      0.000       0.083       0.130\n",
       "view_3                  0.1076      0.016      6.645      0.000       0.076       0.139\n",
       "view_4                  0.2582      0.025     10.319      0.000       0.209       0.307\n",
       "grade_3                -0.1341      0.393     -0.342      0.733      -0.904       0.635\n",
       "grade_4                -0.2595      0.358     -0.725      0.468      -0.961       0.442\n",
       "grade_5                -0.1611      0.353     -0.456      0.648      -0.853       0.531\n",
       "grade_6                 0.0121      0.353      0.034      0.973      -0.679       0.703\n",
       "grade_7                 0.2166      0.352      0.614      0.539      -0.474       0.907\n",
       "grade_8                 0.3960      0.353      1.123      0.261      -0.295       1.087\n",
       "grade_9                 0.5968      0.353      1.692      0.091      -0.095       1.288\n",
       "grade_10                0.7664      0.353      2.171      0.030       0.075       1.458\n",
       "grade_11                0.8711      0.353      2.465      0.014       0.178       1.564\n",
       "grade_12                1.0404      0.356      2.925      0.003       0.343       1.737\n",
       "grade_13                1.1893      0.372      3.195      0.001       0.460       1.919\n",
       "reno_1.0                0.1929      0.012     15.993      0.000       0.169       0.216\n",
       "==============================================================================\n",
       "Omnibus:                        7.106   Durbin-Watson:                   1.992\n",
       "Prob(Omnibus):                  0.029   Jarque-Bera (JB):                7.159\n",
       "Skew:                          -0.040   Prob(JB):                       0.0279\n",
       "Kurtosis:                       3.059   Cond. No.                     1.11e+16\n",
       "==============================================================================\n",
       "\n",
       "Warnings:\n",
       "[1] Standard Errors assume that the covariance matrix of the errors is correctly specified.\n",
       "[2] The smallest eigenvalue is 1.4e-20. This might indicate that there are\n",
       "strong multicollinearity problems or that the design matrix is singular.\n",
       "\"\"\""
      ]
     },
     "execution_count": 84,
     "metadata": {},
     "output_type": "execute_result"
    }
   ],
   "source": [
    "X = house_data[['sqft_living','winsorized_above','winsorized_basement','sqft_living15','winsorized_lot15','area_ratio','lot_comp','living_comp']+dummy_column_names]\n",
    "Y = house_data['normalized_price']\n",
    "\n",
    "X = sm.add_constant(X)\n",
    "\n",
    "X_train, X_test, y_train, y_test = train_test_split(X, Y, test_size = 0.2, random_state = 465)\n",
    "\n",
    "results = sm.OLS(y_train, X_train).fit()\n",
    "\n",
    "results.summary()"
   ]
  },
  {
   "cell_type": "markdown",
   "metadata": {},
   "source": [
    "From the above `summary` call, each feature's coefficient can be seen. Because the target variable has been log transformed, none of the coefficients can be particularly large, but it is interesting to note that many of them are very small. When talking about houses and the determining factors behind price, people generally suggest that location and total area are important. From the model, square footage has a very low coefficient (.00002131) and a p-value of .151. Since square footage is generally a large number (houses often have thousands of square feet), the low coefficient makes sense, but the p-value is a bit surprising.\n",
    "\n",
    "The effect of location on house price is difficult to interpret from this model, since many of the variables that may comprise location are spread out over many dummy variables. That being said, the sqft_living15 and winsorized_lot15 provide some insight into location (larger houses are likely to be surrounded by large neighbors). For every thousand square feet of average living room space in neighboring houses, log transformed price will increase by .2. Similarly, for every thousand square feet of average lot space in neighboring houses, log transformed price decreases by .009.\n",
    "\n",
    "For the constructed variables, when houses have large living-to-lot ratios (area_ratio feature), overall price will be higher, and when houses have smaller living-to-lot ratios, price will be lower. Additionally, when living space is greater than that of surrounding neighbors (living_comp feature), price will be higher, and when it is lower, price will be lower. These takeaways match intuitions, but it is interesting to note that lot space is less of a determining factor than living space (lot_comp feature)."
   ]
  },
  {
   "cell_type": "markdown",
   "metadata": {},
   "source": [
    "### Further Work"
   ]
  },
  {
   "cell_type": "markdown",
   "metadata": {},
   "source": [
    "The models that have been constructed for the purposes of this capstone have done a decent job of predicting the target variable, housing price. That being said, there is still room for improvement, especially if more data is added to the dataset. Potential candidates for additional data that would help the predictive power of models are: opening ask price, number of days the house was on the market, closing sale prices of surrounding houses, and interest rates on mortgages. These pieces of data would almost certainly make for more accurate predictive models."
   ]
  },
  {
   "cell_type": "markdown",
   "metadata": {},
   "source": [
    "### Conclusion"
   ]
  },
  {
   "cell_type": "markdown",
   "metadata": {},
   "source": [
    "Predicting housing data is of great value to a variety of people: realtors and buyers want to get the best deals, while companies like Zillow are looking to shake up the industry by providing a quick and painless way to sell one's own home. Having a model that can accurately predict housing prices is incredibly valuable. The models constructed for this capstone do a decent job of making predictions and can be viewed as a good start to a much more powerful end goal. It is, however, important to note that doing such prediction is incredibly difficult. The market crash of 2008 deeply affected the housing industry and invalidated many pricing models simply because people could no longer afford the houses that they lived in. Constant changes in key factors in people's lives will greatly affect their abilities to purchase houses."
   ]
  }
 ],
 "metadata": {
  "kernelspec": {
   "display_name": "Python 3",
   "language": "python",
   "name": "python3"
  },
  "language_info": {
   "codemirror_mode": {
    "name": "ipython",
    "version": 3
   },
   "file_extension": ".py",
   "mimetype": "text/x-python",
   "name": "python",
   "nbconvert_exporter": "python",
   "pygments_lexer": "ipython3",
   "version": "3.7.3"
  }
 },
 "nbformat": 4,
 "nbformat_minor": 2
}
